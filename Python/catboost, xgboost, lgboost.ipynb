{
 "cells": [
  {
   "cell_type": "markdown",
   "id": "24d0a36e",
   "metadata": {
    "papermill": {
     "duration": 0.008207,
     "end_time": "2023-03-18T04:27:04.000611",
     "exception": false,
     "start_time": "2023-03-18T04:27:03.992404",
     "status": "completed"
    },
    "tags": []
   },
   "source": [
    "# Import Libraries"
   ]
  },
  {
   "cell_type": "code",
   "execution_count": 1,
   "id": "eeacff0c",
   "metadata": {
    "_cell_guid": "b1076dfc-b9ad-4769-8c92-a6c4dae69d19",
    "_uuid": "8f2839f25d086af736a60e9eeb907d3b93b6e0e5",
    "execution": {
     "iopub.execute_input": "2023-03-18T04:27:04.016746Z",
     "iopub.status.busy": "2023-03-18T04:27:04.016003Z",
     "iopub.status.idle": "2023-03-18T04:27:04.025068Z",
     "shell.execute_reply": "2023-03-18T04:27:04.024210Z"
    },
    "papermill": {
     "duration": 0.019866,
     "end_time": "2023-03-18T04:27:04.027392",
     "exception": false,
     "start_time": "2023-03-18T04:27:04.007526",
     "status": "completed"
    },
    "tags": []
   },
   "outputs": [],
   "source": [
    "import numpy as np \n",
    "import pandas as pd "
   ]
  },
  {
   "cell_type": "code",
   "execution_count": 2,
   "id": "7792b08c",
   "metadata": {
    "execution": {
     "iopub.execute_input": "2023-03-18T04:27:04.042925Z",
     "iopub.status.busy": "2023-03-18T04:27:04.042264Z",
     "iopub.status.idle": "2023-03-18T04:27:04.438636Z",
     "shell.execute_reply": "2023-03-18T04:27:04.437540Z"
    },
    "papermill": {
     "duration": 0.407005,
     "end_time": "2023-03-18T04:27:04.441183",
     "exception": false,
     "start_time": "2023-03-18T04:27:04.034178",
     "status": "completed"
    },
    "tags": []
   },
   "outputs": [
    {
     "data": {
      "text/html": [
       "<div>\n",
       "<style scoped>\n",
       "    .dataframe tbody tr th:only-of-type {\n",
       "        vertical-align: middle;\n",
       "    }\n",
       "\n",
       "    .dataframe tbody tr th {\n",
       "        vertical-align: top;\n",
       "    }\n",
       "\n",
       "    .dataframe thead th {\n",
       "        text-align: right;\n",
       "    }\n",
       "</style>\n",
       "<table border=\"1\" class=\"dataframe\">\n",
       "  <thead>\n",
       "    <tr style=\"text-align: right;\">\n",
       "      <th></th>\n",
       "      <th>id</th>\n",
       "      <th>Mean_Integrated</th>\n",
       "      <th>SD</th>\n",
       "      <th>EK</th>\n",
       "      <th>Skewness</th>\n",
       "      <th>Mean_DMSNR_Curve</th>\n",
       "      <th>SD_DMSNR_Curve</th>\n",
       "      <th>EK_DMSNR_Curve</th>\n",
       "      <th>Skewness_DMSNR_Curve</th>\n",
       "      <th>Class</th>\n",
       "    </tr>\n",
       "  </thead>\n",
       "  <tbody>\n",
       "    <tr>\n",
       "      <th>0</th>\n",
       "      <td>0</td>\n",
       "      <td>133.171875</td>\n",
       "      <td>59.716081</td>\n",
       "      <td>0.043133</td>\n",
       "      <td>-0.703383</td>\n",
       "      <td>54.917224</td>\n",
       "      <td>70.084438</td>\n",
       "      <td>0.749798</td>\n",
       "      <td>-0.649512</td>\n",
       "      <td>0</td>\n",
       "    </tr>\n",
       "    <tr>\n",
       "      <th>1</th>\n",
       "      <td>1</td>\n",
       "      <td>87.093750</td>\n",
       "      <td>36.257973</td>\n",
       "      <td>0.435469</td>\n",
       "      <td>2.266057</td>\n",
       "      <td>3.417224</td>\n",
       "      <td>21.865069</td>\n",
       "      <td>7.039330</td>\n",
       "      <td>52.686251</td>\n",
       "      <td>0</td>\n",
       "    </tr>\n",
       "    <tr>\n",
       "      <th>2</th>\n",
       "      <td>2</td>\n",
       "      <td>112.640625</td>\n",
       "      <td>39.818393</td>\n",
       "      <td>0.379639</td>\n",
       "      <td>0.922306</td>\n",
       "      <td>2.730769</td>\n",
       "      <td>15.689690</td>\n",
       "      <td>8.193471</td>\n",
       "      <td>85.649785</td>\n",
       "      <td>0</td>\n",
       "    </tr>\n",
       "    <tr>\n",
       "      <th>3</th>\n",
       "      <td>3</td>\n",
       "      <td>120.679688</td>\n",
       "      <td>45.918448</td>\n",
       "      <td>-0.098490</td>\n",
       "      <td>0.011775</td>\n",
       "      <td>2.696488</td>\n",
       "      <td>20.954662</td>\n",
       "      <td>8.183874</td>\n",
       "      <td>70.332899</td>\n",
       "      <td>0</td>\n",
       "    </tr>\n",
       "    <tr>\n",
       "      <th>4</th>\n",
       "      <td>4</td>\n",
       "      <td>134.070312</td>\n",
       "      <td>57.720107</td>\n",
       "      <td>-0.107772</td>\n",
       "      <td>-0.573335</td>\n",
       "      <td>1.107860</td>\n",
       "      <td>11.255051</td>\n",
       "      <td>16.107748</td>\n",
       "      <td>308.753765</td>\n",
       "      <td>0</td>\n",
       "    </tr>\n",
       "  </tbody>\n",
       "</table>\n",
       "</div>"
      ],
      "text/plain": [
       "   id  Mean_Integrated         SD        EK  Skewness  Mean_DMSNR_Curve  \\\n",
       "0   0       133.171875  59.716081  0.043133 -0.703383         54.917224   \n",
       "1   1        87.093750  36.257973  0.435469  2.266057          3.417224   \n",
       "2   2       112.640625  39.818393  0.379639  0.922306          2.730769   \n",
       "3   3       120.679688  45.918448 -0.098490  0.011775          2.696488   \n",
       "4   4       134.070312  57.720107 -0.107772 -0.573335          1.107860   \n",
       "\n",
       "   SD_DMSNR_Curve  EK_DMSNR_Curve  Skewness_DMSNR_Curve  Class  \n",
       "0       70.084438        0.749798             -0.649512      0  \n",
       "1       21.865069        7.039330             52.686251      0  \n",
       "2       15.689690        8.193471             85.649785      0  \n",
       "3       20.954662        8.183874             70.332899      0  \n",
       "4       11.255051       16.107748            308.753765      0  "
      ]
     },
     "execution_count": 2,
     "metadata": {},
     "output_type": "execute_result"
    }
   ],
   "source": [
    "train_df=pd.read_csv(\"/kaggle/input/playground-series-s3e10/train.csv\")\n",
    "train_df.head()"
   ]
  },
  {
   "cell_type": "code",
   "execution_count": 3,
   "id": "fccafccf",
   "metadata": {
    "execution": {
     "iopub.execute_input": "2023-03-18T04:27:04.457396Z",
     "iopub.status.busy": "2023-03-18T04:27:04.457009Z",
     "iopub.status.idle": "2023-03-18T04:27:04.470650Z",
     "shell.execute_reply": "2023-03-18T04:27:04.469402Z"
    },
    "papermill": {
     "duration": 0.0247,
     "end_time": "2023-03-18T04:27:04.473121",
     "exception": false,
     "start_time": "2023-03-18T04:27:04.448421",
     "status": "completed"
    },
    "tags": []
   },
   "outputs": [
    {
     "data": {
      "text/plain": [
       "array([0, 1])"
      ]
     },
     "execution_count": 3,
     "metadata": {},
     "output_type": "execute_result"
    }
   ],
   "source": [
    "# Checking how many classes are there in the label column\n",
    "train_df[\"Class\"].unique()"
   ]
  },
  {
   "cell_type": "markdown",
   "id": "c792d12a",
   "metadata": {
    "papermill": {
     "duration": 0.007065,
     "end_time": "2023-03-18T04:27:04.487461",
     "exception": false,
     "start_time": "2023-03-18T04:27:04.480396",
     "status": "completed"
    },
    "tags": []
   },
   "source": [
    "# Check for NA values"
   ]
  },
  {
   "cell_type": "code",
   "execution_count": 4,
   "id": "67772122",
   "metadata": {
    "execution": {
     "iopub.execute_input": "2023-03-18T04:27:04.503952Z",
     "iopub.status.busy": "2023-03-18T04:27:04.503568Z",
     "iopub.status.idle": "2023-03-18T04:27:04.516191Z",
     "shell.execute_reply": "2023-03-18T04:27:04.515088Z"
    },
    "papermill": {
     "duration": 0.024037,
     "end_time": "2023-03-18T04:27:04.518697",
     "exception": false,
     "start_time": "2023-03-18T04:27:04.494660",
     "status": "completed"
    },
    "tags": []
   },
   "outputs": [
    {
     "data": {
      "text/plain": [
       "id                      0\n",
       "Mean_Integrated         0\n",
       "SD                      0\n",
       "EK                      0\n",
       "Skewness                0\n",
       "Mean_DMSNR_Curve        0\n",
       "SD_DMSNR_Curve          0\n",
       "EK_DMSNR_Curve          0\n",
       "Skewness_DMSNR_Curve    0\n",
       "Class                   0\n",
       "dtype: int64"
      ]
     },
     "execution_count": 4,
     "metadata": {},
     "output_type": "execute_result"
    }
   ],
   "source": [
    "train_df.isna().sum()"
   ]
  },
  {
   "cell_type": "markdown",
   "id": "ad932766",
   "metadata": {
    "papermill": {
     "duration": 0.007249,
     "end_time": "2023-03-18T04:27:04.533602",
     "exception": false,
     "start_time": "2023-03-18T04:27:04.526353",
     "status": "completed"
    },
    "tags": []
   },
   "source": [
    "# Train and Test split"
   ]
  },
  {
   "cell_type": "code",
   "execution_count": 5,
   "id": "e18e56eb",
   "metadata": {
    "execution": {
     "iopub.execute_input": "2023-03-18T04:27:04.551980Z",
     "iopub.status.busy": "2023-03-18T04:27:04.551583Z",
     "iopub.status.idle": "2023-03-18T04:27:04.561285Z",
     "shell.execute_reply": "2023-03-18T04:27:04.560022Z"
    },
    "papermill": {
     "duration": 0.02293,
     "end_time": "2023-03-18T04:27:04.563895",
     "exception": false,
     "start_time": "2023-03-18T04:27:04.540965",
     "status": "completed"
    },
    "tags": []
   },
   "outputs": [],
   "source": [
    "X=train_df.drop([\"id\",\"Class\"], axis=1)\n",
    "y=train_df[\"Class\"]"
   ]
  },
  {
   "cell_type": "code",
   "execution_count": 6,
   "id": "fe9c5e7f",
   "metadata": {
    "execution": {
     "iopub.execute_input": "2023-03-18T04:27:04.580628Z",
     "iopub.status.busy": "2023-03-18T04:27:04.580207Z",
     "iopub.status.idle": "2023-03-18T04:27:05.700933Z",
     "shell.execute_reply": "2023-03-18T04:27:05.699924Z"
    },
    "papermill": {
     "duration": 1.132336,
     "end_time": "2023-03-18T04:27:05.703579",
     "exception": false,
     "start_time": "2023-03-18T04:27:04.571243",
     "status": "completed"
    },
    "tags": []
   },
   "outputs": [],
   "source": [
    "from sklearn.model_selection import train_test_split\n",
    "X_train, X_test, y_train, y_test = train_test_split(X,y,random_state=10, test_size=0.25)"
   ]
  },
  {
   "cell_type": "markdown",
   "id": "4b04c7b9",
   "metadata": {
    "papermill": {
     "duration": 0.007014,
     "end_time": "2023-03-18T04:27:05.718261",
     "exception": false,
     "start_time": "2023-03-18T04:27:05.711247",
     "status": "completed"
    },
    "tags": []
   },
   "source": [
    "# Parameters for the models"
   ]
  },
  {
   "cell_type": "code",
   "execution_count": 7,
   "id": "7250035e",
   "metadata": {
    "execution": {
     "iopub.execute_input": "2023-03-18T04:27:05.735309Z",
     "iopub.status.busy": "2023-03-18T04:27:05.734212Z",
     "iopub.status.idle": "2023-03-18T04:27:05.740976Z",
     "shell.execute_reply": "2023-03-18T04:27:05.740176Z"
    },
    "papermill": {
     "duration": 0.017787,
     "end_time": "2023-03-18T04:27:05.743240",
     "exception": false,
     "start_time": "2023-03-18T04:27:05.725453",
     "status": "completed"
    },
    "tags": []
   },
   "outputs": [],
   "source": [
    "# Parameters for XGBoost, LGBoost \n",
    "param_dist = {\"max_depth\": [10,30],\n",
    "              \"min_child_weight\" : [1,3],\n",
    "              \"n_estimators\": [20],\n",
    "              \"learning_rate\": [0.05, 0.1]}\n",
    "\n",
    "#Parameters for Catboost\n",
    "params = {'depth': [4, 7],\n",
    "          'learning_rate' : [0.03, 0.1],\n",
    "         'l2_leaf_reg': [1,4],\n",
    "         'iterations': [10]}"
   ]
  },
  {
   "cell_type": "markdown",
   "id": "ddb76fa6",
   "metadata": {
    "papermill": {
     "duration": 0.006963,
     "end_time": "2023-03-18T04:27:05.757503",
     "exception": false,
     "start_time": "2023-03-18T04:27:05.750540",
     "status": "completed"
    },
    "tags": []
   },
   "source": [
    "# XGBoost"
   ]
  },
  {
   "cell_type": "code",
   "execution_count": 8,
   "id": "261a6b59",
   "metadata": {
    "execution": {
     "iopub.execute_input": "2023-03-18T04:27:05.774328Z",
     "iopub.status.busy": "2023-03-18T04:27:05.773678Z",
     "iopub.status.idle": "2023-03-18T04:27:35.163276Z",
     "shell.execute_reply": "2023-03-18T04:27:35.162042Z"
    },
    "papermill": {
     "duration": 29.4013,
     "end_time": "2023-03-18T04:27:35.166205",
     "exception": false,
     "start_time": "2023-03-18T04:27:05.764905",
     "status": "completed"
    },
    "tags": []
   },
   "outputs": [
    {
     "name": "stdout",
     "output_type": "stream",
     "text": [
      "Fitting 3 folds for each of 8 candidates, totalling 24 fits\n"
     ]
    }
   ],
   "source": [
    "import xgboost as xgb\n",
    "from sklearn import metrics\n",
    "from sklearn.model_selection import GridSearchCV\n",
    "\n",
    "# Parameter Tuning\n",
    "model = xgb.XGBClassifier()\n",
    "\n",
    "grid_search = GridSearchCV(model, param_grid=param_dist, cv = 3, verbose=10, n_jobs=-1)\n",
    "grid_search.fit(X_train, y_train)\n",
    "\n",
    "xgb_model=grid_search.best_estimator_"
   ]
  },
  {
   "cell_type": "markdown",
   "id": "94fd6371",
   "metadata": {
    "papermill": {
     "duration": 0.00696,
     "end_time": "2023-03-18T04:27:35.182174",
     "exception": false,
     "start_time": "2023-03-18T04:27:35.175214",
     "status": "completed"
    },
    "tags": []
   },
   "source": [
    "Why use GridSearchCV?\n",
    "\n",
    "GridSearchCV can find the optimal set of hyperparameters that give the best performance on the validation data. In contrast, the second block of code uses fixed hyperparameters that may not be the best for the given data.\n",
    "\n",
    "GridSearchCV uses cross-validation to evaluate the performance of the model with different hyperparameters. This helps to prevent overfitting to the training data and provides a more reliable estimate of the model's generalization performance.\n",
    "\n",
    "GridSearchCV searches over a predefined range of hyperparameters, which can be more efficient than manually specifying hyperparameters in the second block of code. Additionally, GridSearchCV can search over a larger range of hyperparameters than what may be manually specified.\n",
    "\n",
    "Finally, GridSearchCV provides a systematic approach to hyperparameter tuning, which can save time and reduce the risk of overlooking important hyperparameters."
   ]
  },
  {
   "cell_type": "markdown",
   "id": "2095149f",
   "metadata": {
    "papermill": {
     "duration": 0.006921,
     "end_time": "2023-03-18T04:27:35.196203",
     "exception": false,
     "start_time": "2023-03-18T04:27:35.189282",
     "status": "completed"
    },
    "tags": []
   },
   "source": [
    "# LGBoost"
   ]
  },
  {
   "cell_type": "code",
   "execution_count": 9,
   "id": "46a8dca4",
   "metadata": {
    "execution": {
     "iopub.execute_input": "2023-03-18T04:27:35.212571Z",
     "iopub.status.busy": "2023-03-18T04:27:35.212137Z",
     "iopub.status.idle": "2023-03-18T04:27:45.702201Z",
     "shell.execute_reply": "2023-03-18T04:27:45.701125Z"
    },
    "papermill": {
     "duration": 10.501804,
     "end_time": "2023-03-18T04:27:45.705080",
     "exception": false,
     "start_time": "2023-03-18T04:27:35.203276",
     "status": "completed"
    },
    "tags": []
   },
   "outputs": [
    {
     "data": {
      "text/html": [
       "<style type='text/css'>\n",
       ".datatable table.frame { margin-bottom: 0; }\n",
       ".datatable table.frame thead { border-bottom: none; }\n",
       ".datatable table.frame tr.coltypes td {  color: #FFFFFF;  line-height: 6px;  padding: 0 0.5em;}\n",
       ".datatable .bool    { background: #DDDD99; }\n",
       ".datatable .object  { background: #565656; }\n",
       ".datatable .int     { background: #5D9E5D; }\n",
       ".datatable .float   { background: #4040CC; }\n",
       ".datatable .str     { background: #CC4040; }\n",
       ".datatable .time    { background: #40CC40; }\n",
       ".datatable .row_index {  background: var(--jp-border-color3);  border-right: 1px solid var(--jp-border-color0);  color: var(--jp-ui-font-color3);  font-size: 9px;}\n",
       ".datatable .frame tbody td { text-align: left; }\n",
       ".datatable .frame tr.coltypes .row_index {  background: var(--jp-border-color0);}\n",
       ".datatable th:nth-child(2) { padding-left: 12px; }\n",
       ".datatable .hellipsis {  color: var(--jp-cell-editor-border-color);}\n",
       ".datatable .vellipsis {  background: var(--jp-layout-color0);  color: var(--jp-cell-editor-border-color);}\n",
       ".datatable .na {  color: var(--jp-cell-editor-border-color);  font-size: 80%;}\n",
       ".datatable .sp {  opacity: 0.25;}\n",
       ".datatable .footer { font-size: 9px; }\n",
       ".datatable .frame_dimensions {  background: var(--jp-border-color3);  border-top: 1px solid var(--jp-border-color0);  color: var(--jp-ui-font-color3);  display: inline-block;  opacity: 0.6;  padding: 1px 10px 1px 5px;}\n",
       "</style>\n"
      ],
      "text/plain": [
       "<IPython.core.display.HTML object>"
      ]
     },
     "metadata": {},
     "output_type": "display_data"
    },
    {
     "name": "stdout",
     "output_type": "stream",
     "text": [
      "Fitting 3 folds for each of 8 candidates, totalling 24 fits\n"
     ]
    }
   ],
   "source": [
    "import lightgbm as lgb\n",
    "\n",
    "lg = lgb.LGBMClassifier()\n",
    "grid_search = GridSearchCV(lg,param_grid=param_dist, cv = 3, scoring=\"roc_auc\", verbose=10, n_jobs=-1)\n",
    "grid_search.fit(X_train,y_train)\n",
    "lg_model=grid_search.best_estimator_"
   ]
  },
  {
   "cell_type": "markdown",
   "id": "efa4ddfc",
   "metadata": {
    "papermill": {
     "duration": 0.007231,
     "end_time": "2023-03-18T04:27:45.720122",
     "exception": false,
     "start_time": "2023-03-18T04:27:45.712891",
     "status": "completed"
    },
    "tags": []
   },
   "source": [
    "# CatBoost"
   ]
  },
  {
   "cell_type": "code",
   "execution_count": 10,
   "id": "f8cd137b",
   "metadata": {
    "execution": {
     "iopub.execute_input": "2023-03-18T04:27:45.737145Z",
     "iopub.status.busy": "2023-03-18T04:27:45.736771Z",
     "iopub.status.idle": "2023-03-18T04:27:50.500811Z",
     "shell.execute_reply": "2023-03-18T04:27:50.497888Z"
    },
    "papermill": {
     "duration": 4.775644,
     "end_time": "2023-03-18T04:27:50.503336",
     "exception": false,
     "start_time": "2023-03-18T04:27:45.727692",
     "status": "completed"
    },
    "tags": []
   },
   "outputs": [
    {
     "name": "stdout",
     "output_type": "stream",
     "text": [
      "Fitting 3 folds for each of 8 candidates, totalling 24 fits\n",
      "[CV 1/3; 1/8] START depth=4, iterations=10, l2_leaf_reg=1, learning_rate=0.03...\n",
      "0:\tlearn: 0.6648013\ttotal: 65.2ms\tremaining: 587ms\n",
      "1:\tlearn: 0.6380585\ttotal: 71ms\tremaining: 284ms\n",
      "2:\tlearn: 0.6129349\ttotal: 76ms\tremaining: 177ms\n",
      "3:\tlearn: 0.5891902\ttotal: 80.7ms\tremaining: 121ms\n",
      "4:\tlearn: 0.5667107\ttotal: 86.5ms\tremaining: 86.5ms\n",
      "5:\tlearn: 0.5454419\ttotal: 91.6ms\tremaining: 61ms\n",
      "6:\tlearn: 0.5252578\ttotal: 97.4ms\tremaining: 41.8ms\n",
      "7:\tlearn: 0.5060859\ttotal: 102ms\tremaining: 25.5ms\n",
      "8:\tlearn: 0.4878145\ttotal: 106ms\tremaining: 11.8ms\n",
      "9:\tlearn: 0.4704742\ttotal: 111ms\tremaining: 0us\n",
      "[CV 1/3; 1/8] END depth=4, iterations=10, l2_leaf_reg=1, learning_rate=0.03;, score=0.994 total time=   0.3s\n",
      "[CV 2/3; 1/8] START depth=4, iterations=10, l2_leaf_reg=1, learning_rate=0.03...\n",
      "0:\tlearn: 0.6646495\ttotal: 4.66ms\tremaining: 41.9ms\n",
      "1:\tlearn: 0.6378295\ttotal: 9.89ms\tremaining: 39.6ms\n",
      "2:\tlearn: 0.6126308\ttotal: 16.5ms\tremaining: 38.6ms\n",
      "3:\tlearn: 0.5887380\ttotal: 20.8ms\tremaining: 31.1ms\n",
      "4:\tlearn: 0.5661892\ttotal: 26.6ms\tremaining: 26.6ms\n",
      "5:\tlearn: 0.5448675\ttotal: 31.7ms\tremaining: 21.2ms\n",
      "6:\tlearn: 0.5245551\ttotal: 36.8ms\tremaining: 15.8ms\n",
      "7:\tlearn: 0.5052549\ttotal: 41.9ms\tremaining: 10.5ms\n",
      "8:\tlearn: 0.4869402\ttotal: 46.9ms\tremaining: 5.22ms\n",
      "9:\tlearn: 0.4695028\ttotal: 52.6ms\tremaining: 0us\n",
      "[CV 2/3; 1/8] END depth=4, iterations=10, l2_leaf_reg=1, learning_rate=0.03;, score=0.993 total time=   0.1s\n",
      "[CV 3/3; 1/8] START depth=4, iterations=10, l2_leaf_reg=1, learning_rate=0.03...\n",
      "0:\tlearn: 0.6647638\ttotal: 7.85ms\tremaining: 70.6ms\n",
      "1:\tlearn: 0.6379910\ttotal: 13.5ms\tremaining: 54ms\n",
      "2:\tlearn: 0.6128307\ttotal: 18.5ms\tremaining: 43.2ms\n",
      "3:\tlearn: 0.5890609\ttotal: 23.5ms\tremaining: 35.2ms\n",
      "4:\tlearn: 0.5664252\ttotal: 28.2ms\tremaining: 28.2ms\n",
      "5:\tlearn: 0.5451305\ttotal: 32.5ms\tremaining: 21.7ms\n",
      "6:\tlearn: 0.5249359\ttotal: 37.7ms\tremaining: 16.1ms\n",
      "7:\tlearn: 0.5057114\ttotal: 43.2ms\tremaining: 10.8ms\n",
      "8:\tlearn: 0.4874090\ttotal: 48.5ms\tremaining: 5.39ms\n",
      "9:\tlearn: 0.4700329\ttotal: 54.2ms\tremaining: 0us\n",
      "[CV 3/3; 1/8] END depth=4, iterations=10, l2_leaf_reg=1, learning_rate=0.03;, score=0.993 total time=   0.1s\n",
      "[CV 1/3; 2/8] START depth=4, iterations=10, l2_leaf_reg=1, learning_rate=0.1....\n",
      "0:\tlearn: 0.6020467\ttotal: 5.88ms\tremaining: 52.9ms\n",
      "1:\tlearn: 0.5273504\ttotal: 12.5ms\tremaining: 50ms\n",
      "2:\tlearn: 0.4653739\ttotal: 18.1ms\tremaining: 42.2ms\n",
      "3:\tlearn: 0.4129473\ttotal: 22.6ms\tremaining: 34ms\n",
      "4:\tlearn: 0.3681839\ttotal: 27.2ms\tremaining: 27.2ms\n",
      "5:\tlearn: 0.3298017\ttotal: 31.5ms\tremaining: 21ms\n",
      "6:\tlearn: 0.2965034\ttotal: 35.9ms\tremaining: 15.4ms\n",
      "7:\tlearn: 0.2673398\ttotal: 40.5ms\tremaining: 10.1ms\n",
      "8:\tlearn: 0.2417860\ttotal: 44.9ms\tremaining: 4.98ms\n",
      "9:\tlearn: 0.2194678\ttotal: 49.5ms\tremaining: 0us\n",
      "[CV 1/3; 2/8] END depth=4, iterations=10, l2_leaf_reg=1, learning_rate=0.1;, score=0.993 total time=   0.1s\n",
      "[CV 2/3; 2/8] START depth=4, iterations=10, l2_leaf_reg=1, learning_rate=0.1....\n",
      "0:\tlearn: 0.6015526\ttotal: 5.97ms\tremaining: 53.7ms\n",
      "1:\tlearn: 0.5266590\ttotal: 11.8ms\tremaining: 47.3ms\n",
      "2:\tlearn: 0.4644966\ttotal: 16.7ms\tremaining: 38.9ms\n",
      "3:\tlearn: 0.4116946\ttotal: 21.8ms\tremaining: 32.7ms\n",
      "4:\tlearn: 0.3665107\ttotal: 27.9ms\tremaining: 27.9ms\n",
      "5:\tlearn: 0.3280054\ttotal: 32.2ms\tremaining: 21.5ms\n",
      "6:\tlearn: 0.2944488\ttotal: 36.4ms\tremaining: 15.6ms\n",
      "7:\tlearn: 0.2650959\ttotal: 41.9ms\tremaining: 10.5ms\n",
      "8:\tlearn: 0.2394827\ttotal: 47.4ms\tremaining: 5.26ms\n",
      "9:\tlearn: 0.2170497\ttotal: 53.2ms\tremaining: 0us\n",
      "[CV 2/3; 2/8] END depth=4, iterations=10, l2_leaf_reg=1, learning_rate=0.1;, score=0.993 total time=   0.1s\n",
      "[CV 3/3; 2/8] START depth=4, iterations=10, l2_leaf_reg=1, learning_rate=0.1....\n",
      "0:\tlearn: 0.6019515\ttotal: 4.7ms\tremaining: 42.3ms\n",
      "1:\tlearn: 0.5271495\ttotal: 9.31ms\tremaining: 37.2ms\n",
      "2:\tlearn: 0.4650585\ttotal: 13.4ms\tremaining: 31.2ms\n",
      "3:\tlearn: 0.4125906\ttotal: 17.5ms\tremaining: 26.3ms\n",
      "4:\tlearn: 0.3674165\ttotal: 22.7ms\tremaining: 22.7ms\n",
      "5:\tlearn: 0.3287262\ttotal: 27ms\tremaining: 18ms\n",
      "6:\tlearn: 0.2954506\ttotal: 31.2ms\tremaining: 13.4ms\n",
      "7:\tlearn: 0.2662581\ttotal: 35.6ms\tremaining: 8.89ms\n",
      "8:\tlearn: 0.2406583\ttotal: 40.2ms\tremaining: 4.47ms\n",
      "9:\tlearn: 0.2183322\ttotal: 44.8ms\tremaining: 0us\n",
      "[CV 3/3; 2/8] END depth=4, iterations=10, l2_leaf_reg=1, learning_rate=0.1;, score=0.993 total time=   0.1s\n",
      "[CV 1/3; 3/8] START depth=4, iterations=10, l2_leaf_reg=4, learning_rate=0.03...\n",
      "0:\tlearn: 0.6648307\ttotal: 4.84ms\tremaining: 43.6ms\n",
      "1:\tlearn: 0.6381381\ttotal: 9.75ms\tremaining: 39ms\n",
      "2:\tlearn: 0.6130556\ttotal: 14.6ms\tremaining: 34.2ms\n",
      "3:\tlearn: 0.5893302\ttotal: 21.8ms\tremaining: 32.7ms\n",
      "4:\tlearn: 0.5668803\ttotal: 28.2ms\tremaining: 28.2ms\n",
      "5:\tlearn: 0.5456479\ttotal: 32.5ms\tremaining: 21.7ms\n",
      "6:\tlearn: 0.5254785\ttotal: 36.9ms\tremaining: 15.8ms\n",
      "7:\tlearn: 0.5063136\ttotal: 41.5ms\tremaining: 10.4ms\n",
      "8:\tlearn: 0.4880597\ttotal: 45.8ms\tremaining: 5.09ms\n",
      "9:\tlearn: 0.4707290\ttotal: 50.3ms\tremaining: 0us\n",
      "[CV 1/3; 3/8] END depth=4, iterations=10, l2_leaf_reg=4, learning_rate=0.03;, score=0.993 total time=   0.1s\n",
      "[CV 2/3; 3/8] START depth=4, iterations=10, l2_leaf_reg=4, learning_rate=0.03...\n",
      "0:\tlearn: 0.6646882\ttotal: 4.73ms\tremaining: 42.6ms\n",
      "1:\tlearn: 0.6379118\ttotal: 9.19ms\tremaining: 36.8ms\n",
      "2:\tlearn: 0.6127611\ttotal: 14ms\tremaining: 32.7ms\n",
      "3:\tlearn: 0.5888775\ttotal: 18.9ms\tremaining: 28.3ms\n",
      "4:\tlearn: 0.5663654\ttotal: 24.5ms\tremaining: 24.5ms\n",
      "5:\tlearn: 0.5450744\ttotal: 29.6ms\tremaining: 19.8ms\n",
      "6:\tlearn: 0.5247760\ttotal: 34.7ms\tremaining: 14.9ms\n",
      "7:\tlearn: 0.5054928\ttotal: 43.5ms\tremaining: 10.9ms\n",
      "8:\tlearn: 0.4871888\ttotal: 47.8ms\tremaining: 5.31ms\n",
      "9:\tlearn: 0.4697658\ttotal: 53.5ms\tremaining: 0us\n",
      "[CV 2/3; 3/8] END depth=4, iterations=10, l2_leaf_reg=4, learning_rate=0.03;, score=0.993 total time=   0.1s\n",
      "[CV 3/3; 3/8] START depth=4, iterations=10, l2_leaf_reg=4, learning_rate=0.03...\n",
      "0:\tlearn: 0.6648095\ttotal: 5.88ms\tremaining: 52.9ms\n",
      "1:\tlearn: 0.6380716\ttotal: 10.6ms\tremaining: 42.6ms\n",
      "2:\tlearn: 0.6129613\ttotal: 14.9ms\tremaining: 34.7ms\n",
      "3:\tlearn: 0.5891975\ttotal: 19.2ms\tremaining: 28.9ms\n",
      "4:\tlearn: 0.5665977\ttotal: 25.1ms\tremaining: 25.1ms\n",
      "5:\tlearn: 0.5453276\ttotal: 30.4ms\tremaining: 20.3ms\n",
      "6:\tlearn: 0.5251443\ttotal: 35.8ms\tremaining: 15.4ms\n",
      "7:\tlearn: 0.5059372\ttotal: 41.5ms\tremaining: 10.4ms\n",
      "8:\tlearn: 0.4876467\ttotal: 46.9ms\tremaining: 5.21ms\n",
      "9:\tlearn: 0.4702868\ttotal: 51.6ms\tremaining: 0us\n",
      "[CV 3/3; 3/8] END depth=4, iterations=10, l2_leaf_reg=4, learning_rate=0.03;, score=0.993 total time=   0.1s\n",
      "[CV 1/3; 4/8] START depth=4, iterations=10, l2_leaf_reg=4, learning_rate=0.1....\n",
      "0:\tlearn: 0.6021881\ttotal: 5.9ms\tremaining: 53.1ms\n",
      "1:\tlearn: 0.5275794\ttotal: 15ms\tremaining: 60.1ms\n",
      "2:\tlearn: 0.4656471\ttotal: 20.7ms\tremaining: 48.3ms\n",
      "3:\tlearn: 0.4132569\ttotal: 26ms\tremaining: 39ms\n",
      "4:\tlearn: 0.3682579\ttotal: 31.8ms\tremaining: 31.8ms\n",
      "5:\tlearn: 0.3298950\ttotal: 37.3ms\tremaining: 24.9ms\n",
      "6:\tlearn: 0.2966236\ttotal: 41.6ms\tremaining: 17.8ms\n",
      "7:\tlearn: 0.2675019\ttotal: 46ms\tremaining: 11.5ms\n",
      "8:\tlearn: 0.2419476\ttotal: 50.4ms\tremaining: 5.6ms\n",
      "9:\tlearn: 0.2196623\ttotal: 56ms\tremaining: 0us\n",
      "[CV 1/3; 4/8] END depth=4, iterations=10, l2_leaf_reg=4, learning_rate=0.1;, score=0.994 total time=   0.1s\n",
      "[CV 2/3; 4/8] START depth=4, iterations=10, l2_leaf_reg=4, learning_rate=0.1....\n",
      "0:\tlearn: 0.6016981\ttotal: 4.69ms\tremaining: 42.2ms\n",
      "1:\tlearn: 0.5268917\ttotal: 9.03ms\tremaining: 36.1ms\n",
      "2:\tlearn: 0.4647829\ttotal: 13ms\tremaining: 30.4ms\n",
      "3:\tlearn: 0.4120123\ttotal: 17.3ms\tremaining: 25.9ms\n",
      "4:\tlearn: 0.3668513\ttotal: 22ms\tremaining: 22ms\n",
      "5:\tlearn: 0.3283727\ttotal: 26.3ms\tremaining: 17.5ms\n",
      "6:\tlearn: 0.2948155\ttotal: 30.6ms\tremaining: 13.1ms\n",
      "7:\tlearn: 0.2654678\ttotal: 35ms\tremaining: 8.75ms\n",
      "8:\tlearn: 0.2398559\ttotal: 39.5ms\tremaining: 4.39ms\n",
      "9:\tlearn: 0.2174207\ttotal: 44.1ms\tremaining: 0us\n",
      "[CV 2/3; 4/8] END depth=4, iterations=10, l2_leaf_reg=4, learning_rate=0.1;, score=0.993 total time=   0.1s\n",
      "[CV 3/3; 4/8] START depth=4, iterations=10, l2_leaf_reg=4, learning_rate=0.1....\n",
      "0:\tlearn: 0.6020799\ttotal: 8.39ms\tremaining: 75.5ms\n",
      "1:\tlearn: 0.5273720\ttotal: 20.7ms\tremaining: 82.9ms\n",
      "2:\tlearn: 0.4653518\ttotal: 28.7ms\tremaining: 66.9ms\n",
      "3:\tlearn: 0.4128959\ttotal: 34.7ms\tremaining: 52ms\n",
      "4:\tlearn: 0.3677472\ttotal: 41.7ms\tremaining: 41.7ms\n",
      "5:\tlearn: 0.3290754\ttotal: 49.2ms\tremaining: 32.8ms\n",
      "6:\tlearn: 0.2958026\ttotal: 55.7ms\tremaining: 23.9ms\n",
      "7:\tlearn: 0.2666132\ttotal: 62.4ms\tremaining: 15.6ms\n",
      "8:\tlearn: 0.2410223\ttotal: 68.4ms\tremaining: 7.6ms\n",
      "9:\tlearn: 0.2186941\ttotal: 76ms\tremaining: 0us\n",
      "[CV 3/3; 4/8] END depth=4, iterations=10, l2_leaf_reg=4, learning_rate=0.1;, score=0.993 total time=   0.2s\n",
      "[CV 1/3; 5/8] START depth=7, iterations=10, l2_leaf_reg=1, learning_rate=0.03...\n",
      "0:\tlearn: 0.6648208\ttotal: 11.4ms\tremaining: 102ms\n",
      "1:\tlearn: 0.6380191\ttotal: 21.8ms\tremaining: 87.3ms\n",
      "2:\tlearn: 0.6128790\ttotal: 31.5ms\tremaining: 73.5ms\n",
      "3:\tlearn: 0.5890950\ttotal: 39.9ms\tremaining: 59.8ms\n",
      "4:\tlearn: 0.5666496\ttotal: 46.9ms\tremaining: 46.9ms\n",
      "5:\tlearn: 0.5453500\ttotal: 54.3ms\tremaining: 36.2ms\n",
      "6:\tlearn: 0.5250804\ttotal: 63ms\tremaining: 27ms\n",
      "7:\tlearn: 0.5058284\ttotal: 72.3ms\tremaining: 18.1ms\n",
      "8:\tlearn: 0.4875210\ttotal: 82.1ms\tremaining: 9.12ms\n",
      "9:\tlearn: 0.4701459\ttotal: 90.2ms\tremaining: 0us\n",
      "[CV 1/3; 5/8] END depth=7, iterations=10, l2_leaf_reg=1, learning_rate=0.03;, score=0.995 total time=   0.2s\n",
      "[CV 2/3; 5/8] START depth=7, iterations=10, l2_leaf_reg=1, learning_rate=0.03...\n",
      "0:\tlearn: 0.6646657\ttotal: 10.1ms\tremaining: 90.8ms\n",
      "1:\tlearn: 0.6377707\ttotal: 18.2ms\tremaining: 72.8ms\n",
      "2:\tlearn: 0.6125568\ttotal: 25.5ms\tremaining: 59.5ms\n",
      "3:\tlearn: 0.5887087\ttotal: 37.5ms\tremaining: 56.2ms\n",
      "4:\tlearn: 0.5661221\ttotal: 45.6ms\tremaining: 45.6ms\n",
      "5:\tlearn: 0.5447156\ttotal: 54.5ms\tremaining: 36.3ms\n",
      "6:\tlearn: 0.5243644\ttotal: 63.8ms\tremaining: 27.3ms\n",
      "7:\tlearn: 0.5050052\ttotal: 72.3ms\tremaining: 18.1ms\n",
      "8:\tlearn: 0.4866056\ttotal: 80ms\tremaining: 8.89ms\n",
      "9:\tlearn: 0.4691349\ttotal: 88.6ms\tremaining: 0us\n",
      "[CV 2/3; 5/8] END depth=7, iterations=10, l2_leaf_reg=1, learning_rate=0.03;, score=0.994 total time=   0.2s\n",
      "[CV 3/3; 5/8] START depth=7, iterations=10, l2_leaf_reg=1, learning_rate=0.03...\n",
      "0:\tlearn: 0.6647865\ttotal: 9.57ms\tremaining: 86.2ms\n",
      "1:\tlearn: 0.6379170\ttotal: 20.5ms\tremaining: 81.8ms\n",
      "2:\tlearn: 0.6127319\ttotal: 29.9ms\tremaining: 69.7ms\n",
      "3:\tlearn: 0.5889137\ttotal: 39.5ms\tremaining: 59.3ms\n",
      "4:\tlearn: 0.5664303\ttotal: 48.2ms\tremaining: 48.2ms\n",
      "5:\tlearn: 0.5451006\ttotal: 55.9ms\tremaining: 37.3ms\n",
      "6:\tlearn: 0.5247867\ttotal: 66.3ms\tremaining: 28.4ms\n",
      "7:\tlearn: 0.5054721\ttotal: 73.9ms\tremaining: 18.5ms\n",
      "8:\tlearn: 0.4870973\ttotal: 81.7ms\tremaining: 9.07ms\n",
      "9:\tlearn: 0.4697144\ttotal: 89.1ms\tremaining: 0us\n",
      "[CV 3/3; 5/8] END depth=7, iterations=10, l2_leaf_reg=1, learning_rate=0.03;, score=0.994 total time=   0.2s\n",
      "[CV 1/3; 6/8] START depth=7, iterations=10, l2_leaf_reg=1, learning_rate=0.1....\n",
      "0:\tlearn: 0.6021249\ttotal: 7.77ms\tremaining: 70ms\n",
      "1:\tlearn: 0.5272024\ttotal: 17.5ms\tremaining: 70.1ms\n",
      "2:\tlearn: 0.4649747\ttotal: 31.4ms\tremaining: 73.3ms\n",
      "3:\tlearn: 0.4124740\ttotal: 41.5ms\tremaining: 62.2ms\n",
      "4:\tlearn: 0.3676488\ttotal: 51.3ms\tremaining: 51.3ms\n",
      "5:\tlearn: 0.3290965\ttotal: 60.1ms\tremaining: 40.1ms\n",
      "6:\tlearn: 0.2954744\ttotal: 67.3ms\tremaining: 28.8ms\n",
      "7:\tlearn: 0.2661706\ttotal: 74.6ms\tremaining: 18.6ms\n",
      "8:\tlearn: 0.2405213\ttotal: 82ms\tremaining: 9.11ms\n",
      "9:\tlearn: 0.2181188\ttotal: 91.6ms\tremaining: 0us\n",
      "[CV 1/3; 6/8] END depth=7, iterations=10, l2_leaf_reg=1, learning_rate=0.1;, score=0.995 total time=   0.2s\n",
      "[CV 2/3; 6/8] START depth=7, iterations=10, l2_leaf_reg=1, learning_rate=0.1....\n",
      "0:\tlearn: 0.6016335\ttotal: 8.02ms\tremaining: 72.2ms\n",
      "1:\tlearn: 0.5264586\ttotal: 17.9ms\tremaining: 71.6ms\n",
      "2:\tlearn: 0.4640554\ttotal: 27ms\tremaining: 63ms\n",
      "3:\tlearn: 0.4114017\ttotal: 37ms\tremaining: 55.4ms\n",
      "4:\tlearn: 0.3663112\ttotal: 44.6ms\tremaining: 44.6ms\n",
      "5:\tlearn: 0.3275465\ttotal: 53.4ms\tremaining: 35.6ms\n",
      "6:\tlearn: 0.2937540\ttotal: 61.2ms\tremaining: 26.2ms\n",
      "7:\tlearn: 0.2642723\ttotal: 70.9ms\tremaining: 17.7ms\n",
      "8:\tlearn: 0.2384083\ttotal: 80.7ms\tremaining: 8.97ms\n",
      "9:\tlearn: 0.2159117\ttotal: 89.3ms\tremaining: 0us\n",
      "[CV 2/3; 6/8] END depth=7, iterations=10, l2_leaf_reg=1, learning_rate=0.1;, score=0.995 total time=   0.2s\n",
      "[CV 3/3; 6/8] START depth=7, iterations=10, l2_leaf_reg=1, learning_rate=0.1....\n",
      "0:\tlearn: 0.6020202\ttotal: 7.67ms\tremaining: 69ms\n",
      "1:\tlearn: 0.5269036\ttotal: 15.5ms\tremaining: 62ms\n",
      "2:\tlearn: 0.4645381\ttotal: 22.8ms\tremaining: 53.2ms\n",
      "3:\tlearn: 0.4119616\ttotal: 32.7ms\tremaining: 49ms\n",
      "4:\tlearn: 0.3670329\ttotal: 40.2ms\tremaining: 40.2ms\n",
      "5:\tlearn: 0.3284383\ttotal: 47.7ms\tremaining: 31.8ms\n",
      "6:\tlearn: 0.2946954\ttotal: 54.9ms\tremaining: 23.5ms\n",
      "7:\tlearn: 0.2653384\ttotal: 62.1ms\tremaining: 15.5ms\n",
      "8:\tlearn: 0.2396300\ttotal: 69.8ms\tremaining: 7.76ms\n",
      "9:\tlearn: 0.2171887\ttotal: 77.2ms\tremaining: 0us\n",
      "[CV 3/3; 6/8] END depth=7, iterations=10, l2_leaf_reg=1, learning_rate=0.1;, score=0.994 total time=   0.2s\n",
      "[CV 1/3; 7/8] START depth=7, iterations=10, l2_leaf_reg=4, learning_rate=0.03...\n",
      "0:\tlearn: 0.6649643\ttotal: 9.77ms\tremaining: 88ms\n",
      "1:\tlearn: 0.6382906\ttotal: 20ms\tremaining: 80ms\n",
      "2:\tlearn: 0.6132487\ttotal: 29.7ms\tremaining: 69.3ms\n",
      "3:\tlearn: 0.5895685\ttotal: 38.5ms\tremaining: 57.7ms\n",
      "4:\tlearn: 0.5672095\ttotal: 45.4ms\tremaining: 45.4ms\n",
      "5:\tlearn: 0.5460029\ttotal: 52.7ms\tremaining: 35.2ms\n",
      "6:\tlearn: 0.5257777\ttotal: 59.9ms\tremaining: 25.7ms\n",
      "7:\tlearn: 0.5065859\ttotal: 67.2ms\tremaining: 16.8ms\n",
      "8:\tlearn: 0.4883025\ttotal: 75.5ms\tremaining: 8.39ms\n",
      "9:\tlearn: 0.4709655\ttotal: 84.4ms\tremaining: 0us\n",
      "[CV 1/3; 7/8] END depth=7, iterations=10, l2_leaf_reg=4, learning_rate=0.03;, score=0.995 total time=   0.2s\n",
      "[CV 2/3; 7/8] START depth=7, iterations=10, l2_leaf_reg=4, learning_rate=0.03...\n",
      "0:\tlearn: 0.6648148\ttotal: 8.3ms\tremaining: 74.7ms\n",
      "1:\tlearn: 0.6380463\ttotal: 16ms\tremaining: 64ms\n",
      "2:\tlearn: 0.6129306\ttotal: 25.5ms\tremaining: 59.4ms\n",
      "3:\tlearn: 0.5891903\ttotal: 36.3ms\tremaining: 54.4ms\n",
      "4:\tlearn: 0.5666987\ttotal: 47ms\tremaining: 47ms\n",
      "5:\tlearn: 0.5453523\ttotal: 56.1ms\tremaining: 37.4ms\n",
      "6:\tlearn: 0.5250692\ttotal: 65.2ms\tremaining: 27.9ms\n",
      "7:\tlearn: 0.5057686\ttotal: 74.3ms\tremaining: 18.6ms\n",
      "8:\tlearn: 0.4874277\ttotal: 84.5ms\tremaining: 9.39ms\n",
      "9:\tlearn: 0.4699958\ttotal: 93.8ms\tremaining: 0us\n",
      "[CV 2/3; 7/8] END depth=7, iterations=10, l2_leaf_reg=4, learning_rate=0.03;, score=0.994 total time=   0.2s\n",
      "[CV 3/3; 7/8] START depth=7, iterations=10, l2_leaf_reg=4, learning_rate=0.03...\n",
      "0:\tlearn: 0.6649310\ttotal: 8.79ms\tremaining: 79.1ms\n",
      "1:\tlearn: 0.6381894\ttotal: 16.6ms\tremaining: 66.3ms\n",
      "2:\tlearn: 0.6131068\ttotal: 26ms\tremaining: 60.6ms\n",
      "3:\tlearn: 0.5893914\ttotal: 35.8ms\tremaining: 53.7ms\n",
      "4:\tlearn: 0.5669911\ttotal: 47.6ms\tremaining: 47.6ms\n",
      "5:\tlearn: 0.5457420\ttotal: 63.7ms\tremaining: 42.5ms\n",
      "6:\tlearn: 0.5254493\ttotal: 79.3ms\tremaining: 34ms\n",
      "7:\tlearn: 0.5061687\ttotal: 93.7ms\tremaining: 23.4ms\n",
      "8:\tlearn: 0.4878537\ttotal: 119ms\tremaining: 13.2ms\n",
      "9:\tlearn: 0.4705110\ttotal: 130ms\tremaining: 0us\n",
      "[CV 3/3; 7/8] END depth=7, iterations=10, l2_leaf_reg=4, learning_rate=0.03;, score=0.994 total time=   0.2s\n",
      "[CV 1/3; 8/8] START depth=7, iterations=10, l2_leaf_reg=4, learning_rate=0.1....\n",
      "0:\tlearn: 0.6025819\ttotal: 10.7ms\tremaining: 96ms\n",
      "1:\tlearn: 0.5279513\ttotal: 22.8ms\tremaining: 91.2ms\n",
      "2:\tlearn: 0.4658374\ttotal: 36.4ms\tremaining: 84.9ms\n",
      "3:\tlearn: 0.4134839\ttotal: 47.1ms\tremaining: 70.6ms\n",
      "4:\tlearn: 0.3687768\ttotal: 57.3ms\tremaining: 57.3ms\n",
      "5:\tlearn: 0.3302908\ttotal: 67.7ms\tremaining: 45.2ms\n",
      "6:\tlearn: 0.2966176\ttotal: 80.8ms\tremaining: 34.6ms\n",
      "7:\tlearn: 0.2673663\ttotal: 91.5ms\tremaining: 22.9ms\n",
      "8:\tlearn: 0.2417266\ttotal: 103ms\tremaining: 11.4ms\n",
      "9:\tlearn: 0.2193401\ttotal: 113ms\tremaining: 0us\n",
      "[CV 1/3; 8/8] END depth=7, iterations=10, l2_leaf_reg=4, learning_rate=0.1;, score=0.995 total time=   0.2s\n",
      "[CV 2/3; 8/8] START depth=7, iterations=10, l2_leaf_reg=4, learning_rate=0.1....\n",
      "0:\tlearn: 0.6021016\ttotal: 11.2ms\tremaining: 101ms\n",
      "1:\tlearn: 0.5272129\ttotal: 24.3ms\tremaining: 97.1ms\n",
      "2:\tlearn: 0.4649311\ttotal: 34.9ms\tremaining: 81.4ms\n",
      "3:\tlearn: 0.4124265\ttotal: 45.3ms\tremaining: 68ms\n",
      "4:\tlearn: 0.3674126\ttotal: 55.3ms\tremaining: 55.3ms\n",
      "5:\tlearn: 0.3286783\ttotal: 67.4ms\tremaining: 44.9ms\n",
      "6:\tlearn: 0.2948595\ttotal: 78.7ms\tremaining: 33.7ms\n",
      "7:\tlearn: 0.2653999\ttotal: 91.3ms\tremaining: 22.8ms\n",
      "8:\tlearn: 0.2395628\ttotal: 102ms\tremaining: 11.3ms\n",
      "9:\tlearn: 0.2170531\ttotal: 112ms\tremaining: 0us\n",
      "[CV 2/3; 8/8] END depth=7, iterations=10, l2_leaf_reg=4, learning_rate=0.1;, score=0.994 total time=   0.2s\n",
      "[CV 3/3; 8/8] START depth=7, iterations=10, l2_leaf_reg=4, learning_rate=0.1....\n",
      "0:\tlearn: 0.6024694\ttotal: 13.9ms\tremaining: 125ms\n",
      "1:\tlearn: 0.5276472\ttotal: 25ms\tremaining: 100ms\n",
      "2:\tlearn: 0.4654061\ttotal: 35.8ms\tremaining: 83.5ms\n",
      "3:\tlearn: 0.4129733\ttotal: 46.5ms\tremaining: 69.8ms\n",
      "4:\tlearn: 0.3681615\ttotal: 56.5ms\tremaining: 56.5ms\n",
      "5:\tlearn: 0.3296344\ttotal: 66.9ms\tremaining: 44.6ms\n",
      "6:\tlearn: 0.2958429\ttotal: 76.8ms\tremaining: 32.9ms\n",
      "7:\tlearn: 0.2664616\ttotal: 86.8ms\tremaining: 21.7ms\n",
      "8:\tlearn: 0.2407819\ttotal: 97.6ms\tremaining: 10.8ms\n",
      "9:\tlearn: 0.2183088\ttotal: 108ms\tremaining: 0us\n",
      "[CV 3/3; 8/8] END depth=7, iterations=10, l2_leaf_reg=4, learning_rate=0.1;, score=0.994 total time=   0.2s\n",
      "0:\tlearn: 0.6018679\ttotal: 16.4ms\tremaining: 147ms\n",
      "1:\tlearn: 0.5267490\ttotal: 32.3ms\tremaining: 129ms\n",
      "2:\tlearn: 0.4643975\ttotal: 45.5ms\tremaining: 106ms\n",
      "3:\tlearn: 0.4117887\ttotal: 60ms\tremaining: 90ms\n",
      "4:\tlearn: 0.3668297\ttotal: 73.1ms\tremaining: 73.1ms\n",
      "5:\tlearn: 0.3281727\ttotal: 92.9ms\tremaining: 61.9ms\n",
      "6:\tlearn: 0.2944891\ttotal: 118ms\tremaining: 50.4ms\n",
      "7:\tlearn: 0.2650939\ttotal: 131ms\tremaining: 32.7ms\n",
      "8:\tlearn: 0.2392905\ttotal: 145ms\tremaining: 16.1ms\n",
      "9:\tlearn: 0.2168835\ttotal: 159ms\tremaining: 0us\n"
     ]
    }
   ],
   "source": [
    "import catboost as cb\n",
    "cb = cb.CatBoostClassifier()\n",
    "grid_search = GridSearchCV(cb, params, scoring=\"roc_auc\", cv = 3, verbose=10, n_jobs=-1)\n",
    "grid_search.fit(X_train, y_train)\n",
    "cb_model=grid_search.best_estimator_"
   ]
  },
  {
   "cell_type": "markdown",
   "id": "0c92df4d",
   "metadata": {
    "papermill": {
     "duration": 0.012417,
     "end_time": "2023-03-18T04:27:50.526906",
     "exception": false,
     "start_time": "2023-03-18T04:27:50.514489",
     "status": "completed"
    },
    "tags": []
   },
   "source": [
    "# Prediction (Confusion matrix, Accuracy and Precision)"
   ]
  },
  {
   "cell_type": "code",
   "execution_count": 11,
   "id": "5e7917cf",
   "metadata": {
    "execution": {
     "iopub.execute_input": "2023-03-18T04:27:50.547555Z",
     "iopub.status.busy": "2023-03-18T04:27:50.547113Z",
     "iopub.status.idle": "2023-03-18T04:27:50.554343Z",
     "shell.execute_reply": "2023-03-18T04:27:50.553168Z"
    },
    "papermill": {
     "duration": 0.020621,
     "end_time": "2023-03-18T04:27:50.557075",
     "exception": false,
     "start_time": "2023-03-18T04:27:50.536454",
     "status": "completed"
    },
    "tags": []
   },
   "outputs": [],
   "source": [
    "import matplotlib.pyplot as plt\n",
    "accu=[]\n",
    "preci=[]\n",
    "def pred(model):\n",
    "    pred = model.predict(X_test)\n",
    "    confusion_matrix = metrics.confusion_matrix(y_test, pred)\n",
    "    cm_display = metrics.ConfusionMatrixDisplay(confusion_matrix = confusion_matrix, display_labels = [0,1])\n",
    "    cm_display.plot()\n",
    "    plt.show()\n",
    "    acc=metrics.accuracy_score(y_test, pred)\n",
    "    prec=metrics.precision_score(y_test, pred)\n",
    "    accu.append(acc)\n",
    "    preci.append(prec)"
   ]
  },
  {
   "cell_type": "code",
   "execution_count": 12,
   "id": "704e44d0",
   "metadata": {
    "execution": {
     "iopub.execute_input": "2023-03-18T04:27:50.578007Z",
     "iopub.status.busy": "2023-03-18T04:27:50.577595Z",
     "iopub.status.idle": "2023-03-18T04:27:50.930859Z",
     "shell.execute_reply": "2023-03-18T04:27:50.929594Z"
    },
    "papermill": {
     "duration": 0.367382,
     "end_time": "2023-03-18T04:27:50.933773",
     "exception": false,
     "start_time": "2023-03-18T04:27:50.566391",
     "status": "completed"
    },
    "tags": []
   },
   "outputs": [
    {
     "data": {
      "image/png": "[encoded data removed]",
      "text/plain": [
       "<Figure size 640x480 with 2 Axes>"
      ]
     },
     "metadata": {},
     "output_type": "display_data"
    }
   ],
   "source": [
    "pred(xgb_model)"
   ]
  },
  {
   "cell_type": "code",
   "execution_count": 13,
   "id": "0c6c9ead",
   "metadata": {
    "execution": {
     "iopub.execute_input": "2023-03-18T04:27:50.955536Z",
     "iopub.status.busy": "2023-03-18T04:27:50.955111Z",
     "iopub.status.idle": "2023-03-18T04:27:51.242196Z",
     "shell.execute_reply": "2023-03-18T04:27:51.241007Z"
    },
    "papermill": {
     "duration": 0.30123,
     "end_time": "2023-03-18T04:27:51.244952",
     "exception": false,
     "start_time": "2023-03-18T04:27:50.943722",
     "status": "completed"
    },
    "tags": []
   },
   "outputs": [
    {
     "data": {
      "image/png": "[encoded data removed]",
      "text/plain": [
       "<Figure size 640x480 with 2 Axes>"
      ]
     },
     "metadata": {},
     "output_type": "display_data"
    }
   ],
   "source": [
    "pred(lg_model)"
   ]
  },
  {
   "cell_type": "code",
   "execution_count": 14,
   "id": "ff5b3750",
   "metadata": {
    "execution": {
     "iopub.execute_input": "2023-03-18T04:27:51.267450Z",
     "iopub.status.busy": "2023-03-18T04:27:51.267009Z",
     "iopub.status.idle": "2023-03-18T04:27:51.553628Z",
     "shell.execute_reply": "2023-03-18T04:27:51.552616Z"
    },
    "papermill": {
     "duration": 0.301179,
     "end_time": "2023-03-18T04:27:51.556446",
     "exception": false,
     "start_time": "2023-03-18T04:27:51.255267",
     "status": "completed"
    },
    "tags": []
   },
   "outputs": [
    {
     "data": {
      "image/png": "[encoded data removed]",
      "text/plain": [
       "<Figure size 640x480 with 2 Axes>"
      ]
     },
     "metadata": {},
     "output_type": "display_data"
    }
   ],
   "source": [
    "pred(cb_model)"
   ]
  },
  {
   "cell_type": "markdown",
   "id": "47570135",
   "metadata": {
    "papermill": {
     "duration": 0.010061,
     "end_time": "2023-03-18T04:27:51.577175",
     "exception": false,
     "start_time": "2023-03-18T04:27:51.567114",
     "status": "completed"
    },
    "tags": []
   },
   "source": [
    "# Comparing the models"
   ]
  },
  {
   "cell_type": "code",
   "execution_count": 15,
   "id": "81923ea1",
   "metadata": {
    "execution": {
     "iopub.execute_input": "2023-03-18T04:27:51.600014Z",
     "iopub.status.busy": "2023-03-18T04:27:51.599590Z",
     "iopub.status.idle": "2023-03-18T04:27:51.789255Z",
     "shell.execute_reply": "2023-03-18T04:27:51.788108Z"
    },
    "papermill": {
     "duration": 0.204584,
     "end_time": "2023-03-18T04:27:51.792475",
     "exception": false,
     "start_time": "2023-03-18T04:27:51.587891",
     "status": "completed"
    },
    "tags": []
   },
   "outputs": [
    {
     "name": "stdout",
     "output_type": "stream",
     "text": [
      "+----+----------+------------+-------------+\n",
      "|    | Models   |   Accuracy |   Precision |\n",
      "|----+----------+------------+-------------|\n",
      "|  0 | XGBoost  |   0.991392 |    0.972676 |\n",
      "|  1 | LGBoost  |   0.991324 |    0.979576 |\n",
      "|  2 | CatBoost |   0.990133 |    0.970115 |\n",
      "+----+----------+------------+-------------+\n"
     ]
    }
   ],
   "source": [
    "from tabulate import tabulate\n",
    "data={'Models':['XGBoost','LGBoost','CatBoost'],\n",
    "     'Accuracy': accu,\n",
    "     'Precision':preci}\n",
    "df=pd.DataFrame(data)\n",
    "print(tabulate(df, headers='keys', tablefmt='psql'))"
   ]
  },
  {
   "cell_type": "markdown",
   "id": "d1a52835",
   "metadata": {
    "papermill": {
     "duration": 0.010146,
     "end_time": "2023-03-18T04:27:51.813305",
     "exception": false,
     "start_time": "2023-03-18T04:27:51.803159",
     "status": "completed"
    },
    "tags": []
   },
   "source": [
    "# Submission"
   ]
  },
  {
   "cell_type": "code",
   "execution_count": 16,
   "id": "fbf07ad7",
   "metadata": {
    "execution": {
     "iopub.execute_input": "2023-03-18T04:27:51.836269Z",
     "iopub.status.busy": "2023-03-18T04:27:51.835563Z",
     "iopub.status.idle": "2023-03-18T04:27:51.875842Z",
     "shell.execute_reply": "2023-03-18T04:27:51.874595Z"
    },
    "papermill": {
     "duration": 0.054743,
     "end_time": "2023-03-18T04:27:51.878526",
     "exception": false,
     "start_time": "2023-03-18T04:27:51.823783",
     "status": "completed"
    },
    "tags": []
   },
   "outputs": [
    {
     "data": {
      "text/html": [
       "<div>\n",
       "<style scoped>\n",
       "    .dataframe tbody tr th:only-of-type {\n",
       "        vertical-align: middle;\n",
       "    }\n",
       "\n",
       "    .dataframe tbody tr th {\n",
       "        vertical-align: top;\n",
       "    }\n",
       "\n",
       "    .dataframe thead th {\n",
       "        text-align: right;\n",
       "    }\n",
       "</style>\n",
       "<table border=\"1\" class=\"dataframe\">\n",
       "  <thead>\n",
       "    <tr style=\"text-align: right;\">\n",
       "      <th></th>\n",
       "      <th>id</th>\n",
       "      <th>Class</th>\n",
       "    </tr>\n",
       "  </thead>\n",
       "  <tbody>\n",
       "    <tr>\n",
       "      <th>0</th>\n",
       "      <td>117564</td>\n",
       "      <td>0.5</td>\n",
       "    </tr>\n",
       "    <tr>\n",
       "      <th>1</th>\n",
       "      <td>117565</td>\n",
       "      <td>0.5</td>\n",
       "    </tr>\n",
       "    <tr>\n",
       "      <th>2</th>\n",
       "      <td>117566</td>\n",
       "      <td>0.5</td>\n",
       "    </tr>\n",
       "    <tr>\n",
       "      <th>3</th>\n",
       "      <td>117567</td>\n",
       "      <td>0.5</td>\n",
       "    </tr>\n",
       "    <tr>\n",
       "      <th>4</th>\n",
       "      <td>117568</td>\n",
       "      <td>0.5</td>\n",
       "    </tr>\n",
       "  </tbody>\n",
       "</table>\n",
       "</div>"
      ],
      "text/plain": [
       "       id  Class\n",
       "0  117564    0.5\n",
       "1  117565    0.5\n",
       "2  117566    0.5\n",
       "3  117567    0.5\n",
       "4  117568    0.5"
      ]
     },
     "execution_count": 16,
     "metadata": {},
     "output_type": "execute_result"
    }
   ],
   "source": [
    "sub_ex=pd.read_csv(\"/kaggle/input/playground-series-s3e10/sample_submission.csv\")\n",
    "sub_ex.head()"
   ]
  },
  {
   "cell_type": "code",
   "execution_count": 17,
   "id": "582ac7ed",
   "metadata": {
    "execution": {
     "iopub.execute_input": "2023-03-18T04:27:51.902160Z",
     "iopub.status.busy": "2023-03-18T04:27:51.901704Z",
     "iopub.status.idle": "2023-03-18T04:27:52.152191Z",
     "shell.execute_reply": "2023-03-18T04:27:52.150966Z"
    },
    "papermill": {
     "duration": 0.265103,
     "end_time": "2023-03-18T04:27:52.154620",
     "exception": false,
     "start_time": "2023-03-18T04:27:51.889517",
     "status": "completed"
    },
    "tags": []
   },
   "outputs": [
    {
     "data": {
      "text/html": [
       "<div>\n",
       "<style scoped>\n",
       "    .dataframe tbody tr th:only-of-type {\n",
       "        vertical-align: middle;\n",
       "    }\n",
       "\n",
       "    .dataframe tbody tr th {\n",
       "        vertical-align: top;\n",
       "    }\n",
       "\n",
       "    .dataframe thead th {\n",
       "        text-align: right;\n",
       "    }\n",
       "</style>\n",
       "<table border=\"1\" class=\"dataframe\">\n",
       "  <thead>\n",
       "    <tr style=\"text-align: right;\">\n",
       "      <th></th>\n",
       "      <th>id</th>\n",
       "      <th>Mean_Integrated</th>\n",
       "      <th>SD</th>\n",
       "      <th>EK</th>\n",
       "      <th>Skewness</th>\n",
       "      <th>Mean_DMSNR_Curve</th>\n",
       "      <th>SD_DMSNR_Curve</th>\n",
       "      <th>EK_DMSNR_Curve</th>\n",
       "      <th>Skewness_DMSNR_Curve</th>\n",
       "    </tr>\n",
       "  </thead>\n",
       "  <tbody>\n",
       "    <tr>\n",
       "      <th>0</th>\n",
       "      <td>117564</td>\n",
       "      <td>140.046875</td>\n",
       "      <td>54.507800</td>\n",
       "      <td>0.058862</td>\n",
       "      <td>-0.567263</td>\n",
       "      <td>2.337793</td>\n",
       "      <td>14.868335</td>\n",
       "      <td>9.591760</td>\n",
       "      <td>117.988781</td>\n",
       "    </tr>\n",
       "    <tr>\n",
       "      <th>1</th>\n",
       "      <td>117565</td>\n",
       "      <td>107.828125</td>\n",
       "      <td>51.578965</td>\n",
       "      <td>0.284368</td>\n",
       "      <td>-0.338430</td>\n",
       "      <td>1.574415</td>\n",
       "      <td>12.501437</td>\n",
       "      <td>11.694968</td>\n",
       "      <td>182.704822</td>\n",
       "    </tr>\n",
       "    <tr>\n",
       "      <th>2</th>\n",
       "      <td>117566</td>\n",
       "      <td>135.062500</td>\n",
       "      <td>49.812343</td>\n",
       "      <td>-0.087784</td>\n",
       "      <td>-0.094341</td>\n",
       "      <td>3.576923</td>\n",
       "      <td>21.243336</td>\n",
       "      <td>7.252386</td>\n",
       "      <td>59.021499</td>\n",
       "    </tr>\n",
       "    <tr>\n",
       "      <th>3</th>\n",
       "      <td>117567</td>\n",
       "      <td>112.812500</td>\n",
       "      <td>41.926647</td>\n",
       "      <td>0.519921</td>\n",
       "      <td>1.287762</td>\n",
       "      <td>6.669732</td>\n",
       "      <td>29.013153</td>\n",
       "      <td>5.097661</td>\n",
       "      <td>27.105240</td>\n",
       "    </tr>\n",
       "    <tr>\n",
       "      <th>4</th>\n",
       "      <td>117568</td>\n",
       "      <td>96.210938</td>\n",
       "      <td>35.322620</td>\n",
       "      <td>0.481286</td>\n",
       "      <td>2.443080</td>\n",
       "      <td>2.218227</td>\n",
       "      <td>17.041064</td>\n",
       "      <td>9.766006</td>\n",
       "      <td>117.131775</td>\n",
       "    </tr>\n",
       "  </tbody>\n",
       "</table>\n",
       "</div>"
      ],
      "text/plain": [
       "       id  Mean_Integrated         SD        EK  Skewness  Mean_DMSNR_Curve  \\\n",
       "0  117564       140.046875  54.507800  0.058862 -0.567263          2.337793   \n",
       "1  117565       107.828125  51.578965  0.284368 -0.338430          1.574415   \n",
       "2  117566       135.062500  49.812343 -0.087784 -0.094341          3.576923   \n",
       "3  117567       112.812500  41.926647  0.519921  1.287762          6.669732   \n",
       "4  117568        96.210938  35.322620  0.481286  2.443080          2.218227   \n",
       "\n",
       "   SD_DMSNR_Curve  EK_DMSNR_Curve  Skewness_DMSNR_Curve  \n",
       "0       14.868335        9.591760            117.988781  \n",
       "1       12.501437       11.694968            182.704822  \n",
       "2       21.243336        7.252386             59.021499  \n",
       "3       29.013153        5.097661             27.105240  \n",
       "4       17.041064        9.766006            117.131775  "
      ]
     },
     "execution_count": 17,
     "metadata": {},
     "output_type": "execute_result"
    }
   ],
   "source": [
    "test_df=pd.read_csv(\"/kaggle/input/playground-series-s3e10/test.csv\")\n",
    "test_df.head()"
   ]
  },
  {
   "cell_type": "code",
   "execution_count": 18,
   "id": "e93ee08d",
   "metadata": {
    "execution": {
     "iopub.execute_input": "2023-03-18T04:27:52.180255Z",
     "iopub.status.busy": "2023-03-18T04:27:52.179100Z",
     "iopub.status.idle": "2023-03-18T04:27:52.252098Z",
     "shell.execute_reply": "2023-03-18T04:27:52.250892Z"
    },
    "papermill": {
     "duration": 0.088039,
     "end_time": "2023-03-18T04:27:52.254743",
     "exception": false,
     "start_time": "2023-03-18T04:27:52.166704",
     "status": "completed"
    },
    "tags": []
   },
   "outputs": [
    {
     "data": {
      "text/plain": [
       "array([0, 0, 0, ..., 0, 0, 1])"
      ]
     },
     "execution_count": 18,
     "metadata": {},
     "output_type": "execute_result"
    }
   ],
   "source": [
    "pred = xgb_model.predict(test_df.drop(\"id\", axis=1))\n",
    "pred"
   ]
  },
  {
   "cell_type": "code",
   "execution_count": 19,
   "id": "9b88becb",
   "metadata": {
    "execution": {
     "iopub.execute_input": "2023-03-18T04:27:52.279594Z",
     "iopub.status.busy": "2023-03-18T04:27:52.279160Z",
     "iopub.status.idle": "2023-03-18T04:27:52.297884Z",
     "shell.execute_reply": "2023-03-18T04:27:52.296770Z"
    },
    "papermill": {
     "duration": 0.034266,
     "end_time": "2023-03-18T04:27:52.300347",
     "exception": false,
     "start_time": "2023-03-18T04:27:52.266081",
     "status": "completed"
    },
    "tags": []
   },
   "outputs": [
    {
     "data": {
      "text/html": [
       "<div>\n",
       "<style scoped>\n",
       "    .dataframe tbody tr th:only-of-type {\n",
       "        vertical-align: middle;\n",
       "    }\n",
       "\n",
       "    .dataframe tbody tr th {\n",
       "        vertical-align: top;\n",
       "    }\n",
       "\n",
       "    .dataframe thead th {\n",
       "        text-align: right;\n",
       "    }\n",
       "</style>\n",
       "<table border=\"1\" class=\"dataframe\">\n",
       "  <thead>\n",
       "    <tr style=\"text-align: right;\">\n",
       "      <th></th>\n",
       "      <th>id</th>\n",
       "      <th>Class</th>\n",
       "    </tr>\n",
       "  </thead>\n",
       "  <tbody>\n",
       "    <tr>\n",
       "      <th>0</th>\n",
       "      <td>117564</td>\n",
       "      <td>0</td>\n",
       "    </tr>\n",
       "    <tr>\n",
       "      <th>1</th>\n",
       "      <td>117565</td>\n",
       "      <td>0</td>\n",
       "    </tr>\n",
       "    <tr>\n",
       "      <th>2</th>\n",
       "      <td>117566</td>\n",
       "      <td>0</td>\n",
       "    </tr>\n",
       "    <tr>\n",
       "      <th>3</th>\n",
       "      <td>117567</td>\n",
       "      <td>0</td>\n",
       "    </tr>\n",
       "    <tr>\n",
       "      <th>4</th>\n",
       "      <td>117568</td>\n",
       "      <td>0</td>\n",
       "    </tr>\n",
       "  </tbody>\n",
       "</table>\n",
       "</div>"
      ],
      "text/plain": [
       "       id  Class\n",
       "0  117564      0\n",
       "1  117565      0\n",
       "2  117566      0\n",
       "3  117567      0\n",
       "4  117568      0"
      ]
     },
     "execution_count": 19,
     "metadata": {},
     "output_type": "execute_result"
    }
   ],
   "source": [
    "sub_df=pd.DataFrame()\n",
    "sub_df[\"id\"]=test_df[\"id\"]\n",
    "sub_df[\"Class\"]=pred\n",
    "sub_df.head()"
   ]
  },
  {
   "cell_type": "code",
   "execution_count": 20,
   "id": "12a3d6bd",
   "metadata": {
    "execution": {
     "iopub.execute_input": "2023-03-18T04:27:52.325195Z",
     "iopub.status.busy": "2023-03-18T04:27:52.324440Z",
     "iopub.status.idle": "2023-03-18T04:27:52.414665Z",
     "shell.execute_reply": "2023-03-18T04:27:52.413571Z"
    },
    "papermill": {
     "duration": 0.105714,
     "end_time": "2023-03-18T04:27:52.417545",
     "exception": false,
     "start_time": "2023-03-18T04:27:52.311831",
     "status": "completed"
    },
    "tags": []
   },
   "outputs": [],
   "source": [
    "sub_df.to_csv(\"submission.csv\", index=None)"
   ]
  },
  {
   "cell_type": "markdown",
   "id": "d0bef475",
   "metadata": {
    "papermill": {
     "duration": 0.010786,
     "end_time": "2023-03-18T04:27:52.439632",
     "exception": false,
     "start_time": "2023-03-18T04:27:52.428846",
     "status": "completed"
    },
    "tags": []
   },
   "source": [
    "# References:\n",
    "1. https://towardsdatascience.com/catboost-vs-light-gbm-vs-xgboost-5f93620723db"
   ]
  }
 ],
 "metadata": {
  "kernelspec": {
   "display_name": "Python 3",
   "language": "python",
   "name": "python3"
  },
  "language_info": {
   "codemirror_mode": {
    "name": "ipython",
    "version": 3
   },
   "file_extension": ".py",
   "mimetype": "text/x-python",
   "name": "python",
   "nbconvert_exporter": "python",
   "pygments_lexer": "ipython3",
   "version": "3.7.12"
  },
  "papermill": {
   "default_parameters": {},
   "duration": 61.248024,
   "end_time": "2023-03-18T04:27:55.073311",
   "environment_variables": {},
   "exception": null,
   "input_path": "__notebook__.ipynb",
   "output_path": "__notebook__.ipynb",
   "parameters": {},
   "start_time": "2023-03-18T04:26:53.825287",
   "version": "2.4.0"
  }
 },
 "nbformat": 4,
 "nbformat_minor": 5
}
