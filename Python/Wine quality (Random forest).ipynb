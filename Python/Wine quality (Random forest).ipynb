{
 "cells": [
  {
   "cell_type": "markdown",
   "id": "23c436c6",
   "metadata": {
    "papermill": {
     "duration": 0.006418,
     "end_time": "2023-02-21T07:11:50.101682",
     "exception": false,
     "start_time": "2023-02-21T07:11:50.095264",
     "status": "completed"
    },
    "tags": []
   },
   "source": [
    "# Import Libraries"
   ]
  },
  {
   "cell_type": "code",
   "execution_count": 1,
   "id": "cbd9b8bd",
   "metadata": {
    "execution": {
     "iopub.execute_input": "2023-02-21T07:11:50.114421Z",
     "iopub.status.busy": "2023-02-21T07:11:50.113789Z",
     "iopub.status.idle": "2023-02-21T07:11:50.130316Z",
     "shell.execute_reply": "2023-02-21T07:11:50.128705Z"
    },
    "papermill": {
     "duration": 0.026029,
     "end_time": "2023-02-21T07:11:50.133027",
     "exception": false,
     "start_time": "2023-02-21T07:11:50.106998",
     "status": "completed"
    },
    "tags": []
   },
   "outputs": [],
   "source": [
    "import numpy as np \n",
    "import pandas as pd"
   ]
  },
  {
   "cell_type": "code",
   "execution_count": 2,
   "id": "7814cb01",
   "metadata": {
    "execution": {
     "iopub.execute_input": "2023-02-21T07:11:50.147257Z",
     "iopub.status.busy": "2023-02-21T07:11:50.146162Z",
     "iopub.status.idle": "2023-02-21T07:11:50.208378Z",
     "shell.execute_reply": "2023-02-21T07:11:50.207129Z"
    },
    "papermill": {
     "duration": 0.072772,
     "end_time": "2023-02-21T07:11:50.211250",
     "exception": false,
     "start_time": "2023-02-21T07:11:50.138478",
     "status": "completed"
    },
    "tags": []
   },
   "outputs": [
    {
     "data": {
      "text/html": [
       "<div>\n",
       "<style scoped>\n",
       "    .dataframe tbody tr th:only-of-type {\n",
       "        vertical-align: middle;\n",
       "    }\n",
       "\n",
       "    .dataframe tbody tr th {\n",
       "        vertical-align: top;\n",
       "    }\n",
       "\n",
       "    .dataframe thead th {\n",
       "        text-align: right;\n",
       "    }\n",
       "</style>\n",
       "<table border=\"1\" class=\"dataframe\">\n",
       "  <thead>\n",
       "    <tr style=\"text-align: right;\">\n",
       "      <th></th>\n",
       "      <th>Id</th>\n",
       "      <th>fixed acidity</th>\n",
       "      <th>volatile acidity</th>\n",
       "      <th>citric acid</th>\n",
       "      <th>residual sugar</th>\n",
       "      <th>chlorides</th>\n",
       "      <th>free sulfur dioxide</th>\n",
       "      <th>total sulfur dioxide</th>\n",
       "      <th>density</th>\n",
       "      <th>pH</th>\n",
       "      <th>sulphates</th>\n",
       "      <th>alcohol</th>\n",
       "      <th>quality</th>\n",
       "    </tr>\n",
       "  </thead>\n",
       "  <tbody>\n",
       "    <tr>\n",
       "      <th>0</th>\n",
       "      <td>0</td>\n",
       "      <td>8.0</td>\n",
       "      <td>0.50</td>\n",
       "      <td>0.39</td>\n",
       "      <td>2.2</td>\n",
       "      <td>0.073</td>\n",
       "      <td>30.0</td>\n",
       "      <td>39.0</td>\n",
       "      <td>0.99572</td>\n",
       "      <td>3.33</td>\n",
       "      <td>0.77</td>\n",
       "      <td>12.1</td>\n",
       "      <td>6</td>\n",
       "    </tr>\n",
       "    <tr>\n",
       "      <th>1</th>\n",
       "      <td>1</td>\n",
       "      <td>9.3</td>\n",
       "      <td>0.30</td>\n",
       "      <td>0.73</td>\n",
       "      <td>2.3</td>\n",
       "      <td>0.092</td>\n",
       "      <td>30.0</td>\n",
       "      <td>67.0</td>\n",
       "      <td>0.99854</td>\n",
       "      <td>3.32</td>\n",
       "      <td>0.67</td>\n",
       "      <td>12.8</td>\n",
       "      <td>6</td>\n",
       "    </tr>\n",
       "    <tr>\n",
       "      <th>2</th>\n",
       "      <td>2</td>\n",
       "      <td>7.1</td>\n",
       "      <td>0.51</td>\n",
       "      <td>0.03</td>\n",
       "      <td>2.1</td>\n",
       "      <td>0.059</td>\n",
       "      <td>3.0</td>\n",
       "      <td>12.0</td>\n",
       "      <td>0.99660</td>\n",
       "      <td>3.52</td>\n",
       "      <td>0.73</td>\n",
       "      <td>11.3</td>\n",
       "      <td>7</td>\n",
       "    </tr>\n",
       "    <tr>\n",
       "      <th>3</th>\n",
       "      <td>3</td>\n",
       "      <td>8.1</td>\n",
       "      <td>0.87</td>\n",
       "      <td>0.22</td>\n",
       "      <td>2.6</td>\n",
       "      <td>0.084</td>\n",
       "      <td>11.0</td>\n",
       "      <td>65.0</td>\n",
       "      <td>0.99730</td>\n",
       "      <td>3.20</td>\n",
       "      <td>0.53</td>\n",
       "      <td>9.8</td>\n",
       "      <td>5</td>\n",
       "    </tr>\n",
       "    <tr>\n",
       "      <th>4</th>\n",
       "      <td>4</td>\n",
       "      <td>8.5</td>\n",
       "      <td>0.36</td>\n",
       "      <td>0.30</td>\n",
       "      <td>2.3</td>\n",
       "      <td>0.079</td>\n",
       "      <td>10.0</td>\n",
       "      <td>45.0</td>\n",
       "      <td>0.99444</td>\n",
       "      <td>3.20</td>\n",
       "      <td>1.36</td>\n",
       "      <td>9.5</td>\n",
       "      <td>6</td>\n",
       "    </tr>\n",
       "  </tbody>\n",
       "</table>\n",
       "</div>"
      ],
      "text/plain": [
       "   Id  fixed acidity  volatile acidity  citric acid  residual sugar  \\\n",
       "0   0            8.0              0.50         0.39             2.2   \n",
       "1   1            9.3              0.30         0.73             2.3   \n",
       "2   2            7.1              0.51         0.03             2.1   \n",
       "3   3            8.1              0.87         0.22             2.6   \n",
       "4   4            8.5              0.36         0.30             2.3   \n",
       "\n",
       "   chlorides  free sulfur dioxide  total sulfur dioxide  density    pH  \\\n",
       "0      0.073                 30.0                  39.0  0.99572  3.33   \n",
       "1      0.092                 30.0                  67.0  0.99854  3.32   \n",
       "2      0.059                  3.0                  12.0  0.99660  3.52   \n",
       "3      0.084                 11.0                  65.0  0.99730  3.20   \n",
       "4      0.079                 10.0                  45.0  0.99444  3.20   \n",
       "\n",
       "   sulphates  alcohol  quality  \n",
       "0       0.77     12.1        6  \n",
       "1       0.67     12.8        6  \n",
       "2       0.73     11.3        7  \n",
       "3       0.53      9.8        5  \n",
       "4       1.36      9.5        6  "
      ]
     },
     "execution_count": 2,
     "metadata": {},
     "output_type": "execute_result"
    }
   ],
   "source": [
    "train_df=pd.read_csv(\"/kaggle/input/playground-series-s3e5/train.csv\")\n",
    "train_df.head()"
   ]
  },
  {
   "cell_type": "markdown",
   "id": "32aa90d5",
   "metadata": {
    "papermill": {
     "duration": 0.005182,
     "end_time": "2023-02-21T07:11:50.221954",
     "exception": false,
     "start_time": "2023-02-21T07:11:50.216772",
     "status": "completed"
    },
    "tags": []
   },
   "source": [
    "# Preprocessing"
   ]
  },
  {
   "cell_type": "code",
   "execution_count": 3,
   "id": "9f067942",
   "metadata": {
    "execution": {
     "iopub.execute_input": "2023-02-21T07:11:50.235809Z",
     "iopub.status.busy": "2023-02-21T07:11:50.234415Z",
     "iopub.status.idle": "2023-02-21T07:11:50.247203Z",
     "shell.execute_reply": "2023-02-21T07:11:50.245930Z"
    },
    "papermill": {
     "duration": 0.022536,
     "end_time": "2023-02-21T07:11:50.249923",
     "exception": false,
     "start_time": "2023-02-21T07:11:50.227387",
     "status": "completed"
    },
    "tags": []
   },
   "outputs": [
    {
     "data": {
      "text/plain": [
       "Id                      0\n",
       "fixed acidity           0\n",
       "volatile acidity        0\n",
       "citric acid             0\n",
       "residual sugar          0\n",
       "chlorides               0\n",
       "free sulfur dioxide     0\n",
       "total sulfur dioxide    0\n",
       "density                 0\n",
       "pH                      0\n",
       "sulphates               0\n",
       "alcohol                 0\n",
       "quality                 0\n",
       "dtype: int64"
      ]
     },
     "execution_count": 3,
     "metadata": {},
     "output_type": "execute_result"
    }
   ],
   "source": [
    "train_df.isnull().sum()"
   ]
  },
  {
   "cell_type": "code",
   "execution_count": 4,
   "id": "f1bfdddf",
   "metadata": {
    "execution": {
     "iopub.execute_input": "2023-02-21T07:11:50.264885Z",
     "iopub.status.busy": "2023-02-21T07:11:50.263821Z",
     "iopub.status.idle": "2023-02-21T07:11:50.274377Z",
     "shell.execute_reply": "2023-02-21T07:11:50.272732Z"
    },
    "papermill": {
     "duration": 0.022084,
     "end_time": "2023-02-21T07:11:50.277919",
     "exception": false,
     "start_time": "2023-02-21T07:11:50.255835",
     "status": "completed"
    },
    "tags": []
   },
   "outputs": [],
   "source": [
    "cat_label=train_df[\"quality\"] # defining label"
   ]
  },
  {
   "cell_type": "code",
   "execution_count": 5,
   "id": "94db13d7",
   "metadata": {
    "execution": {
     "iopub.execute_input": "2023-02-21T07:11:50.293591Z",
     "iopub.status.busy": "2023-02-21T07:11:50.293079Z",
     "iopub.status.idle": "2023-02-21T07:11:51.553885Z",
     "shell.execute_reply": "2023-02-21T07:11:51.552455Z"
    },
    "papermill": {
     "duration": 1.272268,
     "end_time": "2023-02-21T07:11:51.557168",
     "exception": false,
     "start_time": "2023-02-21T07:11:50.284900",
     "status": "completed"
    },
    "tags": []
   },
   "outputs": [],
   "source": [
    "# Normalizing dataframe values\n",
    "\n",
    "from sklearn import preprocessing\n",
    "\n",
    "df_temp=train_df.drop(\"Id\", axis=1)\n",
    "scaler = preprocessing.MinMaxScaler()\n",
    "names = df_temp.columns\n",
    "#names.remove(\"Loan_ID\")\n",
    "d = scaler.fit_transform(df_temp)\n",
    "train_df = pd.DataFrame(d, columns = names)"
   ]
  },
  {
   "cell_type": "code",
   "execution_count": 6,
   "id": "142c5acc",
   "metadata": {
    "execution": {
     "iopub.execute_input": "2023-02-21T07:11:51.573209Z",
     "iopub.status.busy": "2023-02-21T07:11:51.572787Z",
     "iopub.status.idle": "2023-02-21T07:11:51.595038Z",
     "shell.execute_reply": "2023-02-21T07:11:51.593686Z"
    },
    "papermill": {
     "duration": 0.033491,
     "end_time": "2023-02-21T07:11:51.598299",
     "exception": false,
     "start_time": "2023-02-21T07:11:51.564808",
     "status": "completed"
    },
    "tags": []
   },
   "outputs": [
    {
     "data": {
      "text/html": [
       "<div>\n",
       "<style scoped>\n",
       "    .dataframe tbody tr th:only-of-type {\n",
       "        vertical-align: middle;\n",
       "    }\n",
       "\n",
       "    .dataframe tbody tr th {\n",
       "        vertical-align: top;\n",
       "    }\n",
       "\n",
       "    .dataframe thead th {\n",
       "        text-align: right;\n",
       "    }\n",
       "</style>\n",
       "<table border=\"1\" class=\"dataframe\">\n",
       "  <thead>\n",
       "    <tr style=\"text-align: right;\">\n",
       "      <th></th>\n",
       "      <th>fixed acidity</th>\n",
       "      <th>volatile acidity</th>\n",
       "      <th>citric acid</th>\n",
       "      <th>residual sugar</th>\n",
       "      <th>chlorides</th>\n",
       "      <th>free sulfur dioxide</th>\n",
       "      <th>total sulfur dioxide</th>\n",
       "      <th>density</th>\n",
       "      <th>pH</th>\n",
       "      <th>sulphates</th>\n",
       "      <th>alcohol</th>\n",
       "      <th>quality</th>\n",
       "    </tr>\n",
       "  </thead>\n",
       "  <tbody>\n",
       "    <tr>\n",
       "      <th>0</th>\n",
       "      <td>0.275229</td>\n",
       "      <td>0.228571</td>\n",
       "      <td>0.513158</td>\n",
       "      <td>0.078125</td>\n",
       "      <td>0.151741</td>\n",
       "      <td>0.432836</td>\n",
       "      <td>0.113475</td>\n",
       "      <td>0.414831</td>\n",
       "      <td>0.567308</td>\n",
       "      <td>0.243590</td>\n",
       "      <td>0.641509</td>\n",
       "      <td>0.6</td>\n",
       "    </tr>\n",
       "    <tr>\n",
       "      <th>1</th>\n",
       "      <td>0.394495</td>\n",
       "      <td>0.085714</td>\n",
       "      <td>0.960526</td>\n",
       "      <td>0.085938</td>\n",
       "      <td>0.199005</td>\n",
       "      <td>0.432836</td>\n",
       "      <td>0.212766</td>\n",
       "      <td>0.621880</td>\n",
       "      <td>0.557692</td>\n",
       "      <td>0.179487</td>\n",
       "      <td>0.773585</td>\n",
       "      <td>0.6</td>\n",
       "    </tr>\n",
       "    <tr>\n",
       "      <th>2</th>\n",
       "      <td>0.192661</td>\n",
       "      <td>0.235714</td>\n",
       "      <td>0.039474</td>\n",
       "      <td>0.070312</td>\n",
       "      <td>0.116915</td>\n",
       "      <td>0.029851</td>\n",
       "      <td>0.017730</td>\n",
       "      <td>0.479442</td>\n",
       "      <td>0.750000</td>\n",
       "      <td>0.217949</td>\n",
       "      <td>0.490566</td>\n",
       "      <td>0.8</td>\n",
       "    </tr>\n",
       "    <tr>\n",
       "      <th>3</th>\n",
       "      <td>0.284404</td>\n",
       "      <td>0.492857</td>\n",
       "      <td>0.289474</td>\n",
       "      <td>0.109375</td>\n",
       "      <td>0.179104</td>\n",
       "      <td>0.149254</td>\n",
       "      <td>0.205674</td>\n",
       "      <td>0.530837</td>\n",
       "      <td>0.442308</td>\n",
       "      <td>0.089744</td>\n",
       "      <td>0.207547</td>\n",
       "      <td>0.4</td>\n",
       "    </tr>\n",
       "    <tr>\n",
       "      <th>4</th>\n",
       "      <td>0.321101</td>\n",
       "      <td>0.128571</td>\n",
       "      <td>0.394737</td>\n",
       "      <td>0.085938</td>\n",
       "      <td>0.166667</td>\n",
       "      <td>0.134328</td>\n",
       "      <td>0.134752</td>\n",
       "      <td>0.320852</td>\n",
       "      <td>0.442308</td>\n",
       "      <td>0.621795</td>\n",
       "      <td>0.150943</td>\n",
       "      <td>0.6</td>\n",
       "    </tr>\n",
       "  </tbody>\n",
       "</table>\n",
       "</div>"
      ],
      "text/plain": [
       "   fixed acidity  volatile acidity  citric acid  residual sugar  chlorides  \\\n",
       "0       0.275229          0.228571     0.513158        0.078125   0.151741   \n",
       "1       0.394495          0.085714     0.960526        0.085938   0.199005   \n",
       "2       0.192661          0.235714     0.039474        0.070312   0.116915   \n",
       "3       0.284404          0.492857     0.289474        0.109375   0.179104   \n",
       "4       0.321101          0.128571     0.394737        0.085938   0.166667   \n",
       "\n",
       "   free sulfur dioxide  total sulfur dioxide   density        pH  sulphates  \\\n",
       "0             0.432836              0.113475  0.414831  0.567308   0.243590   \n",
       "1             0.432836              0.212766  0.621880  0.557692   0.179487   \n",
       "2             0.029851              0.017730  0.479442  0.750000   0.217949   \n",
       "3             0.149254              0.205674  0.530837  0.442308   0.089744   \n",
       "4             0.134328              0.134752  0.320852  0.442308   0.621795   \n",
       "\n",
       "    alcohol  quality  \n",
       "0  0.641509      0.6  \n",
       "1  0.773585      0.6  \n",
       "2  0.490566      0.8  \n",
       "3  0.207547      0.4  \n",
       "4  0.150943      0.6  "
      ]
     },
     "execution_count": 6,
     "metadata": {},
     "output_type": "execute_result"
    }
   ],
   "source": [
    "train_df.head()"
   ]
  },
  {
   "cell_type": "markdown",
   "id": "5f075d1d",
   "metadata": {
    "papermill": {
     "duration": 0.005926,
     "end_time": "2023-02-21T07:11:51.611229",
     "exception": false,
     "start_time": "2023-02-21T07:11:51.605303",
     "status": "completed"
    },
    "tags": []
   },
   "source": [
    "# Model implementation"
   ]
  },
  {
   "cell_type": "code",
   "execution_count": 7,
   "id": "404bc056",
   "metadata": {
    "execution": {
     "iopub.execute_input": "2023-02-21T07:11:51.627667Z",
     "iopub.status.busy": "2023-02-21T07:11:51.626913Z",
     "iopub.status.idle": "2023-02-21T07:11:51.635369Z",
     "shell.execute_reply": "2023-02-21T07:11:51.634273Z"
    },
    "papermill": {
     "duration": 0.020161,
     "end_time": "2023-02-21T07:11:51.638399",
     "exception": false,
     "start_time": "2023-02-21T07:11:51.618238",
     "status": "completed"
    },
    "tags": []
   },
   "outputs": [],
   "source": [
    "label=train_df[\"quality\"]\n",
    "features=train_df.drop([\"quality\"], axis=1)"
   ]
  },
  {
   "cell_type": "markdown",
   "id": "521eee2c",
   "metadata": {
    "papermill": {
     "duration": 0.006574,
     "end_time": "2023-02-21T07:11:51.653111",
     "exception": false,
     "start_time": "2023-02-21T07:11:51.646537",
     "status": "completed"
    },
    "tags": []
   },
   "source": [
    "# Random forest"
   ]
  },
  {
   "cell_type": "code",
   "execution_count": 8,
   "id": "0661c578",
   "metadata": {
    "execution": {
     "iopub.execute_input": "2023-02-21T07:11:51.670878Z",
     "iopub.status.busy": "2023-02-21T07:11:51.669418Z",
     "iopub.status.idle": "2023-02-21T07:11:52.822820Z",
     "shell.execute_reply": "2023-02-21T07:11:52.821531Z"
    },
    "papermill": {
     "duration": 1.165723,
     "end_time": "2023-02-21T07:11:52.826237",
     "exception": false,
     "start_time": "2023-02-21T07:11:51.660514",
     "status": "completed"
    },
    "tags": []
   },
   "outputs": [
    {
     "name": "stdout",
     "output_type": "stream",
     "text": [
      "0.019094431118314433\n"
     ]
    }
   ],
   "source": [
    "# Random forest\n",
    "from sklearn.ensemble import RandomForestRegressor\n",
    "from sklearn.metrics import mean_squared_error, mean_absolute_error\n",
    "from sklearn.model_selection import train_test_split\n",
    "\n",
    "\n",
    "X_train, X_test, y_train, y_test=train_test_split(features, label, test_size=0.3, random_state=0)\n",
    "\n",
    "forest_model=RandomForestRegressor(random_state=1)\n",
    "forest_model.fit(X_train, y_train)\n",
    "pred_rf= forest_model.predict(X_test)\n",
    "print(mean_squared_error(y_test, pred_rf))"
   ]
  },
  {
   "cell_type": "markdown",
   "id": "7692037f",
   "metadata": {
    "papermill": {
     "duration": 0.006404,
     "end_time": "2023-02-21T07:11:52.840257",
     "exception": false,
     "start_time": "2023-02-21T07:11:52.833853",
     "status": "completed"
    },
    "tags": []
   },
   "source": [
    "# Prediction and submission"
   ]
  },
  {
   "cell_type": "code",
   "execution_count": 9,
   "id": "c7e6a783",
   "metadata": {
    "execution": {
     "iopub.execute_input": "2023-02-21T07:11:52.858851Z",
     "iopub.status.busy": "2023-02-21T07:11:52.858084Z",
     "iopub.status.idle": "2023-02-21T07:11:52.888600Z",
     "shell.execute_reply": "2023-02-21T07:11:52.887553Z"
    },
    "papermill": {
     "duration": 0.041894,
     "end_time": "2023-02-21T07:11:52.891064",
     "exception": false,
     "start_time": "2023-02-21T07:11:52.849170",
     "status": "completed"
    },
    "tags": []
   },
   "outputs": [
    {
     "data": {
      "text/html": [
       "<div>\n",
       "<style scoped>\n",
       "    .dataframe tbody tr th:only-of-type {\n",
       "        vertical-align: middle;\n",
       "    }\n",
       "\n",
       "    .dataframe tbody tr th {\n",
       "        vertical-align: top;\n",
       "    }\n",
       "\n",
       "    .dataframe thead th {\n",
       "        text-align: right;\n",
       "    }\n",
       "</style>\n",
       "<table border=\"1\" class=\"dataframe\">\n",
       "  <thead>\n",
       "    <tr style=\"text-align: right;\">\n",
       "      <th></th>\n",
       "      <th>Id</th>\n",
       "      <th>fixed acidity</th>\n",
       "      <th>volatile acidity</th>\n",
       "      <th>citric acid</th>\n",
       "      <th>residual sugar</th>\n",
       "      <th>chlorides</th>\n",
       "      <th>free sulfur dioxide</th>\n",
       "      <th>total sulfur dioxide</th>\n",
       "      <th>density</th>\n",
       "      <th>pH</th>\n",
       "      <th>sulphates</th>\n",
       "      <th>alcohol</th>\n",
       "    </tr>\n",
       "  </thead>\n",
       "  <tbody>\n",
       "    <tr>\n",
       "      <th>0</th>\n",
       "      <td>2056</td>\n",
       "      <td>7.2</td>\n",
       "      <td>0.510</td>\n",
       "      <td>0.01</td>\n",
       "      <td>2.0</td>\n",
       "      <td>0.077</td>\n",
       "      <td>31.0</td>\n",
       "      <td>54.0</td>\n",
       "      <td>0.99748</td>\n",
       "      <td>3.39</td>\n",
       "      <td>0.59</td>\n",
       "      <td>9.8</td>\n",
       "    </tr>\n",
       "    <tr>\n",
       "      <th>1</th>\n",
       "      <td>2057</td>\n",
       "      <td>7.2</td>\n",
       "      <td>0.755</td>\n",
       "      <td>0.15</td>\n",
       "      <td>2.0</td>\n",
       "      <td>0.102</td>\n",
       "      <td>14.0</td>\n",
       "      <td>35.0</td>\n",
       "      <td>0.99586</td>\n",
       "      <td>3.33</td>\n",
       "      <td>0.68</td>\n",
       "      <td>10.0</td>\n",
       "    </tr>\n",
       "    <tr>\n",
       "      <th>2</th>\n",
       "      <td>2058</td>\n",
       "      <td>8.4</td>\n",
       "      <td>0.460</td>\n",
       "      <td>0.40</td>\n",
       "      <td>2.0</td>\n",
       "      <td>0.065</td>\n",
       "      <td>21.0</td>\n",
       "      <td>50.0</td>\n",
       "      <td>0.99774</td>\n",
       "      <td>3.08</td>\n",
       "      <td>0.65</td>\n",
       "      <td>9.5</td>\n",
       "    </tr>\n",
       "    <tr>\n",
       "      <th>3</th>\n",
       "      <td>2059</td>\n",
       "      <td>8.0</td>\n",
       "      <td>0.470</td>\n",
       "      <td>0.40</td>\n",
       "      <td>1.8</td>\n",
       "      <td>0.056</td>\n",
       "      <td>14.0</td>\n",
       "      <td>25.0</td>\n",
       "      <td>0.99480</td>\n",
       "      <td>3.30</td>\n",
       "      <td>0.65</td>\n",
       "      <td>11.7</td>\n",
       "    </tr>\n",
       "    <tr>\n",
       "      <th>4</th>\n",
       "      <td>2060</td>\n",
       "      <td>6.5</td>\n",
       "      <td>0.340</td>\n",
       "      <td>0.32</td>\n",
       "      <td>2.1</td>\n",
       "      <td>0.044</td>\n",
       "      <td>8.0</td>\n",
       "      <td>94.0</td>\n",
       "      <td>0.99356</td>\n",
       "      <td>3.23</td>\n",
       "      <td>0.48</td>\n",
       "      <td>12.8</td>\n",
       "    </tr>\n",
       "  </tbody>\n",
       "</table>\n",
       "</div>"
      ],
      "text/plain": [
       "     Id  fixed acidity  volatile acidity  citric acid  residual sugar  \\\n",
       "0  2056            7.2             0.510         0.01             2.0   \n",
       "1  2057            7.2             0.755         0.15             2.0   \n",
       "2  2058            8.4             0.460         0.40             2.0   \n",
       "3  2059            8.0             0.470         0.40             1.8   \n",
       "4  2060            6.5             0.340         0.32             2.1   \n",
       "\n",
       "   chlorides  free sulfur dioxide  total sulfur dioxide  density    pH  \\\n",
       "0      0.077                 31.0                  54.0  0.99748  3.39   \n",
       "1      0.102                 14.0                  35.0  0.99586  3.33   \n",
       "2      0.065                 21.0                  50.0  0.99774  3.08   \n",
       "3      0.056                 14.0                  25.0  0.99480  3.30   \n",
       "4      0.044                  8.0                  94.0  0.99356  3.23   \n",
       "\n",
       "   sulphates  alcohol  \n",
       "0       0.59      9.8  \n",
       "1       0.68     10.0  \n",
       "2       0.65      9.5  \n",
       "3       0.65     11.7  \n",
       "4       0.48     12.8  "
      ]
     },
     "execution_count": 9,
     "metadata": {},
     "output_type": "execute_result"
    }
   ],
   "source": [
    "test_df=pd.read_csv(\"/kaggle/input/playground-series-s3e5/test.csv\")\n",
    "test_df.head()"
   ]
  },
  {
   "cell_type": "code",
   "execution_count": 10,
   "id": "9d6a2ead",
   "metadata": {
    "execution": {
     "iopub.execute_input": "2023-02-21T07:11:52.908411Z",
     "iopub.status.busy": "2023-02-21T07:11:52.907663Z",
     "iopub.status.idle": "2023-02-21T07:11:52.913125Z",
     "shell.execute_reply": "2023-02-21T07:11:52.911853Z"
    },
    "papermill": {
     "duration": 0.017234,
     "end_time": "2023-02-21T07:11:52.916232",
     "exception": false,
     "start_time": "2023-02-21T07:11:52.898998",
     "status": "completed"
    },
    "tags": []
   },
   "outputs": [],
   "source": [
    "Id=test_df[\"Id\"]"
   ]
  },
  {
   "cell_type": "code",
   "execution_count": 11,
   "id": "4f0f383b",
   "metadata": {
    "execution": {
     "iopub.execute_input": "2023-02-21T07:11:52.933170Z",
     "iopub.status.busy": "2023-02-21T07:11:52.932732Z",
     "iopub.status.idle": "2023-02-21T07:11:52.944501Z",
     "shell.execute_reply": "2023-02-21T07:11:52.943012Z"
    },
    "papermill": {
     "duration": 0.022922,
     "end_time": "2023-02-21T07:11:52.947175",
     "exception": false,
     "start_time": "2023-02-21T07:11:52.924253",
     "status": "completed"
    },
    "tags": []
   },
   "outputs": [],
   "source": [
    "from sklearn import preprocessing\n",
    "\n",
    "df_temp=test_df.drop(\"Id\", axis=1)\n",
    "scaler = preprocessing.MinMaxScaler()\n",
    "names = df_temp.columns\n",
    "#names.remove(\"Loan_ID\")\n",
    "d = scaler.fit_transform(df_temp)\n",
    "test_df = pd.DataFrame(d, columns = names)"
   ]
  },
  {
   "cell_type": "code",
   "execution_count": 12,
   "id": "23bebeec",
   "metadata": {
    "execution": {
     "iopub.execute_input": "2023-02-21T07:11:52.962530Z",
     "iopub.status.busy": "2023-02-21T07:11:52.961612Z",
     "iopub.status.idle": "2023-02-21T07:11:52.984401Z",
     "shell.execute_reply": "2023-02-21T07:11:52.982705Z"
    },
    "papermill": {
     "duration": 0.034012,
     "end_time": "2023-02-21T07:11:52.987551",
     "exception": false,
     "start_time": "2023-02-21T07:11:52.953539",
     "status": "completed"
    },
    "tags": []
   },
   "outputs": [
    {
     "data": {
      "text/html": [
       "<div>\n",
       "<style scoped>\n",
       "    .dataframe tbody tr th:only-of-type {\n",
       "        vertical-align: middle;\n",
       "    }\n",
       "\n",
       "    .dataframe tbody tr th {\n",
       "        vertical-align: top;\n",
       "    }\n",
       "\n",
       "    .dataframe thead th {\n",
       "        text-align: right;\n",
       "    }\n",
       "</style>\n",
       "<table border=\"1\" class=\"dataframe\">\n",
       "  <thead>\n",
       "    <tr style=\"text-align: right;\">\n",
       "      <th></th>\n",
       "      <th>fixed acidity</th>\n",
       "      <th>volatile acidity</th>\n",
       "      <th>citric acid</th>\n",
       "      <th>residual sugar</th>\n",
       "      <th>chlorides</th>\n",
       "      <th>free sulfur dioxide</th>\n",
       "      <th>total sulfur dioxide</th>\n",
       "      <th>density</th>\n",
       "      <th>pH</th>\n",
       "      <th>sulphates</th>\n",
       "      <th>alcohol</th>\n",
       "    </tr>\n",
       "  </thead>\n",
       "  <tbody>\n",
       "    <tr>\n",
       "      <th>0</th>\n",
       "      <td>0.214953</td>\n",
       "      <td>0.322314</td>\n",
       "      <td>0.013158</td>\n",
       "      <td>0.100000</td>\n",
       "      <td>0.142857</td>\n",
       "      <td>0.447761</td>\n",
       "      <td>0.292994</td>\n",
       "      <td>0.564356</td>\n",
       "      <td>0.511811</td>\n",
       "      <td>0.162602</td>\n",
       "      <td>0.192308</td>\n",
       "    </tr>\n",
       "    <tr>\n",
       "      <th>1</th>\n",
       "      <td>0.214953</td>\n",
       "      <td>0.524793</td>\n",
       "      <td>0.197368</td>\n",
       "      <td>0.100000</td>\n",
       "      <td>0.197802</td>\n",
       "      <td>0.194030</td>\n",
       "      <td>0.171975</td>\n",
       "      <td>0.440975</td>\n",
       "      <td>0.464567</td>\n",
       "      <td>0.235772</td>\n",
       "      <td>0.230769</td>\n",
       "    </tr>\n",
       "    <tr>\n",
       "      <th>2</th>\n",
       "      <td>0.327103</td>\n",
       "      <td>0.280992</td>\n",
       "      <td>0.526316</td>\n",
       "      <td>0.100000</td>\n",
       "      <td>0.116484</td>\n",
       "      <td>0.298507</td>\n",
       "      <td>0.267516</td>\n",
       "      <td>0.584158</td>\n",
       "      <td>0.267717</td>\n",
       "      <td>0.211382</td>\n",
       "      <td>0.134615</td>\n",
       "    </tr>\n",
       "    <tr>\n",
       "      <th>3</th>\n",
       "      <td>0.289720</td>\n",
       "      <td>0.289256</td>\n",
       "      <td>0.526316</td>\n",
       "      <td>0.071429</td>\n",
       "      <td>0.096703</td>\n",
       "      <td>0.194030</td>\n",
       "      <td>0.108280</td>\n",
       "      <td>0.360244</td>\n",
       "      <td>0.440945</td>\n",
       "      <td>0.211382</td>\n",
       "      <td>0.557692</td>\n",
       "    </tr>\n",
       "    <tr>\n",
       "      <th>4</th>\n",
       "      <td>0.149533</td>\n",
       "      <td>0.181818</td>\n",
       "      <td>0.421053</td>\n",
       "      <td>0.114286</td>\n",
       "      <td>0.070330</td>\n",
       "      <td>0.104478</td>\n",
       "      <td>0.547771</td>\n",
       "      <td>0.265804</td>\n",
       "      <td>0.385827</td>\n",
       "      <td>0.073171</td>\n",
       "      <td>0.769231</td>\n",
       "    </tr>\n",
       "  </tbody>\n",
       "</table>\n",
       "</div>"
      ],
      "text/plain": [
       "   fixed acidity  volatile acidity  citric acid  residual sugar  chlorides  \\\n",
       "0       0.214953          0.322314     0.013158        0.100000   0.142857   \n",
       "1       0.214953          0.524793     0.197368        0.100000   0.197802   \n",
       "2       0.327103          0.280992     0.526316        0.100000   0.116484   \n",
       "3       0.289720          0.289256     0.526316        0.071429   0.096703   \n",
       "4       0.149533          0.181818     0.421053        0.114286   0.070330   \n",
       "\n",
       "   free sulfur dioxide  total sulfur dioxide   density        pH  sulphates  \\\n",
       "0             0.447761              0.292994  0.564356  0.511811   0.162602   \n",
       "1             0.194030              0.171975  0.440975  0.464567   0.235772   \n",
       "2             0.298507              0.267516  0.584158  0.267717   0.211382   \n",
       "3             0.194030              0.108280  0.360244  0.440945   0.211382   \n",
       "4             0.104478              0.547771  0.265804  0.385827   0.073171   \n",
       "\n",
       "    alcohol  \n",
       "0  0.192308  \n",
       "1  0.230769  \n",
       "2  0.134615  \n",
       "3  0.557692  \n",
       "4  0.769231  "
      ]
     },
     "execution_count": 12,
     "metadata": {},
     "output_type": "execute_result"
    }
   ],
   "source": [
    "test_df.head()"
   ]
  },
  {
   "cell_type": "code",
   "execution_count": 13,
   "id": "b137af6a",
   "metadata": {
    "execution": {
     "iopub.execute_input": "2023-02-21T07:11:53.003086Z",
     "iopub.status.busy": "2023-02-21T07:11:53.002605Z",
     "iopub.status.idle": "2023-02-21T07:11:53.045101Z",
     "shell.execute_reply": "2023-02-21T07:11:53.043671Z"
    },
    "papermill": {
     "duration": 0.053804,
     "end_time": "2023-02-21T07:11:53.048008",
     "exception": false,
     "start_time": "2023-02-21T07:11:52.994204",
     "status": "completed"
    },
    "tags": []
   },
   "outputs": [],
   "source": [
    "features=test_df\n",
    "submission=forest_model.predict(features)"
   ]
  },
  {
   "cell_type": "code",
   "execution_count": 14,
   "id": "c1699faf",
   "metadata": {
    "execution": {
     "iopub.execute_input": "2023-02-21T07:11:53.064697Z",
     "iopub.status.busy": "2023-02-21T07:11:53.063378Z",
     "iopub.status.idle": "2023-02-21T07:11:53.073267Z",
     "shell.execute_reply": "2023-02-21T07:11:53.071103Z"
    },
    "papermill": {
     "duration": 0.021808,
     "end_time": "2023-02-21T07:11:53.076333",
     "exception": false,
     "start_time": "2023-02-21T07:11:53.054525",
     "status": "completed"
    },
    "tags": []
   },
   "outputs": [],
   "source": [
    "# The predictions are floats, and submission requirement is integer\n",
    "\n",
    "sub_round=[round(i*10) for i in submission]\n",
    "#sub_round"
   ]
  },
  {
   "cell_type": "code",
   "execution_count": 15,
   "id": "380d3e32",
   "metadata": {
    "execution": {
     "iopub.execute_input": "2023-02-21T07:11:53.093958Z",
     "iopub.status.busy": "2023-02-21T07:11:53.093205Z",
     "iopub.status.idle": "2023-02-21T07:11:53.110654Z",
     "shell.execute_reply": "2023-02-21T07:11:53.109334Z"
    },
    "papermill": {
     "duration": 0.030057,
     "end_time": "2023-02-21T07:11:53.113459",
     "exception": false,
     "start_time": "2023-02-21T07:11:53.083402",
     "status": "completed"
    },
    "tags": []
   },
   "outputs": [
    {
     "data": {
      "text/html": [
       "<div>\n",
       "<style scoped>\n",
       "    .dataframe tbody tr th:only-of-type {\n",
       "        vertical-align: middle;\n",
       "    }\n",
       "\n",
       "    .dataframe tbody tr th {\n",
       "        vertical-align: top;\n",
       "    }\n",
       "\n",
       "    .dataframe thead th {\n",
       "        text-align: right;\n",
       "    }\n",
       "</style>\n",
       "<table border=\"1\" class=\"dataframe\">\n",
       "  <thead>\n",
       "    <tr style=\"text-align: right;\">\n",
       "      <th></th>\n",
       "      <th>Id</th>\n",
       "      <th>quality</th>\n",
       "    </tr>\n",
       "  </thead>\n",
       "  <tbody>\n",
       "    <tr>\n",
       "      <th>0</th>\n",
       "      <td>2056</td>\n",
       "      <td>4</td>\n",
       "    </tr>\n",
       "    <tr>\n",
       "      <th>1</th>\n",
       "      <td>2057</td>\n",
       "      <td>5</td>\n",
       "    </tr>\n",
       "    <tr>\n",
       "      <th>2</th>\n",
       "      <td>2058</td>\n",
       "      <td>5</td>\n",
       "    </tr>\n",
       "    <tr>\n",
       "      <th>3</th>\n",
       "      <td>2059</td>\n",
       "      <td>7</td>\n",
       "    </tr>\n",
       "    <tr>\n",
       "      <th>4</th>\n",
       "      <td>2060</td>\n",
       "      <td>6</td>\n",
       "    </tr>\n",
       "  </tbody>\n",
       "</table>\n",
       "</div>"
      ],
      "text/plain": [
       "     Id  quality\n",
       "0  2056        4\n",
       "1  2057        5\n",
       "2  2058        5\n",
       "3  2059        7\n",
       "4  2060        6"
      ]
     },
     "execution_count": 15,
     "metadata": {},
     "output_type": "execute_result"
    }
   ],
   "source": [
    "sub_df=pd.DataFrame()\n",
    "sub_df[\"Id\"]=Id\n",
    "sub_df[\"quality\"]=sub_round\n",
    "sub_df.head()"
   ]
  },
  {
   "cell_type": "code",
   "execution_count": 16,
   "id": "3d2ef71b",
   "metadata": {
    "execution": {
     "iopub.execute_input": "2023-02-21T07:11:53.128539Z",
     "iopub.status.busy": "2023-02-21T07:11:53.128109Z",
     "iopub.status.idle": "2023-02-21T07:11:53.139511Z",
     "shell.execute_reply": "2023-02-21T07:11:53.138414Z"
    },
    "papermill": {
     "duration": 0.022171,
     "end_time": "2023-02-21T07:11:53.142292",
     "exception": false,
     "start_time": "2023-02-21T07:11:53.120121",
     "status": "completed"
    },
    "tags": []
   },
   "outputs": [],
   "source": [
    "sub_df.to_csv(\"submission.csv\", index=None)"
   ]
  }
 ],
 "metadata": {
  "kernelspec": {
   "display_name": "Python 3",
   "language": "python",
   "name": "python3"
  },
  "language_info": {
   "codemirror_mode": {
    "name": "ipython",
    "version": 3
   },
   "file_extension": ".py",
   "mimetype": "text/x-python",
   "name": "python",
   "nbconvert_exporter": "python",
   "pygments_lexer": "ipython3",
   "version": "3.7.12"
  },
  "papermill": {
   "default_parameters": {},
   "duration": 14.816881,
   "end_time": "2023-02-21T07:11:53.972534",
   "environment_variables": {},
   "exception": null,
   "input_path": "__notebook__.ipynb",
   "output_path": "__notebook__.ipynb",
   "parameters": {},
   "start_time": "2023-02-21T07:11:39.155653",
   "version": "2.3.4"
  }
 },
 "nbformat": 4,
 "nbformat_minor": 5
}
