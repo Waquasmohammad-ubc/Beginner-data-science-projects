{
 "cells": [
  {
   "cell_type": "markdown",
   "id": "25c81818",
   "metadata": {
    "papermill": {
     "duration": 0.010527,
     "end_time": "2023-02-21T06:49:41.515699",
     "exception": false,
     "start_time": "2023-02-21T06:49:41.505172",
     "status": "completed"
    },
    "tags": []
   },
   "source": [
    "# Import libraries"
   ]
  },
  {
   "cell_type": "code",
   "execution_count": 1,
   "id": "b8973ad5",
   "metadata": {
    "execution": {
     "iopub.execute_input": "2023-02-21T06:49:41.535546Z",
     "iopub.status.busy": "2023-02-21T06:49:41.535061Z",
     "iopub.status.idle": "2023-02-21T06:49:41.548792Z",
     "shell.execute_reply": "2023-02-21T06:49:41.547689Z"
    },
    "papermill": {
     "duration": 0.026653,
     "end_time": "2023-02-21T06:49:41.551457",
     "exception": false,
     "start_time": "2023-02-21T06:49:41.524804",
     "status": "completed"
    },
    "tags": []
   },
   "outputs": [],
   "source": [
    "import numpy as np \n",
    "import pandas as pd\n",
    "\n",
    "#ignore warnings\n",
    "import warnings\n",
    "warnings.filterwarnings('ignore')"
   ]
  },
  {
   "cell_type": "code",
   "execution_count": 2,
   "id": "10c52e77",
   "metadata": {
    "execution": {
     "iopub.execute_input": "2023-02-21T06:49:41.572864Z",
     "iopub.status.busy": "2023-02-21T06:49:41.571491Z",
     "iopub.status.idle": "2023-02-21T06:49:41.627167Z",
     "shell.execute_reply": "2023-02-21T06:49:41.625604Z"
    },
    "papermill": {
     "duration": 0.070102,
     "end_time": "2023-02-21T06:49:41.630913",
     "exception": false,
     "start_time": "2023-02-21T06:49:41.560811",
     "status": "completed"
    },
    "tags": []
   },
   "outputs": [
    {
     "data": {
      "text/html": [
       "<div>\n",
       "<style scoped>\n",
       "    .dataframe tbody tr th:only-of-type {\n",
       "        vertical-align: middle;\n",
       "    }\n",
       "\n",
       "    .dataframe tbody tr th {\n",
       "        vertical-align: top;\n",
       "    }\n",
       "\n",
       "    .dataframe thead th {\n",
       "        text-align: right;\n",
       "    }\n",
       "</style>\n",
       "<table border=\"1\" class=\"dataframe\">\n",
       "  <thead>\n",
       "    <tr style=\"text-align: right;\">\n",
       "      <th></th>\n",
       "      <th>PassengerId</th>\n",
       "      <th>Survived</th>\n",
       "      <th>Pclass</th>\n",
       "      <th>Name</th>\n",
       "      <th>Sex</th>\n",
       "      <th>Age</th>\n",
       "      <th>SibSp</th>\n",
       "      <th>Parch</th>\n",
       "      <th>Ticket</th>\n",
       "      <th>Fare</th>\n",
       "      <th>Cabin</th>\n",
       "      <th>Embarked</th>\n",
       "    </tr>\n",
       "  </thead>\n",
       "  <tbody>\n",
       "    <tr>\n",
       "      <th>0</th>\n",
       "      <td>1</td>\n",
       "      <td>0</td>\n",
       "      <td>3</td>\n",
       "      <td>Braund, Mr. Owen Harris</td>\n",
       "      <td>male</td>\n",
       "      <td>22.0</td>\n",
       "      <td>1</td>\n",
       "      <td>0</td>\n",
       "      <td>A/5 21171</td>\n",
       "      <td>7.2500</td>\n",
       "      <td>NaN</td>\n",
       "      <td>S</td>\n",
       "    </tr>\n",
       "    <tr>\n",
       "      <th>1</th>\n",
       "      <td>2</td>\n",
       "      <td>1</td>\n",
       "      <td>1</td>\n",
       "      <td>Cumings, Mrs. John Bradley (Florence Briggs Th...</td>\n",
       "      <td>female</td>\n",
       "      <td>38.0</td>\n",
       "      <td>1</td>\n",
       "      <td>0</td>\n",
       "      <td>PC 17599</td>\n",
       "      <td>71.2833</td>\n",
       "      <td>C85</td>\n",
       "      <td>C</td>\n",
       "    </tr>\n",
       "    <tr>\n",
       "      <th>2</th>\n",
       "      <td>3</td>\n",
       "      <td>1</td>\n",
       "      <td>3</td>\n",
       "      <td>Heikkinen, Miss. Laina</td>\n",
       "      <td>female</td>\n",
       "      <td>26.0</td>\n",
       "      <td>0</td>\n",
       "      <td>0</td>\n",
       "      <td>STON/O2. 3101282</td>\n",
       "      <td>7.9250</td>\n",
       "      <td>NaN</td>\n",
       "      <td>S</td>\n",
       "    </tr>\n",
       "    <tr>\n",
       "      <th>3</th>\n",
       "      <td>4</td>\n",
       "      <td>1</td>\n",
       "      <td>1</td>\n",
       "      <td>Futrelle, Mrs. Jacques Heath (Lily May Peel)</td>\n",
       "      <td>female</td>\n",
       "      <td>35.0</td>\n",
       "      <td>1</td>\n",
       "      <td>0</td>\n",
       "      <td>113803</td>\n",
       "      <td>53.1000</td>\n",
       "      <td>C123</td>\n",
       "      <td>S</td>\n",
       "    </tr>\n",
       "    <tr>\n",
       "      <th>4</th>\n",
       "      <td>5</td>\n",
       "      <td>0</td>\n",
       "      <td>3</td>\n",
       "      <td>Allen, Mr. William Henry</td>\n",
       "      <td>male</td>\n",
       "      <td>35.0</td>\n",
       "      <td>0</td>\n",
       "      <td>0</td>\n",
       "      <td>373450</td>\n",
       "      <td>8.0500</td>\n",
       "      <td>NaN</td>\n",
       "      <td>S</td>\n",
       "    </tr>\n",
       "  </tbody>\n",
       "</table>\n",
       "</div>"
      ],
      "text/plain": [
       "   PassengerId  Survived  Pclass  \\\n",
       "0            1         0       3   \n",
       "1            2         1       1   \n",
       "2            3         1       3   \n",
       "3            4         1       1   \n",
       "4            5         0       3   \n",
       "\n",
       "                                                Name     Sex   Age  SibSp  \\\n",
       "0                            Braund, Mr. Owen Harris    male  22.0      1   \n",
       "1  Cumings, Mrs. John Bradley (Florence Briggs Th...  female  38.0      1   \n",
       "2                             Heikkinen, Miss. Laina  female  26.0      0   \n",
       "3       Futrelle, Mrs. Jacques Heath (Lily May Peel)  female  35.0      1   \n",
       "4                           Allen, Mr. William Henry    male  35.0      0   \n",
       "\n",
       "   Parch            Ticket     Fare Cabin Embarked  \n",
       "0      0         A/5 21171   7.2500   NaN        S  \n",
       "1      0          PC 17599  71.2833   C85        C  \n",
       "2      0  STON/O2. 3101282   7.9250   NaN        S  \n",
       "3      0            113803  53.1000  C123        S  \n",
       "4      0            373450   8.0500   NaN        S  "
      ]
     },
     "execution_count": 2,
     "metadata": {},
     "output_type": "execute_result"
    }
   ],
   "source": [
    "df_train=pd.read_csv(\"/kaggle/input/titanic/train.csv\")\n",
    "df_train.head()"
   ]
  },
  {
   "cell_type": "markdown",
   "id": "05d38521",
   "metadata": {
    "papermill": {
     "duration": 0.008899,
     "end_time": "2023-02-21T06:49:41.649036",
     "exception": false,
     "start_time": "2023-02-21T06:49:41.640137",
     "status": "completed"
    },
    "tags": []
   },
   "source": [
    "# Handling NA values"
   ]
  },
  {
   "cell_type": "code",
   "execution_count": 3,
   "id": "d43e2992",
   "metadata": {
    "execution": {
     "iopub.execute_input": "2023-02-21T06:49:41.670050Z",
     "iopub.status.busy": "2023-02-21T06:49:41.669564Z",
     "iopub.status.idle": "2023-02-21T06:49:41.683989Z",
     "shell.execute_reply": "2023-02-21T06:49:41.682391Z"
    },
    "papermill": {
     "duration": 0.028651,
     "end_time": "2023-02-21T06:49:41.687073",
     "exception": false,
     "start_time": "2023-02-21T06:49:41.658422",
     "status": "completed"
    },
    "tags": []
   },
   "outputs": [
    {
     "data": {
      "text/plain": [
       "PassengerId      0\n",
       "Survived         0\n",
       "Pclass           0\n",
       "Name             0\n",
       "Sex              0\n",
       "Age            177\n",
       "SibSp            0\n",
       "Parch            0\n",
       "Ticket           0\n",
       "Fare             0\n",
       "Cabin          687\n",
       "Embarked         2\n",
       "dtype: int64"
      ]
     },
     "execution_count": 3,
     "metadata": {},
     "output_type": "execute_result"
    }
   ],
   "source": [
    "# check missing values\n",
    "\n",
    "df_train.isnull().sum()"
   ]
  },
  {
   "cell_type": "code",
   "execution_count": 4,
   "id": "22f7ed22",
   "metadata": {
    "execution": {
     "iopub.execute_input": "2023-02-21T06:49:41.707426Z",
     "iopub.status.busy": "2023-02-21T06:49:41.706986Z",
     "iopub.status.idle": "2023-02-21T06:49:41.733999Z",
     "shell.execute_reply": "2023-02-21T06:49:41.732744Z"
    },
    "papermill": {
     "duration": 0.03993,
     "end_time": "2023-02-21T06:49:41.736386",
     "exception": false,
     "start_time": "2023-02-21T06:49:41.696456",
     "status": "completed"
    },
    "tags": []
   },
   "outputs": [
    {
     "data": {
      "text/html": [
       "<div>\n",
       "<style scoped>\n",
       "    .dataframe tbody tr th:only-of-type {\n",
       "        vertical-align: middle;\n",
       "    }\n",
       "\n",
       "    .dataframe tbody tr th {\n",
       "        vertical-align: top;\n",
       "    }\n",
       "\n",
       "    .dataframe thead th {\n",
       "        text-align: right;\n",
       "    }\n",
       "</style>\n",
       "<table border=\"1\" class=\"dataframe\">\n",
       "  <thead>\n",
       "    <tr style=\"text-align: right;\">\n",
       "      <th></th>\n",
       "      <th>PassengerId</th>\n",
       "      <th>Survived</th>\n",
       "      <th>Pclass</th>\n",
       "      <th>Name</th>\n",
       "      <th>Sex</th>\n",
       "      <th>Age</th>\n",
       "      <th>SibSp</th>\n",
       "      <th>Parch</th>\n",
       "      <th>Ticket</th>\n",
       "      <th>Fare</th>\n",
       "      <th>Cabin</th>\n",
       "      <th>Embarked</th>\n",
       "    </tr>\n",
       "  </thead>\n",
       "  <tbody>\n",
       "    <tr>\n",
       "      <th>0</th>\n",
       "      <td>1</td>\n",
       "      <td>0</td>\n",
       "      <td>3</td>\n",
       "      <td>Braund, Mr. Owen Harris</td>\n",
       "      <td>male</td>\n",
       "      <td>22.0</td>\n",
       "      <td>1</td>\n",
       "      <td>0</td>\n",
       "      <td>A/5 21171</td>\n",
       "      <td>7.2500</td>\n",
       "      <td>NaN</td>\n",
       "      <td>S</td>\n",
       "    </tr>\n",
       "    <tr>\n",
       "      <th>1</th>\n",
       "      <td>2</td>\n",
       "      <td>1</td>\n",
       "      <td>1</td>\n",
       "      <td>Cumings, Mrs. John Bradley (Florence Briggs Th...</td>\n",
       "      <td>female</td>\n",
       "      <td>38.0</td>\n",
       "      <td>1</td>\n",
       "      <td>0</td>\n",
       "      <td>PC 17599</td>\n",
       "      <td>71.2833</td>\n",
       "      <td>C85</td>\n",
       "      <td>C</td>\n",
       "    </tr>\n",
       "    <tr>\n",
       "      <th>2</th>\n",
       "      <td>3</td>\n",
       "      <td>1</td>\n",
       "      <td>3</td>\n",
       "      <td>Heikkinen, Miss. Laina</td>\n",
       "      <td>female</td>\n",
       "      <td>26.0</td>\n",
       "      <td>0</td>\n",
       "      <td>0</td>\n",
       "      <td>STON/O2. 3101282</td>\n",
       "      <td>7.9250</td>\n",
       "      <td>NaN</td>\n",
       "      <td>S</td>\n",
       "    </tr>\n",
       "    <tr>\n",
       "      <th>3</th>\n",
       "      <td>4</td>\n",
       "      <td>1</td>\n",
       "      <td>1</td>\n",
       "      <td>Futrelle, Mrs. Jacques Heath (Lily May Peel)</td>\n",
       "      <td>female</td>\n",
       "      <td>35.0</td>\n",
       "      <td>1</td>\n",
       "      <td>0</td>\n",
       "      <td>113803</td>\n",
       "      <td>53.1000</td>\n",
       "      <td>C123</td>\n",
       "      <td>S</td>\n",
       "    </tr>\n",
       "    <tr>\n",
       "      <th>4</th>\n",
       "      <td>5</td>\n",
       "      <td>0</td>\n",
       "      <td>3</td>\n",
       "      <td>Allen, Mr. William Henry</td>\n",
       "      <td>male</td>\n",
       "      <td>35.0</td>\n",
       "      <td>0</td>\n",
       "      <td>0</td>\n",
       "      <td>373450</td>\n",
       "      <td>8.0500</td>\n",
       "      <td>NaN</td>\n",
       "      <td>S</td>\n",
       "    </tr>\n",
       "  </tbody>\n",
       "</table>\n",
       "</div>"
      ],
      "text/plain": [
       "   PassengerId  Survived  Pclass  \\\n",
       "0            1         0       3   \n",
       "1            2         1       1   \n",
       "2            3         1       3   \n",
       "3            4         1       1   \n",
       "4            5         0       3   \n",
       "\n",
       "                                                Name     Sex   Age  SibSp  \\\n",
       "0                            Braund, Mr. Owen Harris    male  22.0      1   \n",
       "1  Cumings, Mrs. John Bradley (Florence Briggs Th...  female  38.0      1   \n",
       "2                             Heikkinen, Miss. Laina  female  26.0      0   \n",
       "3       Futrelle, Mrs. Jacques Heath (Lily May Peel)  female  35.0      1   \n",
       "4                           Allen, Mr. William Henry    male  35.0      0   \n",
       "\n",
       "   Parch            Ticket     Fare Cabin Embarked  \n",
       "0      0         A/5 21171   7.2500   NaN        S  \n",
       "1      0          PC 17599  71.2833   C85        C  \n",
       "2      0  STON/O2. 3101282   7.9250   NaN        S  \n",
       "3      0            113803  53.1000  C123        S  \n",
       "4      0            373450   8.0500   NaN        S  "
      ]
     },
     "execution_count": 4,
     "metadata": {},
     "output_type": "execute_result"
    }
   ],
   "source": [
    "df=df_train.dropna()\n",
    "df_train.head()"
   ]
  },
  {
   "cell_type": "code",
   "execution_count": 5,
   "id": "293de0d1",
   "metadata": {
    "execution": {
     "iopub.execute_input": "2023-02-21T06:49:41.758240Z",
     "iopub.status.busy": "2023-02-21T06:49:41.757821Z",
     "iopub.status.idle": "2023-02-21T06:49:41.774523Z",
     "shell.execute_reply": "2023-02-21T06:49:41.773236Z"
    },
    "papermill": {
     "duration": 0.030665,
     "end_time": "2023-02-21T06:49:41.777400",
     "exception": false,
     "start_time": "2023-02-21T06:49:41.746735",
     "status": "completed"
    },
    "tags": []
   },
   "outputs": [
    {
     "data": {
      "text/plain": [
       "PassengerId    183\n",
       "Survived         2\n",
       "Pclass           3\n",
       "Name           183\n",
       "Sex              2\n",
       "Age             63\n",
       "SibSp            4\n",
       "Parch            4\n",
       "Ticket         127\n",
       "Fare            93\n",
       "Cabin          133\n",
       "Embarked         3\n",
       "dtype: int64"
      ]
     },
     "execution_count": 5,
     "metadata": {},
     "output_type": "execute_result"
    }
   ],
   "source": [
    "df.nunique()"
   ]
  },
  {
   "cell_type": "markdown",
   "id": "dc4eae23",
   "metadata": {
    "papermill": {
     "duration": 0.008957,
     "end_time": "2023-02-21T06:49:41.797199",
     "exception": false,
     "start_time": "2023-02-21T06:49:41.788242",
     "status": "completed"
    },
    "tags": []
   },
   "source": [
    "# Creating a new DF with relevant columns"
   ]
  },
  {
   "cell_type": "code",
   "execution_count": 6,
   "id": "bcc44652",
   "metadata": {
    "execution": {
     "iopub.execute_input": "2023-02-21T06:49:41.819028Z",
     "iopub.status.busy": "2023-02-21T06:49:41.817717Z",
     "iopub.status.idle": "2023-02-21T06:49:41.826873Z",
     "shell.execute_reply": "2023-02-21T06:49:41.825884Z"
    },
    "papermill": {
     "duration": 0.022309,
     "end_time": "2023-02-21T06:49:41.829441",
     "exception": false,
     "start_time": "2023-02-21T06:49:41.807132",
     "status": "completed"
    },
    "tags": []
   },
   "outputs": [],
   "source": [
    "# \"survived\" is our label \n",
    "# passenger_id and name are unique and won't help deduce patterns, so ignore those\n",
    "# Add the rest to a new dataframe \"df\"\n",
    "\n",
    "df=df.drop([\"Name\",\"PassengerId\",\"Cabin\",\"Ticket\"], axis=1)"
   ]
  },
  {
   "cell_type": "code",
   "execution_count": 7,
   "id": "c9b13e8c",
   "metadata": {
    "execution": {
     "iopub.execute_input": "2023-02-21T06:49:41.850828Z",
     "iopub.status.busy": "2023-02-21T06:49:41.849969Z",
     "iopub.status.idle": "2023-02-21T06:49:41.865455Z",
     "shell.execute_reply": "2023-02-21T06:49:41.864045Z"
    },
    "papermill": {
     "duration": 0.029387,
     "end_time": "2023-02-21T06:49:41.868121",
     "exception": false,
     "start_time": "2023-02-21T06:49:41.838734",
     "status": "completed"
    },
    "tags": []
   },
   "outputs": [
    {
     "data": {
      "text/html": [
       "<div>\n",
       "<style scoped>\n",
       "    .dataframe tbody tr th:only-of-type {\n",
       "        vertical-align: middle;\n",
       "    }\n",
       "\n",
       "    .dataframe tbody tr th {\n",
       "        vertical-align: top;\n",
       "    }\n",
       "\n",
       "    .dataframe thead th {\n",
       "        text-align: right;\n",
       "    }\n",
       "</style>\n",
       "<table border=\"1\" class=\"dataframe\">\n",
       "  <thead>\n",
       "    <tr style=\"text-align: right;\">\n",
       "      <th></th>\n",
       "      <th>Survived</th>\n",
       "      <th>Pclass</th>\n",
       "      <th>Sex</th>\n",
       "      <th>Age</th>\n",
       "      <th>SibSp</th>\n",
       "      <th>Parch</th>\n",
       "      <th>Fare</th>\n",
       "      <th>Embarked</th>\n",
       "    </tr>\n",
       "  </thead>\n",
       "  <tbody>\n",
       "    <tr>\n",
       "      <th>1</th>\n",
       "      <td>1</td>\n",
       "      <td>1</td>\n",
       "      <td>female</td>\n",
       "      <td>38.0</td>\n",
       "      <td>1</td>\n",
       "      <td>0</td>\n",
       "      <td>71.2833</td>\n",
       "      <td>C</td>\n",
       "    </tr>\n",
       "    <tr>\n",
       "      <th>3</th>\n",
       "      <td>1</td>\n",
       "      <td>1</td>\n",
       "      <td>female</td>\n",
       "      <td>35.0</td>\n",
       "      <td>1</td>\n",
       "      <td>0</td>\n",
       "      <td>53.1000</td>\n",
       "      <td>S</td>\n",
       "    </tr>\n",
       "    <tr>\n",
       "      <th>6</th>\n",
       "      <td>0</td>\n",
       "      <td>1</td>\n",
       "      <td>male</td>\n",
       "      <td>54.0</td>\n",
       "      <td>0</td>\n",
       "      <td>0</td>\n",
       "      <td>51.8625</td>\n",
       "      <td>S</td>\n",
       "    </tr>\n",
       "    <tr>\n",
       "      <th>10</th>\n",
       "      <td>1</td>\n",
       "      <td>3</td>\n",
       "      <td>female</td>\n",
       "      <td>4.0</td>\n",
       "      <td>1</td>\n",
       "      <td>1</td>\n",
       "      <td>16.7000</td>\n",
       "      <td>S</td>\n",
       "    </tr>\n",
       "    <tr>\n",
       "      <th>11</th>\n",
       "      <td>1</td>\n",
       "      <td>1</td>\n",
       "      <td>female</td>\n",
       "      <td>58.0</td>\n",
       "      <td>0</td>\n",
       "      <td>0</td>\n",
       "      <td>26.5500</td>\n",
       "      <td>S</td>\n",
       "    </tr>\n",
       "  </tbody>\n",
       "</table>\n",
       "</div>"
      ],
      "text/plain": [
       "    Survived  Pclass     Sex   Age  SibSp  Parch     Fare Embarked\n",
       "1          1       1  female  38.0      1      0  71.2833        C\n",
       "3          1       1  female  35.0      1      0  53.1000        S\n",
       "6          0       1    male  54.0      0      0  51.8625        S\n",
       "10         1       3  female   4.0      1      1  16.7000        S\n",
       "11         1       1  female  58.0      0      0  26.5500        S"
      ]
     },
     "execution_count": 7,
     "metadata": {},
     "output_type": "execute_result"
    }
   ],
   "source": [
    "df.head()"
   ]
  },
  {
   "cell_type": "code",
   "execution_count": 8,
   "id": "cef91704",
   "metadata": {
    "execution": {
     "iopub.execute_input": "2023-02-21T06:49:41.889334Z",
     "iopub.status.busy": "2023-02-21T06:49:41.888924Z",
     "iopub.status.idle": "2023-02-21T06:49:41.897759Z",
     "shell.execute_reply": "2023-02-21T06:49:41.896307Z"
    },
    "papermill": {
     "duration": 0.02392,
     "end_time": "2023-02-21T06:49:41.901681",
     "exception": false,
     "start_time": "2023-02-21T06:49:41.877761",
     "status": "completed"
    },
    "tags": []
   },
   "outputs": [
    {
     "name": "stdout",
     "output_type": "stream",
     "text": [
      "Survived     2\n",
      "Pclass       3\n",
      "Sex          2\n",
      "Age         63\n",
      "SibSp        4\n",
      "Parch        4\n",
      "Fare        93\n",
      "Embarked     3\n",
      "dtype: int64\n"
     ]
    }
   ],
   "source": [
    "# count of unique values in each column\n",
    "print(df.nunique())"
   ]
  },
  {
   "cell_type": "markdown",
   "id": "4eab1fe0",
   "metadata": {
    "papermill": {
     "duration": 0.009315,
     "end_time": "2023-02-21T06:49:41.921641",
     "exception": false,
     "start_time": "2023-02-21T06:49:41.912326",
     "status": "completed"
    },
    "tags": []
   },
   "source": [
    "# Data Manipulation"
   ]
  },
  {
   "cell_type": "code",
   "execution_count": 9,
   "id": "9245b800",
   "metadata": {
    "execution": {
     "iopub.execute_input": "2023-02-21T06:49:41.942995Z",
     "iopub.status.busy": "2023-02-21T06:49:41.942274Z",
     "iopub.status.idle": "2023-02-21T06:49:41.963956Z",
     "shell.execute_reply": "2023-02-21T06:49:41.962945Z"
    },
    "papermill": {
     "duration": 0.035189,
     "end_time": "2023-02-21T06:49:41.966413",
     "exception": false,
     "start_time": "2023-02-21T06:49:41.931224",
     "status": "completed"
    },
    "tags": []
   },
   "outputs": [],
   "source": [
    "# label encode all string categorical columns (embarked and sex)\n",
    "# embarked : S,Q,C,na ->(0,1,2,3) respectively and sex: M,F (0,1)\n",
    "\n",
    "embark=[]\n",
    "for i in df[\"Embarked\"]:\n",
    "    if i==\"S\":\n",
    "        embark.append(0)\n",
    "    elif i==\"Q\":\n",
    "        embark.append(1)\n",
    "    elif i==\"C\":\n",
    "        embark.append(2)\n",
    "    else:\n",
    "        embark.append(3)\n",
    "sex=[]\n",
    "for i in df[\"Sex\"]:\n",
    "    if i=='M':\n",
    "        sex.append(0)\n",
    "    else:\n",
    "        sex.append(1)\n",
    "        \n",
    "df=df.drop([\"Sex\"], axis=1)\n",
    "df=df.drop([\"Embarked\"], axis=1)\n",
    "\n",
    "df[\"Sex\"]=sex\n",
    "df[\"Embarked\"]=embark"
   ]
  },
  {
   "cell_type": "code",
   "execution_count": 10,
   "id": "b9bc7cba",
   "metadata": {
    "execution": {
     "iopub.execute_input": "2023-02-21T06:49:41.988021Z",
     "iopub.status.busy": "2023-02-21T06:49:41.987147Z",
     "iopub.status.idle": "2023-02-21T06:49:42.002412Z",
     "shell.execute_reply": "2023-02-21T06:49:42.001435Z"
    },
    "papermill": {
     "duration": 0.028508,
     "end_time": "2023-02-21T06:49:42.004690",
     "exception": false,
     "start_time": "2023-02-21T06:49:41.976182",
     "status": "completed"
    },
    "tags": []
   },
   "outputs": [
    {
     "data": {
      "text/html": [
       "<div>\n",
       "<style scoped>\n",
       "    .dataframe tbody tr th:only-of-type {\n",
       "        vertical-align: middle;\n",
       "    }\n",
       "\n",
       "    .dataframe tbody tr th {\n",
       "        vertical-align: top;\n",
       "    }\n",
       "\n",
       "    .dataframe thead th {\n",
       "        text-align: right;\n",
       "    }\n",
       "</style>\n",
       "<table border=\"1\" class=\"dataframe\">\n",
       "  <thead>\n",
       "    <tr style=\"text-align: right;\">\n",
       "      <th></th>\n",
       "      <th>Survived</th>\n",
       "      <th>Pclass</th>\n",
       "      <th>Age</th>\n",
       "      <th>SibSp</th>\n",
       "      <th>Parch</th>\n",
       "      <th>Fare</th>\n",
       "      <th>Sex</th>\n",
       "      <th>Embarked</th>\n",
       "    </tr>\n",
       "  </thead>\n",
       "  <tbody>\n",
       "    <tr>\n",
       "      <th>1</th>\n",
       "      <td>1</td>\n",
       "      <td>1</td>\n",
       "      <td>38.0</td>\n",
       "      <td>1</td>\n",
       "      <td>0</td>\n",
       "      <td>71.2833</td>\n",
       "      <td>1</td>\n",
       "      <td>2</td>\n",
       "    </tr>\n",
       "    <tr>\n",
       "      <th>3</th>\n",
       "      <td>1</td>\n",
       "      <td>1</td>\n",
       "      <td>35.0</td>\n",
       "      <td>1</td>\n",
       "      <td>0</td>\n",
       "      <td>53.1000</td>\n",
       "      <td>1</td>\n",
       "      <td>0</td>\n",
       "    </tr>\n",
       "    <tr>\n",
       "      <th>6</th>\n",
       "      <td>0</td>\n",
       "      <td>1</td>\n",
       "      <td>54.0</td>\n",
       "      <td>0</td>\n",
       "      <td>0</td>\n",
       "      <td>51.8625</td>\n",
       "      <td>1</td>\n",
       "      <td>0</td>\n",
       "    </tr>\n",
       "    <tr>\n",
       "      <th>10</th>\n",
       "      <td>1</td>\n",
       "      <td>3</td>\n",
       "      <td>4.0</td>\n",
       "      <td>1</td>\n",
       "      <td>1</td>\n",
       "      <td>16.7000</td>\n",
       "      <td>1</td>\n",
       "      <td>0</td>\n",
       "    </tr>\n",
       "    <tr>\n",
       "      <th>11</th>\n",
       "      <td>1</td>\n",
       "      <td>1</td>\n",
       "      <td>58.0</td>\n",
       "      <td>0</td>\n",
       "      <td>0</td>\n",
       "      <td>26.5500</td>\n",
       "      <td>1</td>\n",
       "      <td>0</td>\n",
       "    </tr>\n",
       "  </tbody>\n",
       "</table>\n",
       "</div>"
      ],
      "text/plain": [
       "    Survived  Pclass   Age  SibSp  Parch     Fare  Sex  Embarked\n",
       "1          1       1  38.0      1      0  71.2833    1         2\n",
       "3          1       1  35.0      1      0  53.1000    1         0\n",
       "6          0       1  54.0      0      0  51.8625    1         0\n",
       "10         1       3   4.0      1      1  16.7000    1         0\n",
       "11         1       1  58.0      0      0  26.5500    1         0"
      ]
     },
     "execution_count": 10,
     "metadata": {},
     "output_type": "execute_result"
    }
   ],
   "source": [
    "df.head()"
   ]
  },
  {
   "cell_type": "code",
   "execution_count": 11,
   "id": "98a28083",
   "metadata": {
    "execution": {
     "iopub.execute_input": "2023-02-21T06:49:42.027397Z",
     "iopub.status.busy": "2023-02-21T06:49:42.026404Z",
     "iopub.status.idle": "2023-02-21T06:49:43.375704Z",
     "shell.execute_reply": "2023-02-21T06:49:43.373896Z"
    },
    "papermill": {
     "duration": 1.363945,
     "end_time": "2023-02-21T06:49:43.378719",
     "exception": false,
     "start_time": "2023-02-21T06:49:42.014774",
     "status": "completed"
    },
    "tags": []
   },
   "outputs": [],
   "source": [
    "# Normalizing the values in the dataframe\n",
    "from sklearn import preprocessing\n",
    "\n",
    "df_temp=df\n",
    "scaler = preprocessing.MinMaxScaler()\n",
    "names = df_temp.columns\n",
    "#names.remove(\"Loan_ID\")\n",
    "d = scaler.fit_transform(df_temp)\n",
    "df = pd.DataFrame(d, columns = names)"
   ]
  },
  {
   "cell_type": "code",
   "execution_count": 12,
   "id": "7fa9cad8",
   "metadata": {
    "execution": {
     "iopub.execute_input": "2023-02-21T06:49:43.401055Z",
     "iopub.status.busy": "2023-02-21T06:49:43.400561Z",
     "iopub.status.idle": "2023-02-21T06:49:43.419139Z",
     "shell.execute_reply": "2023-02-21T06:49:43.418196Z"
    },
    "papermill": {
     "duration": 0.032275,
     "end_time": "2023-02-21T06:49:43.421363",
     "exception": false,
     "start_time": "2023-02-21T06:49:43.389088",
     "status": "completed"
    },
    "tags": []
   },
   "outputs": [
    {
     "data": {
      "text/html": [
       "<div>\n",
       "<style scoped>\n",
       "    .dataframe tbody tr th:only-of-type {\n",
       "        vertical-align: middle;\n",
       "    }\n",
       "\n",
       "    .dataframe tbody tr th {\n",
       "        vertical-align: top;\n",
       "    }\n",
       "\n",
       "    .dataframe thead th {\n",
       "        text-align: right;\n",
       "    }\n",
       "</style>\n",
       "<table border=\"1\" class=\"dataframe\">\n",
       "  <thead>\n",
       "    <tr style=\"text-align: right;\">\n",
       "      <th></th>\n",
       "      <th>Survived</th>\n",
       "      <th>Pclass</th>\n",
       "      <th>Age</th>\n",
       "      <th>SibSp</th>\n",
       "      <th>Parch</th>\n",
       "      <th>Fare</th>\n",
       "      <th>Sex</th>\n",
       "      <th>Embarked</th>\n",
       "    </tr>\n",
       "  </thead>\n",
       "  <tbody>\n",
       "    <tr>\n",
       "      <th>0</th>\n",
       "      <td>1.0</td>\n",
       "      <td>0.0</td>\n",
       "      <td>0.468892</td>\n",
       "      <td>0.333333</td>\n",
       "      <td>0.00</td>\n",
       "      <td>0.139136</td>\n",
       "      <td>0.0</td>\n",
       "      <td>1.0</td>\n",
       "    </tr>\n",
       "    <tr>\n",
       "      <th>1</th>\n",
       "      <td>1.0</td>\n",
       "      <td>0.0</td>\n",
       "      <td>0.430956</td>\n",
       "      <td>0.333333</td>\n",
       "      <td>0.00</td>\n",
       "      <td>0.103644</td>\n",
       "      <td>0.0</td>\n",
       "      <td>0.0</td>\n",
       "    </tr>\n",
       "    <tr>\n",
       "      <th>2</th>\n",
       "      <td>0.0</td>\n",
       "      <td>0.0</td>\n",
       "      <td>0.671219</td>\n",
       "      <td>0.000000</td>\n",
       "      <td>0.00</td>\n",
       "      <td>0.101229</td>\n",
       "      <td>0.0</td>\n",
       "      <td>0.0</td>\n",
       "    </tr>\n",
       "    <tr>\n",
       "      <th>3</th>\n",
       "      <td>1.0</td>\n",
       "      <td>1.0</td>\n",
       "      <td>0.038948</td>\n",
       "      <td>0.333333</td>\n",
       "      <td>0.25</td>\n",
       "      <td>0.032596</td>\n",
       "      <td>0.0</td>\n",
       "      <td>0.0</td>\n",
       "    </tr>\n",
       "    <tr>\n",
       "      <th>4</th>\n",
       "      <td>1.0</td>\n",
       "      <td>0.0</td>\n",
       "      <td>0.721801</td>\n",
       "      <td>0.000000</td>\n",
       "      <td>0.00</td>\n",
       "      <td>0.051822</td>\n",
       "      <td>0.0</td>\n",
       "      <td>0.0</td>\n",
       "    </tr>\n",
       "  </tbody>\n",
       "</table>\n",
       "</div>"
      ],
      "text/plain": [
       "   Survived  Pclass       Age     SibSp  Parch      Fare  Sex  Embarked\n",
       "0       1.0     0.0  0.468892  0.333333   0.00  0.139136  0.0       1.0\n",
       "1       1.0     0.0  0.430956  0.333333   0.00  0.103644  0.0       0.0\n",
       "2       0.0     0.0  0.671219  0.000000   0.00  0.101229  0.0       0.0\n",
       "3       1.0     1.0  0.038948  0.333333   0.25  0.032596  0.0       0.0\n",
       "4       1.0     0.0  0.721801  0.000000   0.00  0.051822  0.0       0.0"
      ]
     },
     "execution_count": 12,
     "metadata": {},
     "output_type": "execute_result"
    }
   ],
   "source": [
    "df.head()"
   ]
  },
  {
   "cell_type": "markdown",
   "id": "9121d3df",
   "metadata": {
    "papermill": {
     "duration": 0.009742,
     "end_time": "2023-02-21T06:49:43.441301",
     "exception": false,
     "start_time": "2023-02-21T06:49:43.431559",
     "status": "completed"
    },
    "tags": []
   },
   "source": [
    "# Model implementation"
   ]
  },
  {
   "cell_type": "code",
   "execution_count": 13,
   "id": "eaaaf56f",
   "metadata": {
    "execution": {
     "iopub.execute_input": "2023-02-21T06:49:43.463724Z",
     "iopub.status.busy": "2023-02-21T06:49:43.462964Z",
     "iopub.status.idle": "2023-02-21T06:49:43.469138Z",
     "shell.execute_reply": "2023-02-21T06:49:43.467854Z"
    },
    "papermill": {
     "duration": 0.02059,
     "end_time": "2023-02-21T06:49:43.471986",
     "exception": false,
     "start_time": "2023-02-21T06:49:43.451396",
     "status": "completed"
    },
    "tags": []
   },
   "outputs": [],
   "source": [
    "# Split the dataframe into data and labels\n",
    "X_train = df.drop('Survived', axis=1) # data\n",
    "y_train = df.Survived # labels"
   ]
  },
  {
   "cell_type": "markdown",
   "id": "d695df2c",
   "metadata": {
    "papermill": {
     "duration": 0.009732,
     "end_time": "2023-02-21T06:49:43.492515",
     "exception": false,
     "start_time": "2023-02-21T06:49:43.482783",
     "status": "completed"
    },
    "tags": []
   },
   "source": [
    "# Logistic Regression"
   ]
  },
  {
   "cell_type": "code",
   "execution_count": 14,
   "id": "5c607e70",
   "metadata": {
    "execution": {
     "iopub.execute_input": "2023-02-21T06:49:43.515523Z",
     "iopub.status.busy": "2023-02-21T06:49:43.514796Z",
     "iopub.status.idle": "2023-02-21T06:49:43.731995Z",
     "shell.execute_reply": "2023-02-21T06:49:43.730902Z"
    },
    "papermill": {
     "duration": 0.23206,
     "end_time": "2023-02-21T06:49:43.735059",
     "exception": false,
     "start_time": "2023-02-21T06:49:43.502999",
     "status": "completed"
    },
    "tags": []
   },
   "outputs": [
    {
     "name": "stdout",
     "output_type": "stream",
     "text": [
      "Accuracy: 69.95\n"
     ]
    }
   ],
   "source": [
    "# Logistic Regression\n",
    "from sklearn.linear_model import LogisticRegression\n",
    "from sklearn import model_selection, metrics\n",
    "\n",
    "\n",
    "log_model=LogisticRegression().fit(X_train, y_train)\n",
    "acc_log = round(log_model.score(X_train, y_train) * 100, 2)\n",
    "\n",
    "print(\"Accuracy: %s\" % acc_log)"
   ]
  },
  {
   "cell_type": "markdown",
   "id": "d2668750",
   "metadata": {
    "papermill": {
     "duration": 0.011093,
     "end_time": "2023-02-21T06:49:43.757119",
     "exception": false,
     "start_time": "2023-02-21T06:49:43.746026",
     "status": "completed"
    },
    "tags": []
   },
   "source": [
    "# Decision Tree"
   ]
  },
  {
   "cell_type": "code",
   "execution_count": 15,
   "id": "0df6d2d1",
   "metadata": {
    "execution": {
     "iopub.execute_input": "2023-02-21T06:49:43.780444Z",
     "iopub.status.busy": "2023-02-21T06:49:43.779987Z",
     "iopub.status.idle": "2023-02-21T06:49:43.890790Z",
     "shell.execute_reply": "2023-02-21T06:49:43.888834Z"
    },
    "papermill": {
     "duration": 0.12558,
     "end_time": "2023-02-21T06:49:43.893623",
     "exception": false,
     "start_time": "2023-02-21T06:49:43.768043",
     "status": "completed"
    },
    "tags": []
   },
   "outputs": [
    {
     "name": "stdout",
     "output_type": "stream",
     "text": [
      "Accuracy: 100.0\n"
     ]
    }
   ],
   "source": [
    "# Decision Tree Classifier\n",
    "from sklearn import tree\n",
    "\n",
    "dt_model=tree.DecisionTreeClassifier().fit(X_train, y_train)\n",
    "acc_dt=round(dt_model.score(X_train, y_train)*100, 2)\n",
    "\n",
    "print(\"Accuracy: %s\" % acc_dt)"
   ]
  },
  {
   "cell_type": "markdown",
   "id": "646d5fc8",
   "metadata": {
    "papermill": {
     "duration": 0.010068,
     "end_time": "2023-02-21T06:49:43.914454",
     "exception": false,
     "start_time": "2023-02-21T06:49:43.904386",
     "status": "completed"
    },
    "tags": []
   },
   "source": [
    "# SVM"
   ]
  },
  {
   "cell_type": "code",
   "execution_count": 16,
   "id": "ccc582c4",
   "metadata": {
    "execution": {
     "iopub.execute_input": "2023-02-21T06:49:43.937454Z",
     "iopub.status.busy": "2023-02-21T06:49:43.937053Z",
     "iopub.status.idle": "2023-02-21T06:49:43.957062Z",
     "shell.execute_reply": "2023-02-21T06:49:43.955448Z"
    },
    "papermill": {
     "duration": 0.034662,
     "end_time": "2023-02-21T06:49:43.959710",
     "exception": false,
     "start_time": "2023-02-21T06:49:43.925048",
     "status": "completed"
    },
    "tags": []
   },
   "outputs": [
    {
     "name": "stdout",
     "output_type": "stream",
     "text": [
      "Accuracy: 79.23\n"
     ]
    }
   ],
   "source": [
    "# Using SVM\n",
    "from sklearn.svm import SVC\n",
    "from sklearn.metrics import accuracy_score\n",
    "\n",
    "svc=SVC(kernel='rbf', C=100.0) # change values of C=1,100,1000, kernel=linear and C=1.0,100,1000\n",
    "svm_model=svc.fit(X_train,y_train)\n",
    "acc_svm=round(svm_model.score(X_train, y_train)*100, 2)\n",
    "\n",
    "print('Accuracy: %s' % acc_svm)"
   ]
  },
  {
   "cell_type": "code",
   "execution_count": 17,
   "id": "8de33ba3",
   "metadata": {
    "execution": {
     "iopub.execute_input": "2023-02-21T06:49:43.982853Z",
     "iopub.status.busy": "2023-02-21T06:49:43.982361Z",
     "iopub.status.idle": "2023-02-21T06:49:43.987172Z",
     "shell.execute_reply": "2023-02-21T06:49:43.986183Z"
    },
    "papermill": {
     "duration": 0.018917,
     "end_time": "2023-02-21T06:49:43.989461",
     "exception": false,
     "start_time": "2023-02-21T06:49:43.970544",
     "status": "completed"
    },
    "tags": []
   },
   "outputs": [],
   "source": [
    "# RBF Kernel is popular because of its similarity to K-Nearest Neighborhood Algorithm. \n",
    "# It has the advantages of K-NN and overcomes the space complexity problem as RBF Kernel Support Vector Machines \n",
    "# just needs to store the support vectors during training and not the entire dataset"
   ]
  },
  {
   "cell_type": "markdown",
   "id": "d5c51fe5",
   "metadata": {
    "papermill": {
     "duration": 0.010924,
     "end_time": "2023-02-21T06:49:44.010773",
     "exception": false,
     "start_time": "2023-02-21T06:49:43.999849",
     "status": "completed"
    },
    "tags": []
   },
   "source": [
    "# Prediction and Submission"
   ]
  },
  {
   "cell_type": "code",
   "execution_count": 18,
   "id": "aca82a1b",
   "metadata": {
    "execution": {
     "iopub.execute_input": "2023-02-21T06:49:44.033744Z",
     "iopub.status.busy": "2023-02-21T06:49:44.033218Z",
     "iopub.status.idle": "2023-02-21T06:49:44.058744Z",
     "shell.execute_reply": "2023-02-21T06:49:44.057096Z"
    },
    "papermill": {
     "duration": 0.04028,
     "end_time": "2023-02-21T06:49:44.061662",
     "exception": false,
     "start_time": "2023-02-21T06:49:44.021382",
     "status": "completed"
    },
    "tags": []
   },
   "outputs": [
    {
     "data": {
      "text/html": [
       "<div>\n",
       "<style scoped>\n",
       "    .dataframe tbody tr th:only-of-type {\n",
       "        vertical-align: middle;\n",
       "    }\n",
       "\n",
       "    .dataframe tbody tr th {\n",
       "        vertical-align: top;\n",
       "    }\n",
       "\n",
       "    .dataframe thead th {\n",
       "        text-align: right;\n",
       "    }\n",
       "</style>\n",
       "<table border=\"1\" class=\"dataframe\">\n",
       "  <thead>\n",
       "    <tr style=\"text-align: right;\">\n",
       "      <th></th>\n",
       "      <th>PassengerId</th>\n",
       "      <th>Pclass</th>\n",
       "      <th>Name</th>\n",
       "      <th>Sex</th>\n",
       "      <th>Age</th>\n",
       "      <th>SibSp</th>\n",
       "      <th>Parch</th>\n",
       "      <th>Ticket</th>\n",
       "      <th>Fare</th>\n",
       "      <th>Cabin</th>\n",
       "      <th>Embarked</th>\n",
       "    </tr>\n",
       "  </thead>\n",
       "  <tbody>\n",
       "    <tr>\n",
       "      <th>0</th>\n",
       "      <td>892</td>\n",
       "      <td>3</td>\n",
       "      <td>Kelly, Mr. James</td>\n",
       "      <td>male</td>\n",
       "      <td>34.5</td>\n",
       "      <td>0</td>\n",
       "      <td>0</td>\n",
       "      <td>330911</td>\n",
       "      <td>7.8292</td>\n",
       "      <td>NaN</td>\n",
       "      <td>Q</td>\n",
       "    </tr>\n",
       "    <tr>\n",
       "      <th>1</th>\n",
       "      <td>893</td>\n",
       "      <td>3</td>\n",
       "      <td>Wilkes, Mrs. James (Ellen Needs)</td>\n",
       "      <td>female</td>\n",
       "      <td>47.0</td>\n",
       "      <td>1</td>\n",
       "      <td>0</td>\n",
       "      <td>363272</td>\n",
       "      <td>7.0000</td>\n",
       "      <td>NaN</td>\n",
       "      <td>S</td>\n",
       "    </tr>\n",
       "    <tr>\n",
       "      <th>2</th>\n",
       "      <td>894</td>\n",
       "      <td>2</td>\n",
       "      <td>Myles, Mr. Thomas Francis</td>\n",
       "      <td>male</td>\n",
       "      <td>62.0</td>\n",
       "      <td>0</td>\n",
       "      <td>0</td>\n",
       "      <td>240276</td>\n",
       "      <td>9.6875</td>\n",
       "      <td>NaN</td>\n",
       "      <td>Q</td>\n",
       "    </tr>\n",
       "    <tr>\n",
       "      <th>3</th>\n",
       "      <td>895</td>\n",
       "      <td>3</td>\n",
       "      <td>Wirz, Mr. Albert</td>\n",
       "      <td>male</td>\n",
       "      <td>27.0</td>\n",
       "      <td>0</td>\n",
       "      <td>0</td>\n",
       "      <td>315154</td>\n",
       "      <td>8.6625</td>\n",
       "      <td>NaN</td>\n",
       "      <td>S</td>\n",
       "    </tr>\n",
       "    <tr>\n",
       "      <th>4</th>\n",
       "      <td>896</td>\n",
       "      <td>3</td>\n",
       "      <td>Hirvonen, Mrs. Alexander (Helga E Lindqvist)</td>\n",
       "      <td>female</td>\n",
       "      <td>22.0</td>\n",
       "      <td>1</td>\n",
       "      <td>1</td>\n",
       "      <td>3101298</td>\n",
       "      <td>12.2875</td>\n",
       "      <td>NaN</td>\n",
       "      <td>S</td>\n",
       "    </tr>\n",
       "  </tbody>\n",
       "</table>\n",
       "</div>"
      ],
      "text/plain": [
       "   PassengerId  Pclass                                          Name     Sex  \\\n",
       "0          892       3                              Kelly, Mr. James    male   \n",
       "1          893       3              Wilkes, Mrs. James (Ellen Needs)  female   \n",
       "2          894       2                     Myles, Mr. Thomas Francis    male   \n",
       "3          895       3                              Wirz, Mr. Albert    male   \n",
       "4          896       3  Hirvonen, Mrs. Alexander (Helga E Lindqvist)  female   \n",
       "\n",
       "    Age  SibSp  Parch   Ticket     Fare Cabin Embarked  \n",
       "0  34.5      0      0   330911   7.8292   NaN        Q  \n",
       "1  47.0      1      0   363272   7.0000   NaN        S  \n",
       "2  62.0      0      0   240276   9.6875   NaN        Q  \n",
       "3  27.0      0      0   315154   8.6625   NaN        S  \n",
       "4  22.0      1      1  3101298  12.2875   NaN        S  "
      ]
     },
     "execution_count": 18,
     "metadata": {},
     "output_type": "execute_result"
    }
   ],
   "source": [
    "test_df=pd.read_csv(\"/kaggle/input/titanic/test.csv\")\n",
    "test_df.head()"
   ]
  },
  {
   "cell_type": "code",
   "execution_count": 19,
   "id": "a8a8f08e",
   "metadata": {
    "execution": {
     "iopub.execute_input": "2023-02-21T06:49:44.086357Z",
     "iopub.status.busy": "2023-02-21T06:49:44.085916Z",
     "iopub.status.idle": "2023-02-21T06:49:44.093791Z",
     "shell.execute_reply": "2023-02-21T06:49:44.092432Z"
    },
    "papermill": {
     "duration": 0.023064,
     "end_time": "2023-02-21T06:49:44.096514",
     "exception": false,
     "start_time": "2023-02-21T06:49:44.073450",
     "status": "completed"
    },
    "tags": []
   },
   "outputs": [],
   "source": [
    "df_model=pd.DataFrame()\n",
    "df_model=test_df.drop([\"Name\",\"PassengerId\",\"Cabin\",\"Ticket\"], axis=1)"
   ]
  },
  {
   "cell_type": "code",
   "execution_count": 20,
   "id": "83196585",
   "metadata": {
    "execution": {
     "iopub.execute_input": "2023-02-21T06:49:44.120326Z",
     "iopub.status.busy": "2023-02-21T06:49:44.119279Z",
     "iopub.status.idle": "2023-02-21T06:49:44.131900Z",
     "shell.execute_reply": "2023-02-21T06:49:44.130874Z"
    },
    "papermill": {
     "duration": 0.027123,
     "end_time": "2023-02-21T06:49:44.134425",
     "exception": false,
     "start_time": "2023-02-21T06:49:44.107302",
     "status": "completed"
    },
    "tags": []
   },
   "outputs": [],
   "source": [
    "embark=[]\n",
    "for i in test_df[\"Embarked\"]:\n",
    "    if i==\"S\":\n",
    "        embark.append(0)\n",
    "    elif i==\"Q\":\n",
    "        embark.append(1)\n",
    "    elif i==\"C\":\n",
    "        embark.append(2)\n",
    "    else:\n",
    "        embark.append(3)\n",
    "sex=[]\n",
    "for i in test_df[\"Sex\"]:\n",
    "    if i=='M':\n",
    "        sex.append(0)\n",
    "    else:\n",
    "        sex.append(1)\n",
    "        \n",
    "df_model=df_model.drop([\"Sex\"], axis=1)\n",
    "df_model=df_model.drop([\"Embarked\"], axis=1)\n",
    "\n",
    "df_model[\"Sex\"]=sex\n",
    "df_model[\"Embarked\"]=embark"
   ]
  },
  {
   "cell_type": "code",
   "execution_count": 21,
   "id": "4ef151b6",
   "metadata": {
    "execution": {
     "iopub.execute_input": "2023-02-21T06:49:44.158432Z",
     "iopub.status.busy": "2023-02-21T06:49:44.157675Z",
     "iopub.status.idle": "2023-02-21T06:49:44.168918Z",
     "shell.execute_reply": "2023-02-21T06:49:44.167489Z"
    },
    "papermill": {
     "duration": 0.026637,
     "end_time": "2023-02-21T06:49:44.171857",
     "exception": false,
     "start_time": "2023-02-21T06:49:44.145220",
     "status": "completed"
    },
    "tags": []
   },
   "outputs": [],
   "source": [
    "df_temp=df_model\n",
    "scaler = preprocessing.MinMaxScaler()\n",
    "names = df_temp.columns\n",
    "#names.remove(\"Loan_ID\")\n",
    "d = scaler.fit_transform(df_temp)\n",
    "df_model = pd.DataFrame(d, columns = names)"
   ]
  },
  {
   "cell_type": "code",
   "execution_count": 22,
   "id": "917e40fd",
   "metadata": {
    "execution": {
     "iopub.execute_input": "2023-02-21T06:49:44.195935Z",
     "iopub.status.busy": "2023-02-21T06:49:44.195389Z",
     "iopub.status.idle": "2023-02-21T06:49:44.212308Z",
     "shell.execute_reply": "2023-02-21T06:49:44.211068Z"
    },
    "papermill": {
     "duration": 0.031573,
     "end_time": "2023-02-21T06:49:44.214647",
     "exception": false,
     "start_time": "2023-02-21T06:49:44.183074",
     "status": "completed"
    },
    "tags": []
   },
   "outputs": [
    {
     "data": {
      "text/html": [
       "<div>\n",
       "<style scoped>\n",
       "    .dataframe tbody tr th:only-of-type {\n",
       "        vertical-align: middle;\n",
       "    }\n",
       "\n",
       "    .dataframe tbody tr th {\n",
       "        vertical-align: top;\n",
       "    }\n",
       "\n",
       "    .dataframe thead th {\n",
       "        text-align: right;\n",
       "    }\n",
       "</style>\n",
       "<table border=\"1\" class=\"dataframe\">\n",
       "  <thead>\n",
       "    <tr style=\"text-align: right;\">\n",
       "      <th></th>\n",
       "      <th>Pclass</th>\n",
       "      <th>Age</th>\n",
       "      <th>SibSp</th>\n",
       "      <th>Parch</th>\n",
       "      <th>Fare</th>\n",
       "      <th>Sex</th>\n",
       "      <th>Embarked</th>\n",
       "    </tr>\n",
       "  </thead>\n",
       "  <tbody>\n",
       "    <tr>\n",
       "      <th>0</th>\n",
       "      <td>1.0</td>\n",
       "      <td>0.452723</td>\n",
       "      <td>0.000</td>\n",
       "      <td>0.000000</td>\n",
       "      <td>0.015282</td>\n",
       "      <td>0.0</td>\n",
       "      <td>0.5</td>\n",
       "    </tr>\n",
       "    <tr>\n",
       "      <th>1</th>\n",
       "      <td>1.0</td>\n",
       "      <td>0.617566</td>\n",
       "      <td>0.125</td>\n",
       "      <td>0.000000</td>\n",
       "      <td>0.013663</td>\n",
       "      <td>0.0</td>\n",
       "      <td>0.0</td>\n",
       "    </tr>\n",
       "    <tr>\n",
       "      <th>2</th>\n",
       "      <td>0.5</td>\n",
       "      <td>0.815377</td>\n",
       "      <td>0.000</td>\n",
       "      <td>0.000000</td>\n",
       "      <td>0.018909</td>\n",
       "      <td>0.0</td>\n",
       "      <td>0.5</td>\n",
       "    </tr>\n",
       "    <tr>\n",
       "      <th>3</th>\n",
       "      <td>1.0</td>\n",
       "      <td>0.353818</td>\n",
       "      <td>0.000</td>\n",
       "      <td>0.000000</td>\n",
       "      <td>0.016908</td>\n",
       "      <td>0.0</td>\n",
       "      <td>0.0</td>\n",
       "    </tr>\n",
       "    <tr>\n",
       "      <th>4</th>\n",
       "      <td>1.0</td>\n",
       "      <td>0.287881</td>\n",
       "      <td>0.125</td>\n",
       "      <td>0.111111</td>\n",
       "      <td>0.023984</td>\n",
       "      <td>0.0</td>\n",
       "      <td>0.0</td>\n",
       "    </tr>\n",
       "  </tbody>\n",
       "</table>\n",
       "</div>"
      ],
      "text/plain": [
       "   Pclass       Age  SibSp     Parch      Fare  Sex  Embarked\n",
       "0     1.0  0.452723  0.000  0.000000  0.015282  0.0       0.5\n",
       "1     1.0  0.617566  0.125  0.000000  0.013663  0.0       0.0\n",
       "2     0.5  0.815377  0.000  0.000000  0.018909  0.0       0.5\n",
       "3     1.0  0.353818  0.000  0.000000  0.016908  0.0       0.0\n",
       "4     1.0  0.287881  0.125  0.111111  0.023984  0.0       0.0"
      ]
     },
     "execution_count": 22,
     "metadata": {},
     "output_type": "execute_result"
    }
   ],
   "source": [
    "df_model.head()"
   ]
  },
  {
   "cell_type": "code",
   "execution_count": 23,
   "id": "c93b5a31",
   "metadata": {
    "execution": {
     "iopub.execute_input": "2023-02-21T06:49:44.238230Z",
     "iopub.status.busy": "2023-02-21T06:49:44.237774Z",
     "iopub.status.idle": "2023-02-21T06:49:44.247415Z",
     "shell.execute_reply": "2023-02-21T06:49:44.246098Z"
    },
    "papermill": {
     "duration": 0.02417,
     "end_time": "2023-02-21T06:49:44.249688",
     "exception": false,
     "start_time": "2023-02-21T06:49:44.225518",
     "status": "completed"
    },
    "tags": []
   },
   "outputs": [
    {
     "data": {
      "text/plain": [
       "Pclass       0\n",
       "Age         86\n",
       "SibSp        0\n",
       "Parch        0\n",
       "Fare         1\n",
       "Sex          0\n",
       "Embarked     0\n",
       "dtype: int64"
      ]
     },
     "execution_count": 23,
     "metadata": {},
     "output_type": "execute_result"
    }
   ],
   "source": [
    "df_model.isnull().sum()"
   ]
  },
  {
   "cell_type": "code",
   "execution_count": 24,
   "id": "161254fb",
   "metadata": {
    "execution": {
     "iopub.execute_input": "2023-02-21T06:49:44.273199Z",
     "iopub.status.busy": "2023-02-21T06:49:44.272797Z",
     "iopub.status.idle": "2023-02-21T06:49:44.279203Z",
     "shell.execute_reply": "2023-02-21T06:49:44.277982Z"
    },
    "papermill": {
     "duration": 0.021163,
     "end_time": "2023-02-21T06:49:44.281690",
     "exception": false,
     "start_time": "2023-02-21T06:49:44.260527",
     "status": "completed"
    },
    "tags": []
   },
   "outputs": [],
   "source": [
    "#replace null value in Fare as 0\n",
    "df_model[\"Fare\"].fillna(0.5, inplace = True)\n",
    "df_model[\"Age\"].fillna(0.5, inplace = True)"
   ]
  },
  {
   "cell_type": "code",
   "execution_count": 25,
   "id": "ddaa9427",
   "metadata": {
    "execution": {
     "iopub.execute_input": "2023-02-21T06:49:44.307292Z",
     "iopub.status.busy": "2023-02-21T06:49:44.306830Z",
     "iopub.status.idle": "2023-02-21T06:49:44.314630Z",
     "shell.execute_reply": "2023-02-21T06:49:44.313663Z"
    },
    "papermill": {
     "duration": 0.023855,
     "end_time": "2023-02-21T06:49:44.317331",
     "exception": false,
     "start_time": "2023-02-21T06:49:44.293476",
     "status": "completed"
    },
    "tags": []
   },
   "outputs": [],
   "source": [
    "predictions = dt_model.predict(df_model)\n",
    "predictions= [int(x) for x in predictions]"
   ]
  },
  {
   "cell_type": "code",
   "execution_count": 26,
   "id": "f74d15bd",
   "metadata": {
    "execution": {
     "iopub.execute_input": "2023-02-21T06:49:44.341541Z",
     "iopub.status.busy": "2023-02-21T06:49:44.341073Z",
     "iopub.status.idle": "2023-02-21T06:49:44.348953Z",
     "shell.execute_reply": "2023-02-21T06:49:44.347670Z"
    },
    "papermill": {
     "duration": 0.022329,
     "end_time": "2023-02-21T06:49:44.351398",
     "exception": false,
     "start_time": "2023-02-21T06:49:44.329069",
     "status": "completed"
    },
    "tags": []
   },
   "outputs": [
    {
     "data": {
      "text/plain": [
       "418"
      ]
     },
     "execution_count": 26,
     "metadata": {},
     "output_type": "execute_result"
    }
   ],
   "source": [
    "len(predictions)"
   ]
  },
  {
   "cell_type": "code",
   "execution_count": 27,
   "id": "766c22dd",
   "metadata": {
    "execution": {
     "iopub.execute_input": "2023-02-21T06:49:44.375953Z",
     "iopub.status.busy": "2023-02-21T06:49:44.375490Z",
     "iopub.status.idle": "2023-02-21T06:49:44.396147Z",
     "shell.execute_reply": "2023-02-21T06:49:44.395154Z"
    },
    "papermill": {
     "duration": 0.036343,
     "end_time": "2023-02-21T06:49:44.398746",
     "exception": false,
     "start_time": "2023-02-21T06:49:44.362403",
     "status": "completed"
    },
    "tags": []
   },
   "outputs": [
    {
     "data": {
      "text/html": [
       "<div>\n",
       "<style scoped>\n",
       "    .dataframe tbody tr th:only-of-type {\n",
       "        vertical-align: middle;\n",
       "    }\n",
       "\n",
       "    .dataframe tbody tr th {\n",
       "        vertical-align: top;\n",
       "    }\n",
       "\n",
       "    .dataframe thead th {\n",
       "        text-align: right;\n",
       "    }\n",
       "</style>\n",
       "<table border=\"1\" class=\"dataframe\">\n",
       "  <thead>\n",
       "    <tr style=\"text-align: right;\">\n",
       "      <th></th>\n",
       "      <th>PassengerId</th>\n",
       "      <th>Survived</th>\n",
       "    </tr>\n",
       "  </thead>\n",
       "  <tbody>\n",
       "    <tr>\n",
       "      <th>0</th>\n",
       "      <td>892</td>\n",
       "      <td>0</td>\n",
       "    </tr>\n",
       "    <tr>\n",
       "      <th>1</th>\n",
       "      <td>893</td>\n",
       "      <td>1</td>\n",
       "    </tr>\n",
       "    <tr>\n",
       "      <th>2</th>\n",
       "      <td>894</td>\n",
       "      <td>0</td>\n",
       "    </tr>\n",
       "    <tr>\n",
       "      <th>3</th>\n",
       "      <td>895</td>\n",
       "      <td>0</td>\n",
       "    </tr>\n",
       "    <tr>\n",
       "      <th>4</th>\n",
       "      <td>896</td>\n",
       "      <td>1</td>\n",
       "    </tr>\n",
       "  </tbody>\n",
       "</table>\n",
       "</div>"
      ],
      "text/plain": [
       "   PassengerId  Survived\n",
       "0          892         0\n",
       "1          893         1\n",
       "2          894         0\n",
       "3          895         0\n",
       "4          896         1"
      ]
     },
     "execution_count": 27,
     "metadata": {},
     "output_type": "execute_result"
    }
   ],
   "source": [
    "sub_csv=pd.read_csv(\"/kaggle/input/titanic/gender_submission.csv\")\n",
    "sub_csv.head()"
   ]
  },
  {
   "cell_type": "code",
   "execution_count": 28,
   "id": "a8ba4ad8",
   "metadata": {
    "execution": {
     "iopub.execute_input": "2023-02-21T06:49:44.424944Z",
     "iopub.status.busy": "2023-02-21T06:49:44.424217Z",
     "iopub.status.idle": "2023-02-21T06:49:44.436908Z",
     "shell.execute_reply": "2023-02-21T06:49:44.435679Z"
    },
    "papermill": {
     "duration": 0.028708,
     "end_time": "2023-02-21T06:49:44.439508",
     "exception": false,
     "start_time": "2023-02-21T06:49:44.410800",
     "status": "completed"
    },
    "tags": []
   },
   "outputs": [
    {
     "data": {
      "text/html": [
       "<div>\n",
       "<style scoped>\n",
       "    .dataframe tbody tr th:only-of-type {\n",
       "        vertical-align: middle;\n",
       "    }\n",
       "\n",
       "    .dataframe tbody tr th {\n",
       "        vertical-align: top;\n",
       "    }\n",
       "\n",
       "    .dataframe thead th {\n",
       "        text-align: right;\n",
       "    }\n",
       "</style>\n",
       "<table border=\"1\" class=\"dataframe\">\n",
       "  <thead>\n",
       "    <tr style=\"text-align: right;\">\n",
       "      <th></th>\n",
       "      <th>PassengerId</th>\n",
       "      <th>Survived</th>\n",
       "    </tr>\n",
       "  </thead>\n",
       "  <tbody>\n",
       "    <tr>\n",
       "      <th>0</th>\n",
       "      <td>892</td>\n",
       "      <td>0</td>\n",
       "    </tr>\n",
       "    <tr>\n",
       "      <th>1</th>\n",
       "      <td>893</td>\n",
       "      <td>0</td>\n",
       "    </tr>\n",
       "    <tr>\n",
       "      <th>2</th>\n",
       "      <td>894</td>\n",
       "      <td>0</td>\n",
       "    </tr>\n",
       "    <tr>\n",
       "      <th>3</th>\n",
       "      <td>895</td>\n",
       "      <td>1</td>\n",
       "    </tr>\n",
       "    <tr>\n",
       "      <th>4</th>\n",
       "      <td>896</td>\n",
       "      <td>1</td>\n",
       "    </tr>\n",
       "  </tbody>\n",
       "</table>\n",
       "</div>"
      ],
      "text/plain": [
       "   PassengerId  Survived\n",
       "0          892         0\n",
       "1          893         0\n",
       "2          894         0\n",
       "3          895         1\n",
       "4          896         1"
      ]
     },
     "execution_count": 28,
     "metadata": {},
     "output_type": "execute_result"
    }
   ],
   "source": [
    "submission=pd.DataFrame()\n",
    "submission[\"PassengerId\"]=test_df[\"PassengerId\"]\n",
    "submission[\"Survived\"]=predictions\n",
    "submission.head()"
   ]
  },
  {
   "cell_type": "code",
   "execution_count": 29,
   "id": "45adaaf2",
   "metadata": {
    "execution": {
     "iopub.execute_input": "2023-02-21T06:49:44.464704Z",
     "iopub.status.busy": "2023-02-21T06:49:44.464242Z",
     "iopub.status.idle": "2023-02-21T06:49:44.473392Z",
     "shell.execute_reply": "2023-02-21T06:49:44.471914Z"
    },
    "papermill": {
     "duration": 0.02545,
     "end_time": "2023-02-21T06:49:44.476488",
     "exception": false,
     "start_time": "2023-02-21T06:49:44.451038",
     "status": "completed"
    },
    "tags": []
   },
   "outputs": [],
   "source": [
    "submission.to_csv(\"submission.csv\", index=False)"
   ]
  }
 ],
 "metadata": {
  "kernelspec": {
   "display_name": "Python 3",
   "language": "python",
   "name": "python3"
  },
  "language_info": {
   "codemirror_mode": {
    "name": "ipython",
    "version": 3
   },
   "file_extension": ".py",
   "mimetype": "text/x-python",
   "name": "python",
   "nbconvert_exporter": "python",
   "pygments_lexer": "ipython3",
   "version": "3.7.12"
  },
  "papermill": {
   "default_parameters": {},
   "duration": 15.67075,
   "end_time": "2023-02-21T06:49:45.312088",
   "environment_variables": {},
   "exception": null,
   "input_path": "__notebook__.ipynb",
   "output_path": "__notebook__.ipynb",
   "parameters": {},
   "start_time": "2023-02-21T06:49:29.641338",
   "version": "2.3.4"
  }
 },
 "nbformat": 4,
 "nbformat_minor": 5
}
