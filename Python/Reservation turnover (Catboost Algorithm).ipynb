{
 "cells": [
  {
   "cell_type": "markdown",
   "id": "43da240e",
   "metadata": {
    "papermill": {
     "duration": 0.007737,
     "end_time": "2023-02-21T07:08:39.312762",
     "exception": false,
     "start_time": "2023-02-21T07:08:39.305025",
     "status": "completed"
    },
    "tags": []
   },
   "source": [
    "# Import libraries"
   ]
  },
  {
   "cell_type": "code",
   "execution_count": 1,
   "id": "05fcdede",
   "metadata": {
    "execution": {
     "iopub.execute_input": "2023-02-21T07:08:39.328793Z",
     "iopub.status.busy": "2023-02-21T07:08:39.327617Z",
     "iopub.status.idle": "2023-02-21T07:08:39.342879Z",
     "shell.execute_reply": "2023-02-21T07:08:39.341858Z"
    },
    "papermill": {
     "duration": 0.026148,
     "end_time": "2023-02-21T07:08:39.345606",
     "exception": false,
     "start_time": "2023-02-21T07:08:39.319458",
     "status": "completed"
    },
    "tags": []
   },
   "outputs": [],
   "source": [
    "import numpy as np \n",
    "import pandas as pd"
   ]
  },
  {
   "cell_type": "code",
   "execution_count": 2,
   "id": "6ad07db9",
   "metadata": {
    "execution": {
     "iopub.execute_input": "2023-02-21T07:08:39.360073Z",
     "iopub.status.busy": "2023-02-21T07:08:39.359673Z",
     "iopub.status.idle": "2023-02-21T07:08:39.501977Z",
     "shell.execute_reply": "2023-02-21T07:08:39.500538Z"
    },
    "papermill": {
     "duration": 0.152537,
     "end_time": "2023-02-21T07:08:39.504559",
     "exception": false,
     "start_time": "2023-02-21T07:08:39.352022",
     "status": "completed"
    },
    "tags": []
   },
   "outputs": [
    {
     "data": {
      "text/html": [
       "<div>\n",
       "<style scoped>\n",
       "    .dataframe tbody tr th:only-of-type {\n",
       "        vertical-align: middle;\n",
       "    }\n",
       "\n",
       "    .dataframe tbody tr th {\n",
       "        vertical-align: top;\n",
       "    }\n",
       "\n",
       "    .dataframe thead th {\n",
       "        text-align: right;\n",
       "    }\n",
       "</style>\n",
       "<table border=\"1\" class=\"dataframe\">\n",
       "  <thead>\n",
       "    <tr style=\"text-align: right;\">\n",
       "      <th></th>\n",
       "      <th>id</th>\n",
       "      <th>no_of_adults</th>\n",
       "      <th>no_of_children</th>\n",
       "      <th>no_of_weekend_nights</th>\n",
       "      <th>no_of_week_nights</th>\n",
       "      <th>type_of_meal_plan</th>\n",
       "      <th>required_car_parking_space</th>\n",
       "      <th>room_type_reserved</th>\n",
       "      <th>lead_time</th>\n",
       "      <th>arrival_year</th>\n",
       "      <th>arrival_month</th>\n",
       "      <th>arrival_date</th>\n",
       "      <th>market_segment_type</th>\n",
       "      <th>repeated_guest</th>\n",
       "      <th>no_of_previous_cancellations</th>\n",
       "      <th>no_of_previous_bookings_not_canceled</th>\n",
       "      <th>avg_price_per_room</th>\n",
       "      <th>no_of_special_requests</th>\n",
       "      <th>booking_status</th>\n",
       "    </tr>\n",
       "  </thead>\n",
       "  <tbody>\n",
       "    <tr>\n",
       "      <th>0</th>\n",
       "      <td>0</td>\n",
       "      <td>2</td>\n",
       "      <td>0</td>\n",
       "      <td>0</td>\n",
       "      <td>2</td>\n",
       "      <td>1</td>\n",
       "      <td>0</td>\n",
       "      <td>0</td>\n",
       "      <td>9</td>\n",
       "      <td>2018</td>\n",
       "      <td>1</td>\n",
       "      <td>14</td>\n",
       "      <td>1</td>\n",
       "      <td>1</td>\n",
       "      <td>11</td>\n",
       "      <td>0</td>\n",
       "      <td>67.50</td>\n",
       "      <td>0</td>\n",
       "      <td>0</td>\n",
       "    </tr>\n",
       "    <tr>\n",
       "      <th>1</th>\n",
       "      <td>1</td>\n",
       "      <td>2</td>\n",
       "      <td>0</td>\n",
       "      <td>1</td>\n",
       "      <td>2</td>\n",
       "      <td>0</td>\n",
       "      <td>0</td>\n",
       "      <td>0</td>\n",
       "      <td>117</td>\n",
       "      <td>2018</td>\n",
       "      <td>7</td>\n",
       "      <td>29</td>\n",
       "      <td>0</td>\n",
       "      <td>0</td>\n",
       "      <td>0</td>\n",
       "      <td>0</td>\n",
       "      <td>72.25</td>\n",
       "      <td>0</td>\n",
       "      <td>0</td>\n",
       "    </tr>\n",
       "    <tr>\n",
       "      <th>2</th>\n",
       "      <td>2</td>\n",
       "      <td>2</td>\n",
       "      <td>0</td>\n",
       "      <td>0</td>\n",
       "      <td>1</td>\n",
       "      <td>0</td>\n",
       "      <td>0</td>\n",
       "      <td>0</td>\n",
       "      <td>315</td>\n",
       "      <td>2018</td>\n",
       "      <td>12</td>\n",
       "      <td>2</td>\n",
       "      <td>0</td>\n",
       "      <td>0</td>\n",
       "      <td>0</td>\n",
       "      <td>0</td>\n",
       "      <td>52.00</td>\n",
       "      <td>0</td>\n",
       "      <td>0</td>\n",
       "    </tr>\n",
       "    <tr>\n",
       "      <th>3</th>\n",
       "      <td>3</td>\n",
       "      <td>1</td>\n",
       "      <td>0</td>\n",
       "      <td>0</td>\n",
       "      <td>2</td>\n",
       "      <td>1</td>\n",
       "      <td>0</td>\n",
       "      <td>0</td>\n",
       "      <td>32</td>\n",
       "      <td>2018</td>\n",
       "      <td>12</td>\n",
       "      <td>1</td>\n",
       "      <td>1</td>\n",
       "      <td>0</td>\n",
       "      <td>0</td>\n",
       "      <td>0</td>\n",
       "      <td>56.00</td>\n",
       "      <td>0</td>\n",
       "      <td>0</td>\n",
       "    </tr>\n",
       "    <tr>\n",
       "      <th>4</th>\n",
       "      <td>4</td>\n",
       "      <td>2</td>\n",
       "      <td>0</td>\n",
       "      <td>1</td>\n",
       "      <td>0</td>\n",
       "      <td>0</td>\n",
       "      <td>0</td>\n",
       "      <td>0</td>\n",
       "      <td>258</td>\n",
       "      <td>2018</td>\n",
       "      <td>10</td>\n",
       "      <td>16</td>\n",
       "      <td>0</td>\n",
       "      <td>0</td>\n",
       "      <td>0</td>\n",
       "      <td>0</td>\n",
       "      <td>100.00</td>\n",
       "      <td>0</td>\n",
       "      <td>1</td>\n",
       "    </tr>\n",
       "  </tbody>\n",
       "</table>\n",
       "</div>"
      ],
      "text/plain": [
       "   id  no_of_adults  no_of_children  no_of_weekend_nights  no_of_week_nights  \\\n",
       "0   0             2               0                     0                  2   \n",
       "1   1             2               0                     1                  2   \n",
       "2   2             2               0                     0                  1   \n",
       "3   3             1               0                     0                  2   \n",
       "4   4             2               0                     1                  0   \n",
       "\n",
       "   type_of_meal_plan  required_car_parking_space  room_type_reserved  \\\n",
       "0                  1                           0                   0   \n",
       "1                  0                           0                   0   \n",
       "2                  0                           0                   0   \n",
       "3                  1                           0                   0   \n",
       "4                  0                           0                   0   \n",
       "\n",
       "   lead_time  arrival_year  arrival_month  arrival_date  market_segment_type  \\\n",
       "0          9          2018              1            14                    1   \n",
       "1        117          2018              7            29                    0   \n",
       "2        315          2018             12             2                    0   \n",
       "3         32          2018             12             1                    1   \n",
       "4        258          2018             10            16                    0   \n",
       "\n",
       "   repeated_guest  no_of_previous_cancellations  \\\n",
       "0               1                            11   \n",
       "1               0                             0   \n",
       "2               0                             0   \n",
       "3               0                             0   \n",
       "4               0                             0   \n",
       "\n",
       "   no_of_previous_bookings_not_canceled  avg_price_per_room  \\\n",
       "0                                     0               67.50   \n",
       "1                                     0               72.25   \n",
       "2                                     0               52.00   \n",
       "3                                     0               56.00   \n",
       "4                                     0              100.00   \n",
       "\n",
       "   no_of_special_requests  booking_status  \n",
       "0                       0               0  \n",
       "1                       0               0  \n",
       "2                       0               0  \n",
       "3                       0               0  \n",
       "4                       0               1  "
      ]
     },
     "execution_count": 2,
     "metadata": {},
     "output_type": "execute_result"
    }
   ],
   "source": [
    "train_df=pd.read_csv(\"/kaggle/input/playground-series-s3e7/train.csv\")\n",
    "train_df.head()"
   ]
  },
  {
   "cell_type": "code",
   "execution_count": 3,
   "id": "95e0409b",
   "metadata": {
    "execution": {
     "iopub.execute_input": "2023-02-21T07:08:39.520096Z",
     "iopub.status.busy": "2023-02-21T07:08:39.519649Z",
     "iopub.status.idle": "2023-02-21T07:08:39.545813Z",
     "shell.execute_reply": "2023-02-21T07:08:39.544655Z"
    },
    "papermill": {
     "duration": 0.036787,
     "end_time": "2023-02-21T07:08:39.548261",
     "exception": false,
     "start_time": "2023-02-21T07:08:39.511474",
     "status": "completed"
    },
    "tags": []
   },
   "outputs": [
    {
     "data": {
      "text/plain": [
       "id                                      42100\n",
       "no_of_adults                                5\n",
       "no_of_children                              6\n",
       "no_of_weekend_nights                        8\n",
       "no_of_week_nights                          18\n",
       "type_of_meal_plan                           4\n",
       "required_car_parking_space                  2\n",
       "room_type_reserved                          7\n",
       "lead_time                                 338\n",
       "arrival_year                                2\n",
       "arrival_month                              12\n",
       "arrival_date                               31\n",
       "market_segment_type                         5\n",
       "repeated_guest                              2\n",
       "no_of_previous_cancellations               10\n",
       "no_of_previous_bookings_not_canceled       42\n",
       "avg_price_per_room                       2286\n",
       "no_of_special_requests                      6\n",
       "booking_status                              2\n",
       "dtype: int64"
      ]
     },
     "execution_count": 3,
     "metadata": {},
     "output_type": "execute_result"
    }
   ],
   "source": [
    "train_df.nunique()"
   ]
  },
  {
   "cell_type": "markdown",
   "id": "3dcf26ef",
   "metadata": {
    "papermill": {
     "duration": 0.006346,
     "end_time": "2023-02-21T07:08:39.561444",
     "exception": false,
     "start_time": "2023-02-21T07:08:39.555098",
     "status": "completed"
    },
    "tags": []
   },
   "source": [
    "# Correlation matrix"
   ]
  },
  {
   "cell_type": "code",
   "execution_count": 4,
   "id": "33b3a437",
   "metadata": {
    "execution": {
     "iopub.execute_input": "2023-02-21T07:08:39.577014Z",
     "iopub.status.busy": "2023-02-21T07:08:39.575820Z",
     "iopub.status.idle": "2023-02-21T07:08:42.664214Z",
     "shell.execute_reply": "2023-02-21T07:08:42.663173Z"
    },
    "papermill": {
     "duration": 3.100994,
     "end_time": "2023-02-21T07:08:42.669006",
     "exception": false,
     "start_time": "2023-02-21T07:08:39.568012",
     "status": "completed"
    },
    "tags": []
   },
   "outputs": [
    {
     "data": {
      "text/plain": [
       "<AxesSubplot:>"
      ]
     },
     "execution_count": 4,
     "metadata": {},
     "output_type": "execute_result"
    },
    {
     "data": {
      "image/png": "[encoded data removed]",
      "text/plain": [
       "<Figure size 1440x1440 with 2 Axes>"
      ]
     },
     "metadata": {
      "needs_background": "light"
     },
     "output_type": "display_data"
    }
   ],
   "source": [
    "# Correlation matrix\n",
    "import matplotlib.pyplot as plt\n",
    "import seaborn as sns\n",
    "\n",
    "corrmat = train_df.drop(\"id\", axis=1).corr()\n",
    "plt.subplots(figsize=(20,20))\n",
    "sns.heatmap(corrmat, annot=True)"
   ]
  },
  {
   "cell_type": "code",
   "execution_count": 5,
   "id": "fa0ee3ee",
   "metadata": {
    "execution": {
     "iopub.execute_input": "2023-02-21T07:08:42.692290Z",
     "iopub.status.busy": "2023-02-21T07:08:42.691005Z",
     "iopub.status.idle": "2023-02-21T07:08:42.696539Z",
     "shell.execute_reply": "2023-02-21T07:08:42.695257Z"
    },
    "papermill": {
     "duration": 0.0201,
     "end_time": "2023-02-21T07:08:42.699399",
     "exception": false,
     "start_time": "2023-02-21T07:08:42.679299",
     "status": "completed"
    },
    "tags": []
   },
   "outputs": [],
   "source": [
    "# Due to their linear dependence, two highly correlated variables can have nearly the same ability to predict the \n",
    "# outcome value for an observation. Removing one of the correlated variables before training the model benefits the \n",
    "# learning process and can result in a similar performance to the full model.\n",
    "\n",
    "#So remove all feature with correlation >0.8 or <-0.8\n",
    "#In our dataset we have none so all features are relevant"
   ]
  },
  {
   "cell_type": "markdown",
   "id": "ac1ddfb2",
   "metadata": {
    "papermill": {
     "duration": 0.010287,
     "end_time": "2023-02-21T07:08:42.720268",
     "exception": false,
     "start_time": "2023-02-21T07:08:42.709981",
     "status": "completed"
    },
    "tags": []
   },
   "source": [
    "# Catboost implementation"
   ]
  },
  {
   "cell_type": "code",
   "execution_count": 6,
   "id": "3520ce4f",
   "metadata": {
    "execution": {
     "iopub.execute_input": "2023-02-21T07:08:42.742956Z",
     "iopub.status.busy": "2023-02-21T07:08:42.742503Z",
     "iopub.status.idle": "2023-02-21T07:08:43.013883Z",
     "shell.execute_reply": "2023-02-21T07:08:43.012641Z"
    },
    "papermill": {
     "duration": 0.286167,
     "end_time": "2023-02-21T07:08:43.016893",
     "exception": false,
     "start_time": "2023-02-21T07:08:42.730726",
     "status": "completed"
    },
    "tags": []
   },
   "outputs": [],
   "source": [
    "# Using Catboost algorithm\n",
    "\n",
    "X = train_df.drop([\"id\",\"booking_status\"], axis=1) #,\"arrival_date\",\"arrival_year\",\"arrival_month\",\"lead_time\",\"avg_price_per_room\"]\n",
    "y = train_df[\"booking_status\"]\n",
    "\n",
    "from sklearn.model_selection import train_test_split\n",
    "\n",
    "X_train, X_test, y_train, y_test = train_test_split(X, y, test_size=0.2, random_state=42)"
   ]
  },
  {
   "cell_type": "code",
   "execution_count": 7,
   "id": "cc8e1342",
   "metadata": {
    "execution": {
     "iopub.execute_input": "2023-02-21T07:08:43.039898Z",
     "iopub.status.busy": "2023-02-21T07:08:43.039447Z",
     "iopub.status.idle": "2023-02-21T07:08:43.047523Z",
     "shell.execute_reply": "2023-02-21T07:08:43.046198Z"
    },
    "papermill": {
     "duration": 0.022649,
     "end_time": "2023-02-21T07:08:43.050152",
     "exception": false,
     "start_time": "2023-02-21T07:08:43.027503",
     "status": "completed"
    },
    "tags": []
   },
   "outputs": [
    {
     "data": {
      "text/plain": [
       "0    0\n",
       "1    0\n",
       "2    0\n",
       "3    0\n",
       "4    1\n",
       "Name: booking_status, dtype: int64"
      ]
     },
     "execution_count": 7,
     "metadata": {},
     "output_type": "execute_result"
    }
   ],
   "source": [
    "y.head()"
   ]
  },
  {
   "cell_type": "code",
   "execution_count": 8,
   "id": "1353e1ed",
   "metadata": {
    "execution": {
     "iopub.execute_input": "2023-02-21T07:08:43.072315Z",
     "iopub.status.busy": "2023-02-21T07:08:43.071842Z",
     "iopub.status.idle": "2023-02-21T07:08:49.650747Z",
     "shell.execute_reply": "2023-02-21T07:08:49.649231Z"
    },
    "papermill": {
     "duration": 6.593147,
     "end_time": "2023-02-21T07:08:49.653398",
     "exception": false,
     "start_time": "2023-02-21T07:08:43.060251",
     "status": "completed"
    },
    "tags": []
   },
   "outputs": [
    {
     "name": "stdout",
     "output_type": "stream",
     "text": [
      "0:\tlearn: 0.6931433\ttest: 0.6931433\tbest: 0.6931433 (0)\ttotal: 71.2ms\tremaining: 35.5s\n",
      "100:\tlearn: 0.6927573\ttest: 0.6927545\tbest: 0.6927545 (100)\ttotal: 1.25s\tremaining: 4.93s\n",
      "200:\tlearn: 0.6923722\ttest: 0.6923667\tbest: 0.6923667 (200)\ttotal: 2.46s\tremaining: 3.67s\n",
      "300:\tlearn: 0.6919877\ttest: 0.6919793\tbest: 0.6919793 (300)\ttotal: 3.63s\tremaining: 2.4s\n",
      "400:\tlearn: 0.6916036\ttest: 0.6915925\tbest: 0.6915925 (400)\ttotal: 4.8s\tremaining: 1.19s\n",
      "499:\tlearn: 0.6912244\ttest: 0.6912104\tbest: 0.6912104 (499)\ttotal: 6.02s\tremaining: 0us\n",
      "\n",
      "bestTest = 0.6912104163\n",
      "bestIteration = 499\n",
      "\n"
     ]
    },
    {
     "data": {
      "text/plain": [
       "<catboost.core.CatBoostClassifier at 0x7f00880dd690>"
      ]
     },
     "execution_count": 8,
     "metadata": {},
     "output_type": "execute_result"
    }
   ],
   "source": [
    "from catboost import CatBoostClassifier\n",
    "clf = CatBoostClassifier(iterations=500, verbose=100 ,learning_rate=0.00001, loss_function='MultiClass', train_dir='crossentropy')\n",
    "\n",
    "clf.fit(X_train, y_train, eval_set=(X_test, y_test), use_best_model=True)"
   ]
  },
  {
   "cell_type": "code",
   "execution_count": 9,
   "id": "708c6d56",
   "metadata": {
    "execution": {
     "iopub.execute_input": "2023-02-21T07:08:49.677208Z",
     "iopub.status.busy": "2023-02-21T07:08:49.676546Z",
     "iopub.status.idle": "2023-02-21T07:08:49.701656Z",
     "shell.execute_reply": "2023-02-21T07:08:49.700745Z"
    },
    "papermill": {
     "duration": 0.039869,
     "end_time": "2023-02-21T07:08:49.704408",
     "exception": false,
     "start_time": "2023-02-21T07:08:49.664539",
     "status": "completed"
    },
    "tags": []
   },
   "outputs": [],
   "source": [
    "expected_y  = y_test\n",
    "predicted_y = clf.predict(X_test)"
   ]
  },
  {
   "cell_type": "code",
   "execution_count": 10,
   "id": "b42771dd",
   "metadata": {
    "execution": {
     "iopub.execute_input": "2023-02-21T07:08:49.728399Z",
     "iopub.status.busy": "2023-02-21T07:08:49.727133Z",
     "iopub.status.idle": "2023-02-21T07:08:49.753788Z",
     "shell.execute_reply": "2023-02-21T07:08:49.752235Z"
    },
    "papermill": {
     "duration": 0.041501,
     "end_time": "2023-02-21T07:08:49.756573",
     "exception": false,
     "start_time": "2023-02-21T07:08:49.715072",
     "status": "completed"
    },
    "tags": []
   },
   "outputs": [
    {
     "name": "stdout",
     "output_type": "stream",
     "text": [
      "              precision    recall  f1-score   support\n",
      "\n",
      "           0       0.81      0.87      0.84      5150\n",
      "           1       0.76      0.68      0.72      3270\n",
      "\n",
      "    accuracy                           0.79      8420\n",
      "   macro avg       0.79      0.77      0.78      8420\n",
      "weighted avg       0.79      0.79      0.79      8420\n",
      "\n"
     ]
    }
   ],
   "source": [
    "from sklearn import metrics\n",
    "print(metrics.classification_report(expected_y, predicted_y))"
   ]
  },
  {
   "cell_type": "code",
   "execution_count": 11,
   "id": "4aa96b10",
   "metadata": {
    "execution": {
     "iopub.execute_input": "2023-02-21T07:08:49.780601Z",
     "iopub.status.busy": "2023-02-21T07:08:49.780166Z",
     "iopub.status.idle": "2023-02-21T07:08:49.790678Z",
     "shell.execute_reply": "2023-02-21T07:08:49.789143Z"
    },
    "papermill": {
     "duration": 0.024908,
     "end_time": "2023-02-21T07:08:49.793006",
     "exception": false,
     "start_time": "2023-02-21T07:08:49.768098",
     "status": "completed"
    },
    "tags": []
   },
   "outputs": [
    {
     "name": "stdout",
     "output_type": "stream",
     "text": [
      "[[4458  692]\n",
      " [1048 2222]]\n"
     ]
    }
   ],
   "source": [
    "print(metrics.confusion_matrix(expected_y, predicted_y))"
   ]
  },
  {
   "cell_type": "code",
   "execution_count": 12,
   "id": "6419622f",
   "metadata": {
    "execution": {
     "iopub.execute_input": "2023-02-21T07:08:49.816123Z",
     "iopub.status.busy": "2023-02-21T07:08:49.815718Z",
     "iopub.status.idle": "2023-02-21T07:08:49.832121Z",
     "shell.execute_reply": "2023-02-21T07:08:49.831262Z"
    },
    "papermill": {
     "duration": 0.031003,
     "end_time": "2023-02-21T07:08:49.834668",
     "exception": false,
     "start_time": "2023-02-21T07:08:49.803665",
     "status": "completed"
    },
    "tags": []
   },
   "outputs": [
    {
     "data": {
      "text/html": [
       "<div>\n",
       "<style scoped>\n",
       "    .dataframe tbody tr th:only-of-type {\n",
       "        vertical-align: middle;\n",
       "    }\n",
       "\n",
       "    .dataframe tbody tr th {\n",
       "        vertical-align: top;\n",
       "    }\n",
       "\n",
       "    .dataframe thead th {\n",
       "        text-align: right;\n",
       "    }\n",
       "</style>\n",
       "<table border=\"1\" class=\"dataframe\">\n",
       "  <thead>\n",
       "    <tr style=\"text-align: right;\">\n",
       "      <th></th>\n",
       "      <th>Feature Id</th>\n",
       "      <th>Importances</th>\n",
       "    </tr>\n",
       "  </thead>\n",
       "  <tbody>\n",
       "    <tr>\n",
       "      <th>0</th>\n",
       "      <td>no_of_special_requests</td>\n",
       "      <td>32.491379</td>\n",
       "    </tr>\n",
       "    <tr>\n",
       "      <th>1</th>\n",
       "      <td>lead_time</td>\n",
       "      <td>31.599978</td>\n",
       "    </tr>\n",
       "    <tr>\n",
       "      <th>2</th>\n",
       "      <td>market_segment_type</td>\n",
       "      <td>24.572226</td>\n",
       "    </tr>\n",
       "    <tr>\n",
       "      <th>3</th>\n",
       "      <td>avg_price_per_room</td>\n",
       "      <td>10.217914</td>\n",
       "    </tr>\n",
       "    <tr>\n",
       "      <th>4</th>\n",
       "      <td>repeated_guest</td>\n",
       "      <td>0.375902</td>\n",
       "    </tr>\n",
       "    <tr>\n",
       "      <th>5</th>\n",
       "      <td>arrival_month</td>\n",
       "      <td>0.290042</td>\n",
       "    </tr>\n",
       "    <tr>\n",
       "      <th>6</th>\n",
       "      <td>no_of_previous_bookings_not_canceled</td>\n",
       "      <td>0.143178</td>\n",
       "    </tr>\n",
       "    <tr>\n",
       "      <th>7</th>\n",
       "      <td>required_car_parking_space</td>\n",
       "      <td>0.082668</td>\n",
       "    </tr>\n",
       "    <tr>\n",
       "      <th>8</th>\n",
       "      <td>no_of_adults</td>\n",
       "      <td>0.081846</td>\n",
       "    </tr>\n",
       "    <tr>\n",
       "      <th>9</th>\n",
       "      <td>arrival_year</td>\n",
       "      <td>0.059687</td>\n",
       "    </tr>\n",
       "    <tr>\n",
       "      <th>10</th>\n",
       "      <td>room_type_reserved</td>\n",
       "      <td>0.029531</td>\n",
       "    </tr>\n",
       "    <tr>\n",
       "      <th>11</th>\n",
       "      <td>type_of_meal_plan</td>\n",
       "      <td>0.015357</td>\n",
       "    </tr>\n",
       "    <tr>\n",
       "      <th>12</th>\n",
       "      <td>no_of_week_nights</td>\n",
       "      <td>0.015214</td>\n",
       "    </tr>\n",
       "    <tr>\n",
       "      <th>13</th>\n",
       "      <td>no_of_weekend_nights</td>\n",
       "      <td>0.014348</td>\n",
       "    </tr>\n",
       "    <tr>\n",
       "      <th>14</th>\n",
       "      <td>arrival_date</td>\n",
       "      <td>0.004678</td>\n",
       "    </tr>\n",
       "    <tr>\n",
       "      <th>15</th>\n",
       "      <td>no_of_previous_cancellations</td>\n",
       "      <td>0.003029</td>\n",
       "    </tr>\n",
       "    <tr>\n",
       "      <th>16</th>\n",
       "      <td>no_of_children</td>\n",
       "      <td>0.003024</td>\n",
       "    </tr>\n",
       "  </tbody>\n",
       "</table>\n",
       "</div>"
      ],
      "text/plain": [
       "                              Feature Id  Importances\n",
       "0                 no_of_special_requests    32.491379\n",
       "1                              lead_time    31.599978\n",
       "2                    market_segment_type    24.572226\n",
       "3                     avg_price_per_room    10.217914\n",
       "4                         repeated_guest     0.375902\n",
       "5                          arrival_month     0.290042\n",
       "6   no_of_previous_bookings_not_canceled     0.143178\n",
       "7             required_car_parking_space     0.082668\n",
       "8                           no_of_adults     0.081846\n",
       "9                           arrival_year     0.059687\n",
       "10                    room_type_reserved     0.029531\n",
       "11                     type_of_meal_plan     0.015357\n",
       "12                     no_of_week_nights     0.015214\n",
       "13                  no_of_weekend_nights     0.014348\n",
       "14                          arrival_date     0.004678\n",
       "15          no_of_previous_cancellations     0.003029\n",
       "16                        no_of_children     0.003024"
      ]
     },
     "execution_count": 12,
     "metadata": {},
     "output_type": "execute_result"
    }
   ],
   "source": [
    "# Feature importance in the catboost model\n",
    "import pandas as pd\n",
    "\n",
    "feature_importance_df = clf.get_feature_importance(prettified=True)\n",
    "feature_importance_df"
   ]
  },
  {
   "cell_type": "code",
   "execution_count": 13,
   "id": "4f3a8c5b",
   "metadata": {
    "execution": {
     "iopub.execute_input": "2023-02-21T07:08:49.859554Z",
     "iopub.status.busy": "2023-02-21T07:08:49.858920Z",
     "iopub.status.idle": "2023-02-21T07:08:49.866511Z",
     "shell.execute_reply": "2023-02-21T07:08:49.865284Z"
    },
    "papermill": {
     "duration": 0.023019,
     "end_time": "2023-02-21T07:08:49.868933",
     "exception": false,
     "start_time": "2023-02-21T07:08:49.845914",
     "status": "completed"
    },
    "tags": []
   },
   "outputs": [
    {
     "data": {
      "text/plain": [
       "1                               lead_time\n",
       "2                     market_segment_type\n",
       "3                      avg_price_per_room\n",
       "4                          repeated_guest\n",
       "5                           arrival_month\n",
       "6    no_of_previous_bookings_not_canceled\n",
       "Name: Feature Id, dtype: object"
      ]
     },
     "execution_count": 13,
     "metadata": {},
     "output_type": "execute_result"
    }
   ],
   "source": [
    "feature_importance_df[\"Feature Id\"][1:7]"
   ]
  },
  {
   "cell_type": "markdown",
   "id": "2b4eef28",
   "metadata": {
    "papermill": {
     "duration": 0.010673,
     "end_time": "2023-02-21T07:08:49.891058",
     "exception": false,
     "start_time": "2023-02-21T07:08:49.880385",
     "status": "completed"
    },
    "tags": []
   },
   "source": [
    "# Visualizing feature importance"
   ]
  },
  {
   "cell_type": "code",
   "execution_count": 14,
   "id": "0ec78584",
   "metadata": {
    "execution": {
     "iopub.execute_input": "2023-02-21T07:08:49.916315Z",
     "iopub.status.busy": "2023-02-21T07:08:49.915776Z",
     "iopub.status.idle": "2023-02-21T07:08:50.263551Z",
     "shell.execute_reply": "2023-02-21T07:08:50.262357Z"
    },
    "papermill": {
     "duration": 0.363015,
     "end_time": "2023-02-21T07:08:50.265871",
     "exception": false,
     "start_time": "2023-02-21T07:08:49.902856",
     "status": "completed"
    },
    "tags": []
   },
   "outputs": [
    {
     "data": {
      "image/png": "[encoded data removed]",
      "text/plain": [
       "<Figure size 864x432 with 1 Axes>"
      ]
     },
     "metadata": {
      "needs_background": "light"
     },
     "output_type": "display_data"
    }
   ],
   "source": [
    "from matplotlib import pyplot as plt\n",
    "import seaborn as sns\n",
    "\n",
    "plt.figure(figsize=(12, 6));\n",
    "sns.barplot(x=\"Importances\", y=\"Feature Id\", data=feature_importance_df);\n",
    "plt.title('CatBoost features importance:');"
   ]
  },
  {
   "cell_type": "markdown",
   "id": "87d19130",
   "metadata": {
    "papermill": {
     "duration": 0.011129,
     "end_time": "2023-02-21T07:08:50.288479",
     "exception": false,
     "start_time": "2023-02-21T07:08:50.277350",
     "status": "completed"
    },
    "tags": []
   },
   "source": [
    "# Prediction and Submission"
   ]
  },
  {
   "cell_type": "code",
   "execution_count": 15,
   "id": "93be4d69",
   "metadata": {
    "execution": {
     "iopub.execute_input": "2023-02-21T07:08:50.313258Z",
     "iopub.status.busy": "2023-02-21T07:08:50.312855Z",
     "iopub.status.idle": "2023-02-21T07:08:50.403335Z",
     "shell.execute_reply": "2023-02-21T07:08:50.402073Z"
    },
    "papermill": {
     "duration": 0.105998,
     "end_time": "2023-02-21T07:08:50.405999",
     "exception": false,
     "start_time": "2023-02-21T07:08:50.300001",
     "status": "completed"
    },
    "tags": []
   },
   "outputs": [
    {
     "data": {
      "text/html": [
       "<div>\n",
       "<style scoped>\n",
       "    .dataframe tbody tr th:only-of-type {\n",
       "        vertical-align: middle;\n",
       "    }\n",
       "\n",
       "    .dataframe tbody tr th {\n",
       "        vertical-align: top;\n",
       "    }\n",
       "\n",
       "    .dataframe thead th {\n",
       "        text-align: right;\n",
       "    }\n",
       "</style>\n",
       "<table border=\"1\" class=\"dataframe\">\n",
       "  <thead>\n",
       "    <tr style=\"text-align: right;\">\n",
       "      <th></th>\n",
       "      <th>id</th>\n",
       "      <th>no_of_adults</th>\n",
       "      <th>no_of_children</th>\n",
       "      <th>no_of_weekend_nights</th>\n",
       "      <th>no_of_week_nights</th>\n",
       "      <th>type_of_meal_plan</th>\n",
       "      <th>required_car_parking_space</th>\n",
       "      <th>room_type_reserved</th>\n",
       "      <th>lead_time</th>\n",
       "      <th>arrival_year</th>\n",
       "      <th>arrival_month</th>\n",
       "      <th>arrival_date</th>\n",
       "      <th>market_segment_type</th>\n",
       "      <th>repeated_guest</th>\n",
       "      <th>no_of_previous_cancellations</th>\n",
       "      <th>no_of_previous_bookings_not_canceled</th>\n",
       "      <th>avg_price_per_room</th>\n",
       "      <th>no_of_special_requests</th>\n",
       "    </tr>\n",
       "  </thead>\n",
       "  <tbody>\n",
       "    <tr>\n",
       "      <th>0</th>\n",
       "      <td>42100</td>\n",
       "      <td>3</td>\n",
       "      <td>0</td>\n",
       "      <td>1</td>\n",
       "      <td>4</td>\n",
       "      <td>0</td>\n",
       "      <td>0</td>\n",
       "      <td>1</td>\n",
       "      <td>111</td>\n",
       "      <td>2018</td>\n",
       "      <td>12</td>\n",
       "      <td>5</td>\n",
       "      <td>1</td>\n",
       "      <td>0</td>\n",
       "      <td>0</td>\n",
       "      <td>0</td>\n",
       "      <td>115.60</td>\n",
       "      <td>2</td>\n",
       "    </tr>\n",
       "    <tr>\n",
       "      <th>1</th>\n",
       "      <td>42101</td>\n",
       "      <td>2</td>\n",
       "      <td>0</td>\n",
       "      <td>0</td>\n",
       "      <td>3</td>\n",
       "      <td>0</td>\n",
       "      <td>0</td>\n",
       "      <td>0</td>\n",
       "      <td>22</td>\n",
       "      <td>2017</td>\n",
       "      <td>10</td>\n",
       "      <td>21</td>\n",
       "      <td>0</td>\n",
       "      <td>0</td>\n",
       "      <td>0</td>\n",
       "      <td>0</td>\n",
       "      <td>85.00</td>\n",
       "      <td>0</td>\n",
       "    </tr>\n",
       "    <tr>\n",
       "      <th>2</th>\n",
       "      <td>42102</td>\n",
       "      <td>2</td>\n",
       "      <td>2</td>\n",
       "      <td>0</td>\n",
       "      <td>1</td>\n",
       "      <td>0</td>\n",
       "      <td>0</td>\n",
       "      <td>3</td>\n",
       "      <td>18</td>\n",
       "      <td>2018</td>\n",
       "      <td>8</td>\n",
       "      <td>10</td>\n",
       "      <td>1</td>\n",
       "      <td>0</td>\n",
       "      <td>0</td>\n",
       "      <td>0</td>\n",
       "      <td>240.00</td>\n",
       "      <td>1</td>\n",
       "    </tr>\n",
       "    <tr>\n",
       "      <th>3</th>\n",
       "      <td>42103</td>\n",
       "      <td>2</td>\n",
       "      <td>0</td>\n",
       "      <td>0</td>\n",
       "      <td>3</td>\n",
       "      <td>0</td>\n",
       "      <td>0</td>\n",
       "      <td>0</td>\n",
       "      <td>88</td>\n",
       "      <td>2018</td>\n",
       "      <td>5</td>\n",
       "      <td>30</td>\n",
       "      <td>0</td>\n",
       "      <td>0</td>\n",
       "      <td>0</td>\n",
       "      <td>0</td>\n",
       "      <td>80.75</td>\n",
       "      <td>0</td>\n",
       "    </tr>\n",
       "    <tr>\n",
       "      <th>4</th>\n",
       "      <td>42104</td>\n",
       "      <td>1</td>\n",
       "      <td>0</td>\n",
       "      <td>0</td>\n",
       "      <td>2</td>\n",
       "      <td>2</td>\n",
       "      <td>0</td>\n",
       "      <td>0</td>\n",
       "      <td>7</td>\n",
       "      <td>2018</td>\n",
       "      <td>9</td>\n",
       "      <td>21</td>\n",
       "      <td>1</td>\n",
       "      <td>0</td>\n",
       "      <td>0</td>\n",
       "      <td>0</td>\n",
       "      <td>144.00</td>\n",
       "      <td>0</td>\n",
       "    </tr>\n",
       "    <tr>\n",
       "      <th>...</th>\n",
       "      <td>...</td>\n",
       "      <td>...</td>\n",
       "      <td>...</td>\n",
       "      <td>...</td>\n",
       "      <td>...</td>\n",
       "      <td>...</td>\n",
       "      <td>...</td>\n",
       "      <td>...</td>\n",
       "      <td>...</td>\n",
       "      <td>...</td>\n",
       "      <td>...</td>\n",
       "      <td>...</td>\n",
       "      <td>...</td>\n",
       "      <td>...</td>\n",
       "      <td>...</td>\n",
       "      <td>...</td>\n",
       "      <td>...</td>\n",
       "      <td>...</td>\n",
       "    </tr>\n",
       "    <tr>\n",
       "      <th>28063</th>\n",
       "      <td>70163</td>\n",
       "      <td>2</td>\n",
       "      <td>0</td>\n",
       "      <td>1</td>\n",
       "      <td>2</td>\n",
       "      <td>0</td>\n",
       "      <td>0</td>\n",
       "      <td>0</td>\n",
       "      <td>315</td>\n",
       "      <td>2018</td>\n",
       "      <td>9</td>\n",
       "      <td>30</td>\n",
       "      <td>1</td>\n",
       "      <td>0</td>\n",
       "      <td>0</td>\n",
       "      <td>0</td>\n",
       "      <td>160.00</td>\n",
       "      <td>0</td>\n",
       "    </tr>\n",
       "    <tr>\n",
       "      <th>28064</th>\n",
       "      <td>70164</td>\n",
       "      <td>2</td>\n",
       "      <td>0</td>\n",
       "      <td>2</td>\n",
       "      <td>2</td>\n",
       "      <td>0</td>\n",
       "      <td>0</td>\n",
       "      <td>0</td>\n",
       "      <td>81</td>\n",
       "      <td>2018</td>\n",
       "      <td>3</td>\n",
       "      <td>25</td>\n",
       "      <td>0</td>\n",
       "      <td>0</td>\n",
       "      <td>0</td>\n",
       "      <td>0</td>\n",
       "      <td>65.00</td>\n",
       "      <td>1</td>\n",
       "    </tr>\n",
       "    <tr>\n",
       "      <th>28065</th>\n",
       "      <td>70165</td>\n",
       "      <td>2</td>\n",
       "      <td>0</td>\n",
       "      <td>1</td>\n",
       "      <td>2</td>\n",
       "      <td>0</td>\n",
       "      <td>0</td>\n",
       "      <td>0</td>\n",
       "      <td>40</td>\n",
       "      <td>2018</td>\n",
       "      <td>10</td>\n",
       "      <td>22</td>\n",
       "      <td>0</td>\n",
       "      <td>0</td>\n",
       "      <td>0</td>\n",
       "      <td>0</td>\n",
       "      <td>85.00</td>\n",
       "      <td>0</td>\n",
       "    </tr>\n",
       "    <tr>\n",
       "      <th>28066</th>\n",
       "      <td>70166</td>\n",
       "      <td>3</td>\n",
       "      <td>0</td>\n",
       "      <td>0</td>\n",
       "      <td>4</td>\n",
       "      <td>0</td>\n",
       "      <td>0</td>\n",
       "      <td>1</td>\n",
       "      <td>4</td>\n",
       "      <td>2018</td>\n",
       "      <td>9</td>\n",
       "      <td>6</td>\n",
       "      <td>1</td>\n",
       "      <td>0</td>\n",
       "      <td>0</td>\n",
       "      <td>0</td>\n",
       "      <td>162.75</td>\n",
       "      <td>0</td>\n",
       "    </tr>\n",
       "    <tr>\n",
       "      <th>28067</th>\n",
       "      <td>70167</td>\n",
       "      <td>2</td>\n",
       "      <td>0</td>\n",
       "      <td>2</td>\n",
       "      <td>3</td>\n",
       "      <td>0</td>\n",
       "      <td>0</td>\n",
       "      <td>0</td>\n",
       "      <td>191</td>\n",
       "      <td>2018</td>\n",
       "      <td>8</td>\n",
       "      <td>28</td>\n",
       "      <td>1</td>\n",
       "      <td>0</td>\n",
       "      <td>0</td>\n",
       "      <td>0</td>\n",
       "      <td>84.31</td>\n",
       "      <td>0</td>\n",
       "    </tr>\n",
       "  </tbody>\n",
       "</table>\n",
       "<p>28068 rows × 18 columns</p>\n",
       "</div>"
      ],
      "text/plain": [
       "          id  no_of_adults  no_of_children  no_of_weekend_nights  \\\n",
       "0      42100             3               0                     1   \n",
       "1      42101             2               0                     0   \n",
       "2      42102             2               2                     0   \n",
       "3      42103             2               0                     0   \n",
       "4      42104             1               0                     0   \n",
       "...      ...           ...             ...                   ...   \n",
       "28063  70163             2               0                     1   \n",
       "28064  70164             2               0                     2   \n",
       "28065  70165             2               0                     1   \n",
       "28066  70166             3               0                     0   \n",
       "28067  70167             2               0                     2   \n",
       "\n",
       "       no_of_week_nights  type_of_meal_plan  required_car_parking_space  \\\n",
       "0                      4                  0                           0   \n",
       "1                      3                  0                           0   \n",
       "2                      1                  0                           0   \n",
       "3                      3                  0                           0   \n",
       "4                      2                  2                           0   \n",
       "...                  ...                ...                         ...   \n",
       "28063                  2                  0                           0   \n",
       "28064                  2                  0                           0   \n",
       "28065                  2                  0                           0   \n",
       "28066                  4                  0                           0   \n",
       "28067                  3                  0                           0   \n",
       "\n",
       "       room_type_reserved  lead_time  arrival_year  arrival_month  \\\n",
       "0                       1        111          2018             12   \n",
       "1                       0         22          2017             10   \n",
       "2                       3         18          2018              8   \n",
       "3                       0         88          2018              5   \n",
       "4                       0          7          2018              9   \n",
       "...                   ...        ...           ...            ...   \n",
       "28063                   0        315          2018              9   \n",
       "28064                   0         81          2018              3   \n",
       "28065                   0         40          2018             10   \n",
       "28066                   1          4          2018              9   \n",
       "28067                   0        191          2018              8   \n",
       "\n",
       "       arrival_date  market_segment_type  repeated_guest  \\\n",
       "0                 5                    1               0   \n",
       "1                21                    0               0   \n",
       "2                10                    1               0   \n",
       "3                30                    0               0   \n",
       "4                21                    1               0   \n",
       "...             ...                  ...             ...   \n",
       "28063            30                    1               0   \n",
       "28064            25                    0               0   \n",
       "28065            22                    0               0   \n",
       "28066             6                    1               0   \n",
       "28067            28                    1               0   \n",
       "\n",
       "       no_of_previous_cancellations  no_of_previous_bookings_not_canceled  \\\n",
       "0                                 0                                     0   \n",
       "1                                 0                                     0   \n",
       "2                                 0                                     0   \n",
       "3                                 0                                     0   \n",
       "4                                 0                                     0   \n",
       "...                             ...                                   ...   \n",
       "28063                             0                                     0   \n",
       "28064                             0                                     0   \n",
       "28065                             0                                     0   \n",
       "28066                             0                                     0   \n",
       "28067                             0                                     0   \n",
       "\n",
       "       avg_price_per_room  no_of_special_requests  \n",
       "0                  115.60                       2  \n",
       "1                   85.00                       0  \n",
       "2                  240.00                       1  \n",
       "3                   80.75                       0  \n",
       "4                  144.00                       0  \n",
       "...                   ...                     ...  \n",
       "28063              160.00                       0  \n",
       "28064               65.00                       1  \n",
       "28065               85.00                       0  \n",
       "28066              162.75                       0  \n",
       "28067               84.31                       0  \n",
       "\n",
       "[28068 rows x 18 columns]"
      ]
     },
     "execution_count": 15,
     "metadata": {},
     "output_type": "execute_result"
    }
   ],
   "source": [
    "test_df=pd.read_csv(\"/kaggle/input/playground-series-s3e7/test.csv\")\n",
    "test_df"
   ]
  },
  {
   "cell_type": "code",
   "execution_count": 16,
   "id": "392754ab",
   "metadata": {
    "execution": {
     "iopub.execute_input": "2023-02-21T07:08:50.435093Z",
     "iopub.status.busy": "2023-02-21T07:08:50.434013Z",
     "iopub.status.idle": "2023-02-21T07:08:50.441453Z",
     "shell.execute_reply": "2023-02-21T07:08:50.440291Z"
    },
    "papermill": {
     "duration": 0.024206,
     "end_time": "2023-02-21T07:08:50.444155",
     "exception": false,
     "start_time": "2023-02-21T07:08:50.419949",
     "status": "completed"
    },
    "tags": []
   },
   "outputs": [],
   "source": [
    "test=test_df.drop([\"id\"], axis=1)"
   ]
  },
  {
   "cell_type": "code",
   "execution_count": 17,
   "id": "b6d7a770",
   "metadata": {
    "execution": {
     "iopub.execute_input": "2023-02-21T07:08:50.471815Z",
     "iopub.status.busy": "2023-02-21T07:08:50.470696Z",
     "iopub.status.idle": "2023-02-21T07:08:50.506495Z",
     "shell.execute_reply": "2023-02-21T07:08:50.505460Z"
    },
    "papermill": {
     "duration": 0.052873,
     "end_time": "2023-02-21T07:08:50.509664",
     "exception": false,
     "start_time": "2023-02-21T07:08:50.456791",
     "status": "completed"
    },
    "tags": []
   },
   "outputs": [],
   "source": [
    "predicted = clf.predict(test) # predicting model result on test dataset"
   ]
  },
  {
   "cell_type": "code",
   "execution_count": 18,
   "id": "705de8d9",
   "metadata": {
    "execution": {
     "iopub.execute_input": "2023-02-21T07:08:50.537646Z",
     "iopub.status.busy": "2023-02-21T07:08:50.537155Z",
     "iopub.status.idle": "2023-02-21T07:08:50.544944Z",
     "shell.execute_reply": "2023-02-21T07:08:50.543826Z"
    },
    "papermill": {
     "duration": 0.025403,
     "end_time": "2023-02-21T07:08:50.547453",
     "exception": false,
     "start_time": "2023-02-21T07:08:50.522050",
     "status": "completed"
    },
    "tags": []
   },
   "outputs": [
    {
     "data": {
      "text/plain": [
       "array([[0],\n",
       "       [0],\n",
       "       [0],\n",
       "       ...,\n",
       "       [0],\n",
       "       [1],\n",
       "       [1]])"
      ]
     },
     "execution_count": 18,
     "metadata": {},
     "output_type": "execute_result"
    }
   ],
   "source": [
    "predicted"
   ]
  },
  {
   "cell_type": "code",
   "execution_count": 19,
   "id": "5f7a5c2b",
   "metadata": {
    "execution": {
     "iopub.execute_input": "2023-02-21T07:08:50.574189Z",
     "iopub.status.busy": "2023-02-21T07:08:50.573721Z",
     "iopub.status.idle": "2023-02-21T07:08:50.589893Z",
     "shell.execute_reply": "2023-02-21T07:08:50.588904Z"
    },
    "papermill": {
     "duration": 0.032415,
     "end_time": "2023-02-21T07:08:50.592360",
     "exception": false,
     "start_time": "2023-02-21T07:08:50.559945",
     "status": "completed"
    },
    "tags": []
   },
   "outputs": [
    {
     "data": {
      "text/html": [
       "<div>\n",
       "<style scoped>\n",
       "    .dataframe tbody tr th:only-of-type {\n",
       "        vertical-align: middle;\n",
       "    }\n",
       "\n",
       "    .dataframe tbody tr th {\n",
       "        vertical-align: top;\n",
       "    }\n",
       "\n",
       "    .dataframe thead th {\n",
       "        text-align: right;\n",
       "    }\n",
       "</style>\n",
       "<table border=\"1\" class=\"dataframe\">\n",
       "  <thead>\n",
       "    <tr style=\"text-align: right;\">\n",
       "      <th></th>\n",
       "      <th>id</th>\n",
       "      <th>booking_status</th>\n",
       "    </tr>\n",
       "  </thead>\n",
       "  <tbody>\n",
       "    <tr>\n",
       "      <th>0</th>\n",
       "      <td>42100</td>\n",
       "      <td>0</td>\n",
       "    </tr>\n",
       "    <tr>\n",
       "      <th>1</th>\n",
       "      <td>42101</td>\n",
       "      <td>0</td>\n",
       "    </tr>\n",
       "    <tr>\n",
       "      <th>2</th>\n",
       "      <td>42102</td>\n",
       "      <td>0</td>\n",
       "    </tr>\n",
       "    <tr>\n",
       "      <th>3</th>\n",
       "      <td>42103</td>\n",
       "      <td>0</td>\n",
       "    </tr>\n",
       "    <tr>\n",
       "      <th>4</th>\n",
       "      <td>42104</td>\n",
       "      <td>1</td>\n",
       "    </tr>\n",
       "  </tbody>\n",
       "</table>\n",
       "</div>"
      ],
      "text/plain": [
       "      id  booking_status\n",
       "0  42100               0\n",
       "1  42101               0\n",
       "2  42102               0\n",
       "3  42103               0\n",
       "4  42104               1"
      ]
     },
     "execution_count": 19,
     "metadata": {},
     "output_type": "execute_result"
    }
   ],
   "source": [
    "# Creating a dataframe in required format for submission\n",
    "submission=pd.DataFrame()\n",
    "submission[\"id\"]=test_df[\"id\"]\n",
    "submission[\"booking_status\"]=predicted\n",
    "submission.head()"
   ]
  },
  {
   "cell_type": "code",
   "execution_count": 20,
   "id": "95c5a0eb",
   "metadata": {
    "execution": {
     "iopub.execute_input": "2023-02-21T07:08:50.619044Z",
     "iopub.status.busy": "2023-02-21T07:08:50.618597Z",
     "iopub.status.idle": "2023-02-21T07:08:50.655245Z",
     "shell.execute_reply": "2023-02-21T07:08:50.654320Z"
    },
    "papermill": {
     "duration": 0.053037,
     "end_time": "2023-02-21T07:08:50.657891",
     "exception": false,
     "start_time": "2023-02-21T07:08:50.604854",
     "status": "completed"
    },
    "tags": []
   },
   "outputs": [],
   "source": [
    "submission.to_csv(\"submission.csv\", index=None)"
   ]
  },
  {
   "cell_type": "code",
   "execution_count": 21,
   "id": "db78af5a",
   "metadata": {
    "execution": {
     "iopub.execute_input": "2023-02-21T07:08:50.686021Z",
     "iopub.status.busy": "2023-02-21T07:08:50.685090Z",
     "iopub.status.idle": "2023-02-21T07:08:50.709798Z",
     "shell.execute_reply": "2023-02-21T07:08:50.708416Z"
    },
    "papermill": {
     "duration": 0.041328,
     "end_time": "2023-02-21T07:08:50.712350",
     "exception": false,
     "start_time": "2023-02-21T07:08:50.671022",
     "status": "completed"
    },
    "tags": []
   },
   "outputs": [
    {
     "data": {
      "text/html": [
       "<div>\n",
       "<style scoped>\n",
       "    .dataframe tbody tr th:only-of-type {\n",
       "        vertical-align: middle;\n",
       "    }\n",
       "\n",
       "    .dataframe tbody tr th {\n",
       "        vertical-align: top;\n",
       "    }\n",
       "\n",
       "    .dataframe thead th {\n",
       "        text-align: right;\n",
       "    }\n",
       "</style>\n",
       "<table border=\"1\" class=\"dataframe\">\n",
       "  <thead>\n",
       "    <tr style=\"text-align: right;\">\n",
       "      <th></th>\n",
       "      <th>id</th>\n",
       "      <th>booking_status</th>\n",
       "    </tr>\n",
       "  </thead>\n",
       "  <tbody>\n",
       "    <tr>\n",
       "      <th>0</th>\n",
       "      <td>42100</td>\n",
       "      <td>0.392</td>\n",
       "    </tr>\n",
       "    <tr>\n",
       "      <th>1</th>\n",
       "      <td>42101</td>\n",
       "      <td>0.392</td>\n",
       "    </tr>\n",
       "    <tr>\n",
       "      <th>2</th>\n",
       "      <td>42102</td>\n",
       "      <td>0.392</td>\n",
       "    </tr>\n",
       "    <tr>\n",
       "      <th>3</th>\n",
       "      <td>42103</td>\n",
       "      <td>0.392</td>\n",
       "    </tr>\n",
       "    <tr>\n",
       "      <th>4</th>\n",
       "      <td>42104</td>\n",
       "      <td>0.392</td>\n",
       "    </tr>\n",
       "  </tbody>\n",
       "</table>\n",
       "</div>"
      ],
      "text/plain": [
       "      id  booking_status\n",
       "0  42100           0.392\n",
       "1  42101           0.392\n",
       "2  42102           0.392\n",
       "3  42103           0.392\n",
       "4  42104           0.392"
      ]
     },
     "execution_count": 21,
     "metadata": {},
     "output_type": "execute_result"
    }
   ],
   "source": [
    "# sample submission\n",
    "sub=pd.read_csv(\"/kaggle/input/playground-series-s3e7/sample_submission.csv\")\n",
    "sub.head()"
   ]
  }
 ],
 "metadata": {
  "kernelspec": {
   "display_name": "Python 3",
   "language": "python",
   "name": "python3"
  },
  "language_info": {
   "codemirror_mode": {
    "name": "ipython",
    "version": 3
   },
   "file_extension": ".py",
   "mimetype": "text/x-python",
   "name": "python",
   "nbconvert_exporter": "python",
   "pygments_lexer": "ipython3",
   "version": "3.7.12"
  },
  "papermill": {
   "default_parameters": {},
   "duration": 22.284589,
   "end_time": "2023-02-21T07:08:51.547895",
   "environment_variables": {},
   "exception": null,
   "input_path": "__notebook__.ipynb",
   "output_path": "__notebook__.ipynb",
   "parameters": {},
   "start_time": "2023-02-21T07:08:29.263306",
   "version": "2.3.4"
  }
 },
 "nbformat": 4,
 "nbformat_minor": 5
}
