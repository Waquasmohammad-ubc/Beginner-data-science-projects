{
 "cells": [
  {
   "cell_type": "code",
   "execution_count": 1,
   "id": "edc6a6c8",
   "metadata": {
    "_cell_guid": "b1076dfc-b9ad-4769-8c92-a6c4dae69d19",
    "_uuid": "8f2839f25d086af736a60e9eeb907d3b93b6e0e5",
    "execution": {
     "iopub.execute_input": "2023-02-21T06:59:43.751717Z",
     "iopub.status.busy": "2023-02-21T06:59:43.751213Z",
     "iopub.status.idle": "2023-02-21T06:59:43.766634Z",
     "shell.execute_reply": "2023-02-21T06:59:43.765668Z"
    },
    "papermill": {
     "duration": 0.027921,
     "end_time": "2023-02-21T06:59:43.770650",
     "exception": false,
     "start_time": "2023-02-21T06:59:43.742729",
     "status": "completed"
    },
    "tags": []
   },
   "outputs": [
    {
     "name": "stdout",
     "output_type": "stream",
     "text": [
      "/kaggle/input/digit-recognizer/sample_submission.csv\n",
      "/kaggle/input/digit-recognizer/train.csv\n",
      "/kaggle/input/digit-recognizer/test.csv\n"
     ]
    }
   ],
   "source": [
    "# This Python 3 environment comes with many helpful analytics libraries installed\n",
    "# It is defined by the kaggle/python Docker image: https://github.com/kaggle/docker-python\n",
    "# For example, here's several helpful packages to load\n",
    "\n",
    "import numpy as np # linear algebra\n",
    "import pandas as pd # data processing, CSV file I/O (e.g. pd.read_csv)\n",
    "\n",
    "# Input data files are available in the read-only \"../input/\" directory\n",
    "# For example, running this (by clicking run or pressing Shift+Enter) will list all files under the input directory\n",
    "\n",
    "import os\n",
    "for dirname, _, filenames in os.walk('/kaggle/input'):\n",
    "    for filename in filenames:\n",
    "        print(os.path.join(dirname, filename))\n",
    "\n",
    "# You can write up to 20GB to the current directory (/kaggle/working/) that gets preserved as output when you create a version using \"Save & Run All\" \n",
    "# You can also write temporary files to /kaggle/temp/, but they won't be saved outside of the current session"
   ]
  },
  {
   "cell_type": "markdown",
   "id": "dc9c44a1",
   "metadata": {
    "papermill": {
     "duration": 0.005425,
     "end_time": "2023-02-21T06:59:43.782055",
     "exception": false,
     "start_time": "2023-02-21T06:59:43.776630",
     "status": "completed"
    },
    "tags": []
   },
   "source": [
    "# Import libraries"
   ]
  },
  {
   "cell_type": "code",
   "execution_count": 2,
   "id": "fd56b39e",
   "metadata": {
    "execution": {
     "iopub.execute_input": "2023-02-21T06:59:43.795576Z",
     "iopub.status.busy": "2023-02-21T06:59:43.794750Z",
     "iopub.status.idle": "2023-02-21T06:59:51.478340Z",
     "shell.execute_reply": "2023-02-21T06:59:51.477083Z"
    },
    "papermill": {
     "duration": 7.69345,
     "end_time": "2023-02-21T06:59:51.481168",
     "exception": false,
     "start_time": "2023-02-21T06:59:43.787718",
     "status": "completed"
    },
    "tags": []
   },
   "outputs": [],
   "source": [
    "import numpy as np \n",
    "import pandas as pd\n",
    "\n",
    "from keras import models, layers, Sequential\n",
    "from sklearn.model_selection import train_test_split\n",
    "from keras.layers import Dense , Dropout , Conv2D , MaxPooling2D, Flatten\n",
    "from keras.preprocessing.image import *\n",
    "from tensorflow.keras.optimizers import Adam"
   ]
  },
  {
   "cell_type": "code",
   "execution_count": 3,
   "id": "90066e6c",
   "metadata": {
    "execution": {
     "iopub.execute_input": "2023-02-21T06:59:51.495092Z",
     "iopub.status.busy": "2023-02-21T06:59:51.494383Z",
     "iopub.status.idle": "2023-02-21T06:59:57.364902Z",
     "shell.execute_reply": "2023-02-21T06:59:57.363634Z"
    },
    "papermill": {
     "duration": 5.88198,
     "end_time": "2023-02-21T06:59:57.369179",
     "exception": false,
     "start_time": "2023-02-21T06:59:51.487199",
     "status": "completed"
    },
    "tags": []
   },
   "outputs": [],
   "source": [
    "# Reading CSV and saving as a dataframe\n",
    "\n",
    "df_train=pd.read_csv(\"/kaggle/input/digit-recognizer/train.csv\")\n",
    "df_test=pd.read_csv(\"/kaggle/input/digit-recognizer/test.csv\")"
   ]
  },
  {
   "cell_type": "code",
   "execution_count": 4,
   "id": "afda1f84",
   "metadata": {
    "execution": {
     "iopub.execute_input": "2023-02-21T06:59:57.383727Z",
     "iopub.status.busy": "2023-02-21T06:59:57.383288Z",
     "iopub.status.idle": "2023-02-21T06:59:57.416287Z",
     "shell.execute_reply": "2023-02-21T06:59:57.414812Z"
    },
    "papermill": {
     "duration": 0.043641,
     "end_time": "2023-02-21T06:59:57.419466",
     "exception": false,
     "start_time": "2023-02-21T06:59:57.375825",
     "status": "completed"
    },
    "tags": []
   },
   "outputs": [
    {
     "data": {
      "text/html": [
       "<div>\n",
       "<style scoped>\n",
       "    .dataframe tbody tr th:only-of-type {\n",
       "        vertical-align: middle;\n",
       "    }\n",
       "\n",
       "    .dataframe tbody tr th {\n",
       "        vertical-align: top;\n",
       "    }\n",
       "\n",
       "    .dataframe thead th {\n",
       "        text-align: right;\n",
       "    }\n",
       "</style>\n",
       "<table border=\"1\" class=\"dataframe\">\n",
       "  <thead>\n",
       "    <tr style=\"text-align: right;\">\n",
       "      <th></th>\n",
       "      <th>label</th>\n",
       "      <th>pixel0</th>\n",
       "      <th>pixel1</th>\n",
       "      <th>pixel2</th>\n",
       "      <th>pixel3</th>\n",
       "      <th>pixel4</th>\n",
       "      <th>pixel5</th>\n",
       "      <th>pixel6</th>\n",
       "      <th>pixel7</th>\n",
       "      <th>pixel8</th>\n",
       "      <th>...</th>\n",
       "      <th>pixel774</th>\n",
       "      <th>pixel775</th>\n",
       "      <th>pixel776</th>\n",
       "      <th>pixel777</th>\n",
       "      <th>pixel778</th>\n",
       "      <th>pixel779</th>\n",
       "      <th>pixel780</th>\n",
       "      <th>pixel781</th>\n",
       "      <th>pixel782</th>\n",
       "      <th>pixel783</th>\n",
       "    </tr>\n",
       "  </thead>\n",
       "  <tbody>\n",
       "    <tr>\n",
       "      <th>0</th>\n",
       "      <td>1</td>\n",
       "      <td>0</td>\n",
       "      <td>0</td>\n",
       "      <td>0</td>\n",
       "      <td>0</td>\n",
       "      <td>0</td>\n",
       "      <td>0</td>\n",
       "      <td>0</td>\n",
       "      <td>0</td>\n",
       "      <td>0</td>\n",
       "      <td>...</td>\n",
       "      <td>0</td>\n",
       "      <td>0</td>\n",
       "      <td>0</td>\n",
       "      <td>0</td>\n",
       "      <td>0</td>\n",
       "      <td>0</td>\n",
       "      <td>0</td>\n",
       "      <td>0</td>\n",
       "      <td>0</td>\n",
       "      <td>0</td>\n",
       "    </tr>\n",
       "    <tr>\n",
       "      <th>1</th>\n",
       "      <td>0</td>\n",
       "      <td>0</td>\n",
       "      <td>0</td>\n",
       "      <td>0</td>\n",
       "      <td>0</td>\n",
       "      <td>0</td>\n",
       "      <td>0</td>\n",
       "      <td>0</td>\n",
       "      <td>0</td>\n",
       "      <td>0</td>\n",
       "      <td>...</td>\n",
       "      <td>0</td>\n",
       "      <td>0</td>\n",
       "      <td>0</td>\n",
       "      <td>0</td>\n",
       "      <td>0</td>\n",
       "      <td>0</td>\n",
       "      <td>0</td>\n",
       "      <td>0</td>\n",
       "      <td>0</td>\n",
       "      <td>0</td>\n",
       "    </tr>\n",
       "    <tr>\n",
       "      <th>2</th>\n",
       "      <td>1</td>\n",
       "      <td>0</td>\n",
       "      <td>0</td>\n",
       "      <td>0</td>\n",
       "      <td>0</td>\n",
       "      <td>0</td>\n",
       "      <td>0</td>\n",
       "      <td>0</td>\n",
       "      <td>0</td>\n",
       "      <td>0</td>\n",
       "      <td>...</td>\n",
       "      <td>0</td>\n",
       "      <td>0</td>\n",
       "      <td>0</td>\n",
       "      <td>0</td>\n",
       "      <td>0</td>\n",
       "      <td>0</td>\n",
       "      <td>0</td>\n",
       "      <td>0</td>\n",
       "      <td>0</td>\n",
       "      <td>0</td>\n",
       "    </tr>\n",
       "    <tr>\n",
       "      <th>3</th>\n",
       "      <td>4</td>\n",
       "      <td>0</td>\n",
       "      <td>0</td>\n",
       "      <td>0</td>\n",
       "      <td>0</td>\n",
       "      <td>0</td>\n",
       "      <td>0</td>\n",
       "      <td>0</td>\n",
       "      <td>0</td>\n",
       "      <td>0</td>\n",
       "      <td>...</td>\n",
       "      <td>0</td>\n",
       "      <td>0</td>\n",
       "      <td>0</td>\n",
       "      <td>0</td>\n",
       "      <td>0</td>\n",
       "      <td>0</td>\n",
       "      <td>0</td>\n",
       "      <td>0</td>\n",
       "      <td>0</td>\n",
       "      <td>0</td>\n",
       "    </tr>\n",
       "    <tr>\n",
       "      <th>4</th>\n",
       "      <td>0</td>\n",
       "      <td>0</td>\n",
       "      <td>0</td>\n",
       "      <td>0</td>\n",
       "      <td>0</td>\n",
       "      <td>0</td>\n",
       "      <td>0</td>\n",
       "      <td>0</td>\n",
       "      <td>0</td>\n",
       "      <td>0</td>\n",
       "      <td>...</td>\n",
       "      <td>0</td>\n",
       "      <td>0</td>\n",
       "      <td>0</td>\n",
       "      <td>0</td>\n",
       "      <td>0</td>\n",
       "      <td>0</td>\n",
       "      <td>0</td>\n",
       "      <td>0</td>\n",
       "      <td>0</td>\n",
       "      <td>0</td>\n",
       "    </tr>\n",
       "  </tbody>\n",
       "</table>\n",
       "<p>5 rows × 785 columns</p>\n",
       "</div>"
      ],
      "text/plain": [
       "   label  pixel0  pixel1  pixel2  pixel3  pixel4  pixel5  pixel6  pixel7  \\\n",
       "0      1       0       0       0       0       0       0       0       0   \n",
       "1      0       0       0       0       0       0       0       0       0   \n",
       "2      1       0       0       0       0       0       0       0       0   \n",
       "3      4       0       0       0       0       0       0       0       0   \n",
       "4      0       0       0       0       0       0       0       0       0   \n",
       "\n",
       "   pixel8  ...  pixel774  pixel775  pixel776  pixel777  pixel778  pixel779  \\\n",
       "0       0  ...         0         0         0         0         0         0   \n",
       "1       0  ...         0         0         0         0         0         0   \n",
       "2       0  ...         0         0         0         0         0         0   \n",
       "3       0  ...         0         0         0         0         0         0   \n",
       "4       0  ...         0         0         0         0         0         0   \n",
       "\n",
       "   pixel780  pixel781  pixel782  pixel783  \n",
       "0         0         0         0         0  \n",
       "1         0         0         0         0  \n",
       "2         0         0         0         0  \n",
       "3         0         0         0         0  \n",
       "4         0         0         0         0  \n",
       "\n",
       "[5 rows x 785 columns]"
      ]
     },
     "execution_count": 4,
     "metadata": {},
     "output_type": "execute_result"
    }
   ],
   "source": [
    "df_train.head()"
   ]
  },
  {
   "cell_type": "code",
   "execution_count": 5,
   "id": "c2a93637",
   "metadata": {
    "execution": {
     "iopub.execute_input": "2023-02-21T06:59:57.434570Z",
     "iopub.status.busy": "2023-02-21T06:59:57.434036Z",
     "iopub.status.idle": "2023-02-21T06:59:57.559724Z",
     "shell.execute_reply": "2023-02-21T06:59:57.558115Z"
    },
    "papermill": {
     "duration": 0.136932,
     "end_time": "2023-02-21T06:59:57.562568",
     "exception": false,
     "start_time": "2023-02-21T06:59:57.425636",
     "status": "completed"
    },
    "tags": []
   },
   "outputs": [],
   "source": [
    "# Splitting data into features and labels\n",
    "\n",
    "pixel_data=df_train.iloc[:,1:785] #from col 1 to 785 \n",
    "label=df_train[\"label\"]\n",
    "\n",
    "number=np.array(pixel_data)\n",
    "number=number.reshape(len(pixel_data),28,28,1)"
   ]
  },
  {
   "cell_type": "markdown",
   "id": "f516d2ee",
   "metadata": {
    "papermill": {
     "duration": 0.005789,
     "end_time": "2023-02-21T06:59:57.574967",
     "exception": false,
     "start_time": "2023-02-21T06:59:57.569178",
     "status": "completed"
    },
    "tags": []
   },
   "source": [
    "# Visualizing data"
   ]
  },
  {
   "cell_type": "code",
   "execution_count": 6,
   "id": "1e66c4eb",
   "metadata": {
    "execution": {
     "iopub.execute_input": "2023-02-21T06:59:57.589911Z",
     "iopub.status.busy": "2023-02-21T06:59:57.589436Z",
     "iopub.status.idle": "2023-02-21T06:59:57.827119Z",
     "shell.execute_reply": "2023-02-21T06:59:57.825847Z"
    },
    "papermill": {
     "duration": 0.248097,
     "end_time": "2023-02-21T06:59:57.829921",
     "exception": false,
     "start_time": "2023-02-21T06:59:57.581824",
     "status": "completed"
    },
    "tags": []
   },
   "outputs": [
    {
     "data": {
      "text/plain": [
       "Text(0.5, 1.0, 'Value is: 1')"
      ]
     },
     "execution_count": 6,
     "metadata": {},
     "output_type": "execute_result"
    },
    {
     "data": {
      "image/png": "[encoded data removed]",
      "text/plain": [
       "<Figure size 432x288 with 1 Axes>"
      ]
     },
     "metadata": {
      "needs_background": "light"
     },
     "output_type": "display_data"
    }
   ],
   "source": [
    "import matplotlib.pyplot as plt\n",
    "\n",
    "plt.imshow(number[0])\n",
    "plt.title(\"Value is: %d\" % label[0])"
   ]
  },
  {
   "cell_type": "markdown",
   "id": "60f4c20a",
   "metadata": {
    "papermill": {
     "duration": 0.005972,
     "end_time": "2023-02-21T06:59:57.842281",
     "exception": false,
     "start_time": "2023-02-21T06:59:57.836309",
     "status": "completed"
    },
    "tags": []
   },
   "source": [
    "# Model implementation"
   ]
  },
  {
   "cell_type": "code",
   "execution_count": 7,
   "id": "2a3dd7be",
   "metadata": {
    "execution": {
     "iopub.execute_input": "2023-02-21T06:59:57.857295Z",
     "iopub.status.busy": "2023-02-21T06:59:57.856439Z",
     "iopub.status.idle": "2023-02-21T06:59:58.290667Z",
     "shell.execute_reply": "2023-02-21T06:59:58.289455Z"
    },
    "papermill": {
     "duration": 0.444471,
     "end_time": "2023-02-21T06:59:58.293308",
     "exception": false,
     "start_time": "2023-02-21T06:59:57.848837",
     "status": "completed"
    },
    "tags": []
   },
   "outputs": [],
   "source": [
    "#train test split\n",
    "\n",
    "X_train, X_test, y_train, y_test= train_test_split(number, label, test_size=0.2, random_state=42)"
   ]
  },
  {
   "cell_type": "code",
   "execution_count": 8,
   "id": "6476f37b",
   "metadata": {
    "execution": {
     "iopub.execute_input": "2023-02-21T06:59:58.308585Z",
     "iopub.status.busy": "2023-02-21T06:59:58.308147Z",
     "iopub.status.idle": "2023-02-21T06:59:58.497435Z",
     "shell.execute_reply": "2023-02-21T06:59:58.496165Z"
    },
    "papermill": {
     "duration": 0.200701,
     "end_time": "2023-02-21T06:59:58.500598",
     "exception": false,
     "start_time": "2023-02-21T06:59:58.299897",
     "status": "completed"
    },
    "tags": []
   },
   "outputs": [
    {
     "name": "stderr",
     "output_type": "stream",
     "text": [
      "2023-02-21 06:59:58.349043: I tensorflow/core/common_runtime/process_util.cc:146] Creating new thread pool with default inter op setting: 2. Tune using inter_op_parallelism_threads for best performance.\n"
     ]
    }
   ],
   "source": [
    "# Configuring CNN\n",
    "img_data_gen=ImageDataGenerator()\n",
    "\n",
    "model=Sequential()\n",
    "\n",
    "model.add(Conv2D(8, kernel_size=(3,3), activation='relu', input_shape=(28,28,1)))\n",
    "model.add(Conv2D(16, kernel_size=(3,3), activation='relu'))\n",
    "model.add(MaxPooling2D(pool_size=(2, 2)))\n",
    "model.add(Dropout(0.25))\n",
    "\n",
    "model.add(Conv2D(32, kernel_size=(3, 3), activation='relu'))\n",
    "model.add(MaxPooling2D(pool_size=(2, 2)))\n",
    "model.add(Conv2D(32, kernel_size=(3, 3), activation='relu'))\n",
    "model.add(MaxPooling2D(pool_size=(2, 2)))\n",
    "model.add(Dropout(0.25))\n",
    "\n",
    "model.add(Flatten())\n",
    "model.add(Dense(64, activation='relu'))\n",
    "model.add(Dropout(0.5))\n",
    "model.add(Dense(10, activation='softmax'))"
   ]
  },
  {
   "cell_type": "code",
   "execution_count": 9,
   "id": "2b2ba5c8",
   "metadata": {
    "execution": {
     "iopub.execute_input": "2023-02-21T06:59:58.515404Z",
     "iopub.status.busy": "2023-02-21T06:59:58.514997Z",
     "iopub.status.idle": "2023-02-21T06:59:58.529831Z",
     "shell.execute_reply": "2023-02-21T06:59:58.528739Z"
    },
    "papermill": {
     "duration": 0.025425,
     "end_time": "2023-02-21T06:59:58.532511",
     "exception": false,
     "start_time": "2023-02-21T06:59:58.507086",
     "status": "completed"
    },
    "tags": []
   },
   "outputs": [],
   "source": [
    "model.compile(loss='sparse_categorical_crossentropy', optimizer='adam', metrics=['accuracy'])"
   ]
  },
  {
   "cell_type": "code",
   "execution_count": 10,
   "id": "1bd249d9",
   "metadata": {
    "execution": {
     "iopub.execute_input": "2023-02-21T06:59:58.547470Z",
     "iopub.status.busy": "2023-02-21T06:59:58.547054Z",
     "iopub.status.idle": "2023-02-21T07:09:24.379873Z",
     "shell.execute_reply": "2023-02-21T07:09:24.378783Z"
    },
    "papermill": {
     "duration": 565.843146,
     "end_time": "2023-02-21T07:09:24.382212",
     "exception": false,
     "start_time": "2023-02-21T06:59:58.539066",
     "status": "completed"
    },
    "tags": []
   },
   "outputs": [
    {
     "name": "stderr",
     "output_type": "stream",
     "text": [
      "2023-02-21 06:59:58.837181: I tensorflow/compiler/mlir/mlir_graph_optimization_pass.cc:185] None of the MLIR Optimization Passes are enabled (registered 2)\n"
     ]
    },
    {
     "name": "stdout",
     "output_type": "stream",
     "text": [
      "Epoch 1/50\n",
      "1050/1050 [==============================] - 12s 11ms/step - loss: 2.2639 - accuracy: 0.2351\n",
      "Epoch 2/50\n",
      "1050/1050 [==============================] - 12s 11ms/step - loss: 1.4230 - accuracy: 0.4894\n",
      "Epoch 3/50\n",
      "1050/1050 [==============================] - 11s 11ms/step - loss: 0.8464 - accuracy: 0.7261\n",
      "Epoch 4/50\n",
      "1050/1050 [==============================] - 11s 10ms/step - loss: 0.6028 - accuracy: 0.8076\n",
      "Epoch 5/50\n",
      "1050/1050 [==============================] - 12s 11ms/step - loss: 0.4686 - accuracy: 0.8553\n",
      "Epoch 6/50\n",
      "1050/1050 [==============================] - 11s 11ms/step - loss: 0.4177 - accuracy: 0.8726\n",
      "Epoch 7/50\n",
      "1050/1050 [==============================] - 11s 10ms/step - loss: 0.3891 - accuracy: 0.8876\n",
      "Epoch 8/50\n",
      "1050/1050 [==============================] - 12s 11ms/step - loss: 0.3529 - accuracy: 0.8964\n",
      "Epoch 9/50\n",
      "1050/1050 [==============================] - 11s 10ms/step - loss: 0.3250 - accuracy: 0.9018\n",
      "Epoch 10/50\n",
      "1050/1050 [==============================] - 12s 11ms/step - loss: 0.2952 - accuracy: 0.9138\n",
      "Epoch 11/50\n",
      "1050/1050 [==============================] - 11s 10ms/step - loss: 0.2635 - accuracy: 0.9221\n",
      "Epoch 12/50\n",
      "1050/1050 [==============================] - 11s 10ms/step - loss: 0.2596 - accuracy: 0.9258\n",
      "Epoch 13/50\n",
      "1050/1050 [==============================] - 12s 11ms/step - loss: 0.2481 - accuracy: 0.9276\n",
      "Epoch 14/50\n",
      "1050/1050 [==============================] - 11s 10ms/step - loss: 0.2390 - accuracy: 0.9323\n",
      "Epoch 15/50\n",
      "1050/1050 [==============================] - 11s 10ms/step - loss: 0.2260 - accuracy: 0.9338\n",
      "Epoch 16/50\n",
      "1050/1050 [==============================] - 12s 11ms/step - loss: 0.2230 - accuracy: 0.9341\n",
      "Epoch 17/50\n",
      "1050/1050 [==============================] - 11s 11ms/step - loss: 0.2114 - accuracy: 0.9384\n",
      "Epoch 18/50\n",
      "1050/1050 [==============================] - 11s 10ms/step - loss: 0.2140 - accuracy: 0.9376\n",
      "Epoch 19/50\n",
      "1050/1050 [==============================] - 12s 11ms/step - loss: 0.2044 - accuracy: 0.9397\n",
      "Epoch 20/50\n",
      "1050/1050 [==============================] - 11s 10ms/step - loss: 0.2050 - accuracy: 0.9402\n",
      "Epoch 21/50\n",
      "1050/1050 [==============================] - 11s 11ms/step - loss: 0.1967 - accuracy: 0.9442\n",
      "Epoch 22/50\n",
      "1050/1050 [==============================] - 12s 11ms/step - loss: 0.1989 - accuracy: 0.9434\n",
      "Epoch 23/50\n",
      "1050/1050 [==============================] - 11s 11ms/step - loss: 0.1968 - accuracy: 0.9438\n",
      "Epoch 24/50\n",
      "1050/1050 [==============================] - 12s 11ms/step - loss: 0.1870 - accuracy: 0.9451\n",
      "Epoch 25/50\n",
      "1050/1050 [==============================] - 11s 11ms/step - loss: 0.1924 - accuracy: 0.9450\n",
      "Epoch 26/50\n",
      "1050/1050 [==============================] - 11s 11ms/step - loss: 0.1852 - accuracy: 0.9470\n",
      "Epoch 27/50\n",
      "1050/1050 [==============================] - 12s 11ms/step - loss: 0.1889 - accuracy: 0.9441\n",
      "Epoch 28/50\n",
      "1050/1050 [==============================] - 11s 10ms/step - loss: 0.1813 - accuracy: 0.9476\n",
      "Epoch 29/50\n",
      "1050/1050 [==============================] - 11s 10ms/step - loss: 0.1747 - accuracy: 0.9513\n",
      "Epoch 30/50\n",
      "1050/1050 [==============================] - 12s 11ms/step - loss: 0.1651 - accuracy: 0.9537\n",
      "Epoch 31/50\n",
      "1050/1050 [==============================] - 11s 11ms/step - loss: 0.1619 - accuracy: 0.9541\n",
      "Epoch 32/50\n",
      "1050/1050 [==============================] - 11s 11ms/step - loss: 0.1520 - accuracy: 0.9577\n",
      "Epoch 33/50\n",
      "1050/1050 [==============================] - 12s 12ms/step - loss: 0.1512 - accuracy: 0.9583\n",
      "Epoch 34/50\n",
      "1050/1050 [==============================] - 11s 10ms/step - loss: 0.1490 - accuracy: 0.9579\n",
      "Epoch 35/50\n",
      "1050/1050 [==============================] - 12s 11ms/step - loss: 0.1503 - accuracy: 0.9577\n",
      "Epoch 36/50\n",
      "1050/1050 [==============================] - 11s 10ms/step - loss: 0.1498 - accuracy: 0.9577\n",
      "Epoch 37/50\n",
      "1050/1050 [==============================] - 11s 10ms/step - loss: 0.1463 - accuracy: 0.9576\n",
      "Epoch 38/50\n",
      "1050/1050 [==============================] - 12s 11ms/step - loss: 0.1512 - accuracy: 0.9577\n",
      "Epoch 39/50\n",
      "1050/1050 [==============================] - 11s 10ms/step - loss: 0.1416 - accuracy: 0.9614\n",
      "Epoch 40/50\n",
      "1050/1050 [==============================] - 11s 10ms/step - loss: 0.1460 - accuracy: 0.9598\n",
      "Epoch 41/50\n",
      "1050/1050 [==============================] - 12s 11ms/step - loss: 0.1418 - accuracy: 0.9590\n",
      "Epoch 42/50\n",
      "1050/1050 [==============================] - 11s 10ms/step - loss: 0.1455 - accuracy: 0.9596\n",
      "Epoch 43/50\n",
      "1050/1050 [==============================] - 11s 10ms/step - loss: 0.1397 - accuracy: 0.9607\n",
      "Epoch 44/50\n",
      "1050/1050 [==============================] - 12s 11ms/step - loss: 0.1324 - accuracy: 0.9625\n",
      "Epoch 45/50\n",
      "1050/1050 [==============================] - 11s 10ms/step - loss: 0.1363 - accuracy: 0.9613\n",
      "Epoch 46/50\n",
      "1050/1050 [==============================] - 11s 10ms/step - loss: 0.1400 - accuracy: 0.9613\n",
      "Epoch 47/50\n",
      "1050/1050 [==============================] - 12s 11ms/step - loss: 0.1377 - accuracy: 0.9610\n",
      "Epoch 48/50\n",
      "1050/1050 [==============================] - 11s 11ms/step - loss: 0.1388 - accuracy: 0.9618\n",
      "Epoch 49/50\n",
      "1050/1050 [==============================] - 12s 12ms/step - loss: 0.1358 - accuracy: 0.9617\n",
      "Epoch 50/50\n",
      "1050/1050 [==============================] - 11s 10ms/step - loss: 0.1312 - accuracy: 0.9634\n"
     ]
    },
    {
     "data": {
      "text/plain": [
       "<keras.callbacks.History at 0x7f8435759c10>"
      ]
     },
     "execution_count": 10,
     "metadata": {},
     "output_type": "execute_result"
    }
   ],
   "source": [
    "# Traditional training with fixed number of epochs - Training and validation happens here\n",
    "model.fit(X_train, y_train,epochs=50)"
   ]
  },
  {
   "cell_type": "markdown",
   "id": "8bfb4cad",
   "metadata": {
    "papermill": {
     "duration": 0.748985,
     "end_time": "2023-02-21T07:09:25.790255",
     "exception": false,
     "start_time": "2023-02-21T07:09:25.041270",
     "status": "completed"
    },
    "tags": []
   },
   "source": [
    "# Validating our trained model"
   ]
  },
  {
   "cell_type": "code",
   "execution_count": 11,
   "id": "b42d552e",
   "metadata": {
    "execution": {
     "iopub.execute_input": "2023-02-21T07:09:27.172572Z",
     "iopub.status.busy": "2023-02-21T07:09:27.171748Z",
     "iopub.status.idle": "2023-02-21T07:09:28.244828Z",
     "shell.execute_reply": "2023-02-21T07:09:28.243494Z"
    },
    "papermill": {
     "duration": 1.798912,
     "end_time": "2023-02-21T07:09:28.247851",
     "exception": false,
     "start_time": "2023-02-21T07:09:26.448939",
     "status": "completed"
    },
    "tags": []
   },
   "outputs": [],
   "source": [
    "# test using validation set\n",
    "y_pred = model.predict(X_test)\n",
    "y_predict = [np.argmax(y_pred[i]) for i in range(len(y_pred))]"
   ]
  },
  {
   "cell_type": "code",
   "execution_count": 12,
   "id": "b755b9e8",
   "metadata": {
    "execution": {
     "iopub.execute_input": "2023-02-21T07:09:29.637202Z",
     "iopub.status.busy": "2023-02-21T07:09:29.636627Z",
     "iopub.status.idle": "2023-02-21T07:09:30.135283Z",
     "shell.execute_reply": "2023-02-21T07:09:30.134266Z"
    },
    "papermill": {
     "duration": 1.231395,
     "end_time": "2023-02-21T07:09:30.137738",
     "exception": false,
     "start_time": "2023-02-21T07:09:28.906343",
     "status": "completed"
    },
    "tags": []
   },
   "outputs": [
    {
     "data": {
      "image/png": "[encoded data removed]",
      "text/plain": [
       "<Figure size 720x720 with 9 Axes>"
      ]
     },
     "metadata": {
      "needs_background": "light"
     },
     "output_type": "display_data"
    }
   ],
   "source": [
    "y_list = y_test.to_list()\n",
    "plt.figure(figsize=(10,10))\n",
    "for i in range(9):\n",
    "    plt.subplot(3,3,i+1)\n",
    "    plt.imshow(X_test[i])\n",
    "    plt.axis('off')\n",
    "    plt.title('actual value : %d' %y_list[i]+ '\\n predicted value is : %d ' % y_predict[i])"
   ]
  },
  {
   "cell_type": "code",
   "execution_count": 13,
   "id": "89f1ebe2",
   "metadata": {
    "execution": {
     "iopub.execute_input": "2023-02-21T07:09:31.481777Z",
     "iopub.status.busy": "2023-02-21T07:09:31.481036Z",
     "iopub.status.idle": "2023-02-21T07:09:31.490705Z",
     "shell.execute_reply": "2023-02-21T07:09:31.489558Z"
    },
    "papermill": {
     "duration": 0.678604,
     "end_time": "2023-02-21T07:09:31.493435",
     "exception": false,
     "start_time": "2023-02-21T07:09:30.814831",
     "status": "completed"
    },
    "tags": []
   },
   "outputs": [
    {
     "data": {
      "text/plain": [
       "0.9870238095238095"
      ]
     },
     "execution_count": 13,
     "metadata": {},
     "output_type": "execute_result"
    }
   ],
   "source": [
    "# validation accuracy to see if we're on the right track\n",
    "from sklearn.metrics import accuracy_score\n",
    "accuracy_score(y_test,y_predict)"
   ]
  },
  {
   "cell_type": "markdown",
   "id": "473686ce",
   "metadata": {
    "papermill": {
     "duration": 0.658487,
     "end_time": "2023-02-21T07:09:32.875589",
     "exception": false,
     "start_time": "2023-02-21T07:09:32.217102",
     "status": "completed"
    },
    "tags": []
   },
   "source": [
    "# Prediction and submission"
   ]
  },
  {
   "cell_type": "code",
   "execution_count": 14,
   "id": "38a15cef",
   "metadata": {
    "execution": {
     "iopub.execute_input": "2023-02-21T07:09:34.253996Z",
     "iopub.status.busy": "2023-02-21T07:09:34.253519Z",
     "iopub.status.idle": "2023-02-21T07:09:37.850608Z",
     "shell.execute_reply": "2023-02-21T07:09:37.849528Z"
    },
    "papermill": {
     "duration": 4.257325,
     "end_time": "2023-02-21T07:09:37.853678",
     "exception": false,
     "start_time": "2023-02-21T07:09:33.596353",
     "status": "completed"
    },
    "tags": []
   },
   "outputs": [],
   "source": [
    "# Predictions for submission using the test data\n",
    "\n",
    "df_test = np.array(df_test)\n",
    "df_test = df_test.reshape(len(df_test),28,28,1)\n",
    "\n",
    "result = model.predict(df_test)\n",
    "\n",
    "predicted_val=[]\n",
    "for i in range(len(result)):\n",
    "    predicted_val.append(np.argmax(result[i]))"
   ]
  },
  {
   "cell_type": "code",
   "execution_count": 15,
   "id": "af596efa",
   "metadata": {
    "execution": {
     "iopub.execute_input": "2023-02-21T07:09:39.226651Z",
     "iopub.status.busy": "2023-02-21T07:09:39.226229Z",
     "iopub.status.idle": "2023-02-21T07:09:39.271039Z",
     "shell.execute_reply": "2023-02-21T07:09:39.269854Z"
    },
    "papermill": {
     "duration": 0.700379,
     "end_time": "2023-02-21T07:09:39.274477",
     "exception": false,
     "start_time": "2023-02-21T07:09:38.574098",
     "status": "completed"
    },
    "tags": []
   },
   "outputs": [],
   "source": [
    "# make a csv for submission\n",
    "# submission needs two columns, ImageId (1 to len (test dataset)+1) and Label\n",
    "\n",
    "submission=pd.DataFrame()\n",
    "\n",
    "imgid=[]\n",
    "for i in range(1, len(predicted_val)+1):\n",
    "    imgid.append(i)\n",
    "    \n",
    "submission[\"Imageid\"]=imgid\n",
    "submission[\"Label\"]=predicted_val"
   ]
  },
  {
   "cell_type": "code",
   "execution_count": 16,
   "id": "daaea25f",
   "metadata": {
    "execution": {
     "iopub.execute_input": "2023-02-21T07:09:40.657506Z",
     "iopub.status.busy": "2023-02-21T07:09:40.656742Z",
     "iopub.status.idle": "2023-02-21T07:09:40.666531Z",
     "shell.execute_reply": "2023-02-21T07:09:40.665375Z"
    },
    "papermill": {
     "duration": 0.7353,
     "end_time": "2023-02-21T07:09:40.668894",
     "exception": false,
     "start_time": "2023-02-21T07:09:39.933594",
     "status": "completed"
    },
    "tags": []
   },
   "outputs": [
    {
     "data": {
      "text/html": [
       "<div>\n",
       "<style scoped>\n",
       "    .dataframe tbody tr th:only-of-type {\n",
       "        vertical-align: middle;\n",
       "    }\n",
       "\n",
       "    .dataframe tbody tr th {\n",
       "        vertical-align: top;\n",
       "    }\n",
       "\n",
       "    .dataframe thead th {\n",
       "        text-align: right;\n",
       "    }\n",
       "</style>\n",
       "<table border=\"1\" class=\"dataframe\">\n",
       "  <thead>\n",
       "    <tr style=\"text-align: right;\">\n",
       "      <th></th>\n",
       "      <th>Imageid</th>\n",
       "      <th>Label</th>\n",
       "    </tr>\n",
       "  </thead>\n",
       "  <tbody>\n",
       "    <tr>\n",
       "      <th>0</th>\n",
       "      <td>1</td>\n",
       "      <td>2</td>\n",
       "    </tr>\n",
       "    <tr>\n",
       "      <th>1</th>\n",
       "      <td>2</td>\n",
       "      <td>0</td>\n",
       "    </tr>\n",
       "    <tr>\n",
       "      <th>2</th>\n",
       "      <td>3</td>\n",
       "      <td>9</td>\n",
       "    </tr>\n",
       "    <tr>\n",
       "      <th>3</th>\n",
       "      <td>4</td>\n",
       "      <td>9</td>\n",
       "    </tr>\n",
       "    <tr>\n",
       "      <th>4</th>\n",
       "      <td>5</td>\n",
       "      <td>3</td>\n",
       "    </tr>\n",
       "  </tbody>\n",
       "</table>\n",
       "</div>"
      ],
      "text/plain": [
       "   Imageid  Label\n",
       "0        1      2\n",
       "1        2      0\n",
       "2        3      9\n",
       "3        4      9\n",
       "4        5      3"
      ]
     },
     "execution_count": 16,
     "metadata": {},
     "output_type": "execute_result"
    }
   ],
   "source": [
    "submission.head()"
   ]
  },
  {
   "cell_type": "code",
   "execution_count": 17,
   "id": "2083821f",
   "metadata": {
    "execution": {
     "iopub.execute_input": "2023-02-21T07:09:42.039564Z",
     "iopub.status.busy": "2023-02-21T07:09:42.039150Z",
     "iopub.status.idle": "2023-02-21T07:09:42.077184Z",
     "shell.execute_reply": "2023-02-21T07:09:42.076237Z"
    },
    "papermill": {
     "duration": 0.703372,
     "end_time": "2023-02-21T07:09:42.079831",
     "exception": false,
     "start_time": "2023-02-21T07:09:41.376459",
     "status": "completed"
    },
    "tags": []
   },
   "outputs": [],
   "source": [
    "submission.to_csv('submission.csv',index=False)"
   ]
  }
 ],
 "metadata": {
  "kernelspec": {
   "display_name": "Python 3",
   "language": "python",
   "name": "python3"
  },
  "language_info": {
   "codemirror_mode": {
    "name": "ipython",
    "version": 3
   },
   "file_extension": ".py",
   "mimetype": "text/x-python",
   "name": "python",
   "nbconvert_exporter": "python",
   "pygments_lexer": "ipython3",
   "version": "3.7.12"
  },
  "papermill": {
   "default_parameters": {},
   "duration": 612.346466,
   "end_time": "2023-02-21T07:09:45.750013",
   "environment_variables": {},
   "exception": null,
   "input_path": "__notebook__.ipynb",
   "output_path": "__notebook__.ipynb",
   "parameters": {},
   "start_time": "2023-02-21T06:59:33.403547",
   "version": "2.3.4"
  }
 },
 "nbformat": 4,
 "nbformat_minor": 5
}
