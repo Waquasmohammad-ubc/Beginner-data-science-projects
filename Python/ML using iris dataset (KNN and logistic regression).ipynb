{
 "cells": [
  {
   "cell_type": "code",
   "execution_count": 1,
   "id": "3c28b932",
   "metadata": {
    "execution": {
     "iopub.execute_input": "2023-02-21T06:35:48.449381Z",
     "iopub.status.busy": "2023-02-21T06:35:48.448902Z",
     "iopub.status.idle": "2023-02-21T06:35:48.460402Z",
     "shell.execute_reply": "2023-02-21T06:35:48.459468Z"
    },
    "papermill": {
     "duration": 0.023894,
     "end_time": "2023-02-21T06:35:48.462899",
     "exception": false,
     "start_time": "2023-02-21T06:35:48.439005",
     "status": "completed"
    },
    "tags": []
   },
   "outputs": [],
   "source": [
    "# Import libraries\n",
    "\n",
    "import numpy as np \n",
    "import pandas as pd"
   ]
  },
  {
   "cell_type": "markdown",
   "id": "3fa7c2ba",
   "metadata": {
    "papermill": {
     "duration": 0.00533,
     "end_time": "2023-02-21T06:35:48.474113",
     "exception": false,
     "start_time": "2023-02-21T06:35:48.468783",
     "status": "completed"
    },
    "tags": []
   },
   "source": [
    "# IMPORTING AND VIEWING THE DATA"
   ]
  },
  {
   "cell_type": "code",
   "execution_count": 2,
   "id": "f0703a11",
   "metadata": {
    "execution": {
     "iopub.execute_input": "2023-02-21T06:35:48.488184Z",
     "iopub.status.busy": "2023-02-21T06:35:48.487470Z",
     "iopub.status.idle": "2023-02-21T06:35:48.508992Z",
     "shell.execute_reply": "2023-02-21T06:35:48.507953Z"
    },
    "papermill": {
     "duration": 0.031249,
     "end_time": "2023-02-21T06:35:48.511549",
     "exception": false,
     "start_time": "2023-02-21T06:35:48.480300",
     "status": "completed"
    },
    "tags": []
   },
   "outputs": [],
   "source": [
    "# Extracting the dataset into a table. This is called a dataframe, here known with the variable \"df\"\n",
    "# Copy your Iris.csv file path here and replace '\\' with '\\\\'\n",
    "\n",
    "df = pd.read_csv('/kaggle/input/iris/Iris.csv')"
   ]
  },
  {
   "cell_type": "code",
   "execution_count": 3,
   "id": "df121d19",
   "metadata": {
    "execution": {
     "iopub.execute_input": "2023-02-21T06:35:48.525597Z",
     "iopub.status.busy": "2023-02-21T06:35:48.524657Z",
     "iopub.status.idle": "2023-02-21T06:35:48.551992Z",
     "shell.execute_reply": "2023-02-21T06:35:48.550528Z"
    },
    "papermill": {
     "duration": 0.037579,
     "end_time": "2023-02-21T06:35:48.555063",
     "exception": false,
     "start_time": "2023-02-21T06:35:48.517484",
     "status": "completed"
    },
    "tags": []
   },
   "outputs": [
    {
     "data": {
      "text/html": [
       "<div>\n",
       "<style scoped>\n",
       "    .dataframe tbody tr th:only-of-type {\n",
       "        vertical-align: middle;\n",
       "    }\n",
       "\n",
       "    .dataframe tbody tr th {\n",
       "        vertical-align: top;\n",
       "    }\n",
       "\n",
       "    .dataframe thead th {\n",
       "        text-align: right;\n",
       "    }\n",
       "</style>\n",
       "<table border=\"1\" class=\"dataframe\">\n",
       "  <thead>\n",
       "    <tr style=\"text-align: right;\">\n",
       "      <th></th>\n",
       "      <th>Id</th>\n",
       "      <th>SepalLengthCm</th>\n",
       "      <th>SepalWidthCm</th>\n",
       "      <th>PetalLengthCm</th>\n",
       "      <th>PetalWidthCm</th>\n",
       "      <th>Species</th>\n",
       "    </tr>\n",
       "  </thead>\n",
       "  <tbody>\n",
       "    <tr>\n",
       "      <th>0</th>\n",
       "      <td>1</td>\n",
       "      <td>5.1</td>\n",
       "      <td>3.5</td>\n",
       "      <td>1.4</td>\n",
       "      <td>0.2</td>\n",
       "      <td>Iris-setosa</td>\n",
       "    </tr>\n",
       "    <tr>\n",
       "      <th>1</th>\n",
       "      <td>2</td>\n",
       "      <td>4.9</td>\n",
       "      <td>3.0</td>\n",
       "      <td>1.4</td>\n",
       "      <td>0.2</td>\n",
       "      <td>Iris-setosa</td>\n",
       "    </tr>\n",
       "    <tr>\n",
       "      <th>2</th>\n",
       "      <td>3</td>\n",
       "      <td>4.7</td>\n",
       "      <td>3.2</td>\n",
       "      <td>1.3</td>\n",
       "      <td>0.2</td>\n",
       "      <td>Iris-setosa</td>\n",
       "    </tr>\n",
       "    <tr>\n",
       "      <th>3</th>\n",
       "      <td>4</td>\n",
       "      <td>4.6</td>\n",
       "      <td>3.1</td>\n",
       "      <td>1.5</td>\n",
       "      <td>0.2</td>\n",
       "      <td>Iris-setosa</td>\n",
       "    </tr>\n",
       "    <tr>\n",
       "      <th>4</th>\n",
       "      <td>5</td>\n",
       "      <td>5.0</td>\n",
       "      <td>3.6</td>\n",
       "      <td>1.4</td>\n",
       "      <td>0.2</td>\n",
       "      <td>Iris-setosa</td>\n",
       "    </tr>\n",
       "  </tbody>\n",
       "</table>\n",
       "</div>"
      ],
      "text/plain": [
       "   Id  SepalLengthCm  SepalWidthCm  PetalLengthCm  PetalWidthCm      Species\n",
       "0   1            5.1           3.5            1.4           0.2  Iris-setosa\n",
       "1   2            4.9           3.0            1.4           0.2  Iris-setosa\n",
       "2   3            4.7           3.2            1.3           0.2  Iris-setosa\n",
       "3   4            4.6           3.1            1.5           0.2  Iris-setosa\n",
       "4   5            5.0           3.6            1.4           0.2  Iris-setosa"
      ]
     },
     "execution_count": 3,
     "metadata": {},
     "output_type": "execute_result"
    }
   ],
   "source": [
    "df.head() #this function returns first 5 entries"
   ]
  },
  {
   "cell_type": "code",
   "execution_count": 4,
   "id": "180515ec",
   "metadata": {
    "execution": {
     "iopub.execute_input": "2023-02-21T06:35:48.569023Z",
     "iopub.status.busy": "2023-02-21T06:35:48.568622Z",
     "iopub.status.idle": "2023-02-21T06:35:48.607807Z",
     "shell.execute_reply": "2023-02-21T06:35:48.606617Z"
    },
    "papermill": {
     "duration": 0.049096,
     "end_time": "2023-02-21T06:35:48.610172",
     "exception": false,
     "start_time": "2023-02-21T06:35:48.561076",
     "status": "completed"
    },
    "tags": []
   },
   "outputs": [
    {
     "data": {
      "text/html": [
       "<div>\n",
       "<style scoped>\n",
       "    .dataframe tbody tr th:only-of-type {\n",
       "        vertical-align: middle;\n",
       "    }\n",
       "\n",
       "    .dataframe tbody tr th {\n",
       "        vertical-align: top;\n",
       "    }\n",
       "\n",
       "    .dataframe thead th {\n",
       "        text-align: right;\n",
       "    }\n",
       "</style>\n",
       "<table border=\"1\" class=\"dataframe\">\n",
       "  <thead>\n",
       "    <tr style=\"text-align: right;\">\n",
       "      <th></th>\n",
       "      <th>Id</th>\n",
       "      <th>SepalLengthCm</th>\n",
       "      <th>SepalWidthCm</th>\n",
       "      <th>PetalLengthCm</th>\n",
       "      <th>PetalWidthCm</th>\n",
       "    </tr>\n",
       "  </thead>\n",
       "  <tbody>\n",
       "    <tr>\n",
       "      <th>count</th>\n",
       "      <td>150.000000</td>\n",
       "      <td>150.000000</td>\n",
       "      <td>150.000000</td>\n",
       "      <td>150.000000</td>\n",
       "      <td>150.000000</td>\n",
       "    </tr>\n",
       "    <tr>\n",
       "      <th>mean</th>\n",
       "      <td>75.500000</td>\n",
       "      <td>5.843333</td>\n",
       "      <td>3.054000</td>\n",
       "      <td>3.758667</td>\n",
       "      <td>1.198667</td>\n",
       "    </tr>\n",
       "    <tr>\n",
       "      <th>std</th>\n",
       "      <td>43.445368</td>\n",
       "      <td>0.828066</td>\n",
       "      <td>0.433594</td>\n",
       "      <td>1.764420</td>\n",
       "      <td>0.763161</td>\n",
       "    </tr>\n",
       "    <tr>\n",
       "      <th>min</th>\n",
       "      <td>1.000000</td>\n",
       "      <td>4.300000</td>\n",
       "      <td>2.000000</td>\n",
       "      <td>1.000000</td>\n",
       "      <td>0.100000</td>\n",
       "    </tr>\n",
       "    <tr>\n",
       "      <th>25%</th>\n",
       "      <td>38.250000</td>\n",
       "      <td>5.100000</td>\n",
       "      <td>2.800000</td>\n",
       "      <td>1.600000</td>\n",
       "      <td>0.300000</td>\n",
       "    </tr>\n",
       "    <tr>\n",
       "      <th>50%</th>\n",
       "      <td>75.500000</td>\n",
       "      <td>5.800000</td>\n",
       "      <td>3.000000</td>\n",
       "      <td>4.350000</td>\n",
       "      <td>1.300000</td>\n",
       "    </tr>\n",
       "    <tr>\n",
       "      <th>75%</th>\n",
       "      <td>112.750000</td>\n",
       "      <td>6.400000</td>\n",
       "      <td>3.300000</td>\n",
       "      <td>5.100000</td>\n",
       "      <td>1.800000</td>\n",
       "    </tr>\n",
       "    <tr>\n",
       "      <th>max</th>\n",
       "      <td>150.000000</td>\n",
       "      <td>7.900000</td>\n",
       "      <td>4.400000</td>\n",
       "      <td>6.900000</td>\n",
       "      <td>2.500000</td>\n",
       "    </tr>\n",
       "  </tbody>\n",
       "</table>\n",
       "</div>"
      ],
      "text/plain": [
       "               Id  SepalLengthCm  SepalWidthCm  PetalLengthCm  PetalWidthCm\n",
       "count  150.000000     150.000000    150.000000     150.000000    150.000000\n",
       "mean    75.500000       5.843333      3.054000       3.758667      1.198667\n",
       "std     43.445368       0.828066      0.433594       1.764420      0.763161\n",
       "min      1.000000       4.300000      2.000000       1.000000      0.100000\n",
       "25%     38.250000       5.100000      2.800000       1.600000      0.300000\n",
       "50%     75.500000       5.800000      3.000000       4.350000      1.300000\n",
       "75%    112.750000       6.400000      3.300000       5.100000      1.800000\n",
       "max    150.000000       7.900000      4.400000       6.900000      2.500000"
      ]
     },
     "execution_count": 4,
     "metadata": {},
     "output_type": "execute_result"
    }
   ],
   "source": [
    "df.describe() # returns statistics about the dataframe"
   ]
  },
  {
   "cell_type": "code",
   "execution_count": 5,
   "id": "28e57096",
   "metadata": {
    "execution": {
     "iopub.execute_input": "2023-02-21T06:35:48.624622Z",
     "iopub.status.busy": "2023-02-21T06:35:48.623614Z",
     "iopub.status.idle": "2023-02-21T06:35:48.638863Z",
     "shell.execute_reply": "2023-02-21T06:35:48.637651Z"
    },
    "papermill": {
     "duration": 0.025107,
     "end_time": "2023-02-21T06:35:48.641306",
     "exception": false,
     "start_time": "2023-02-21T06:35:48.616199",
     "status": "completed"
    },
    "tags": []
   },
   "outputs": [
    {
     "data": {
      "text/html": [
       "<div>\n",
       "<style scoped>\n",
       "    .dataframe tbody tr th:only-of-type {\n",
       "        vertical-align: middle;\n",
       "    }\n",
       "\n",
       "    .dataframe tbody tr th {\n",
       "        vertical-align: top;\n",
       "    }\n",
       "\n",
       "    .dataframe thead th {\n",
       "        text-align: right;\n",
       "    }\n",
       "</style>\n",
       "<table border=\"1\" class=\"dataframe\">\n",
       "  <thead>\n",
       "    <tr style=\"text-align: right;\">\n",
       "      <th></th>\n",
       "      <th>Id</th>\n",
       "      <th>SepalLengthCm</th>\n",
       "      <th>SepalWidthCm</th>\n",
       "      <th>PetalLengthCm</th>\n",
       "      <th>PetalWidthCm</th>\n",
       "      <th>Species</th>\n",
       "    </tr>\n",
       "  </thead>\n",
       "  <tbody>\n",
       "    <tr>\n",
       "      <th>20</th>\n",
       "      <td>21</td>\n",
       "      <td>5.4</td>\n",
       "      <td>3.4</td>\n",
       "      <td>1.7</td>\n",
       "      <td>0.2</td>\n",
       "      <td>Iris-setosa</td>\n",
       "    </tr>\n",
       "    <tr>\n",
       "      <th>129</th>\n",
       "      <td>130</td>\n",
       "      <td>7.2</td>\n",
       "      <td>3.0</td>\n",
       "      <td>5.8</td>\n",
       "      <td>1.6</td>\n",
       "      <td>Iris-virginica</td>\n",
       "    </tr>\n",
       "    <tr>\n",
       "      <th>104</th>\n",
       "      <td>105</td>\n",
       "      <td>6.5</td>\n",
       "      <td>3.0</td>\n",
       "      <td>5.8</td>\n",
       "      <td>2.2</td>\n",
       "      <td>Iris-virginica</td>\n",
       "    </tr>\n",
       "    <tr>\n",
       "      <th>63</th>\n",
       "      <td>64</td>\n",
       "      <td>6.1</td>\n",
       "      <td>2.9</td>\n",
       "      <td>4.7</td>\n",
       "      <td>1.4</td>\n",
       "      <td>Iris-versicolor</td>\n",
       "    </tr>\n",
       "    <tr>\n",
       "      <th>100</th>\n",
       "      <td>101</td>\n",
       "      <td>6.3</td>\n",
       "      <td>3.3</td>\n",
       "      <td>6.0</td>\n",
       "      <td>2.5</td>\n",
       "      <td>Iris-virginica</td>\n",
       "    </tr>\n",
       "  </tbody>\n",
       "</table>\n",
       "</div>"
      ],
      "text/plain": [
       "      Id  SepalLengthCm  SepalWidthCm  PetalLengthCm  PetalWidthCm  \\\n",
       "20    21            5.4           3.4            1.7           0.2   \n",
       "129  130            7.2           3.0            5.8           1.6   \n",
       "104  105            6.5           3.0            5.8           2.2   \n",
       "63    64            6.1           2.9            4.7           1.4   \n",
       "100  101            6.3           3.3            6.0           2.5   \n",
       "\n",
       "             Species  \n",
       "20       Iris-setosa  \n",
       "129   Iris-virginica  \n",
       "104   Iris-virginica  \n",
       "63   Iris-versicolor  \n",
       "100   Iris-virginica  "
      ]
     },
     "execution_count": 5,
     "metadata": {},
     "output_type": "execute_result"
    }
   ],
   "source": [
    "df.sample(5) # return n random entries from the dataset"
   ]
  },
  {
   "cell_type": "markdown",
   "id": "32003606",
   "metadata": {
    "papermill": {
     "duration": 0.006021,
     "end_time": "2023-02-21T06:35:48.653657",
     "exception": false,
     "start_time": "2023-02-21T06:35:48.647636",
     "status": "completed"
    },
    "tags": []
   },
   "source": [
    "# DATAFRAME MANIPULATION"
   ]
  },
  {
   "cell_type": "code",
   "execution_count": 6,
   "id": "91d4d1c0",
   "metadata": {
    "execution": {
     "iopub.execute_input": "2023-02-21T06:35:48.668307Z",
     "iopub.status.busy": "2023-02-21T06:35:48.667498Z",
     "iopub.status.idle": "2023-02-21T06:35:48.683542Z",
     "shell.execute_reply": "2023-02-21T06:35:48.682736Z"
    },
    "papermill": {
     "duration": 0.025877,
     "end_time": "2023-02-21T06:35:48.685763",
     "exception": false,
     "start_time": "2023-02-21T06:35:48.659886",
     "status": "completed"
    },
    "tags": []
   },
   "outputs": [
    {
     "data": {
      "text/html": [
       "<div>\n",
       "<style scoped>\n",
       "    .dataframe tbody tr th:only-of-type {\n",
       "        vertical-align: middle;\n",
       "    }\n",
       "\n",
       "    .dataframe tbody tr th {\n",
       "        vertical-align: top;\n",
       "    }\n",
       "\n",
       "    .dataframe thead th {\n",
       "        text-align: right;\n",
       "    }\n",
       "</style>\n",
       "<table border=\"1\" class=\"dataframe\">\n",
       "  <thead>\n",
       "    <tr style=\"text-align: right;\">\n",
       "      <th></th>\n",
       "      <th>Id</th>\n",
       "      <th>SepalLengthCm</th>\n",
       "      <th>SepalWidthCm</th>\n",
       "      <th>PetalLengthCm</th>\n",
       "      <th>PetalWidthCm</th>\n",
       "      <th>Species</th>\n",
       "    </tr>\n",
       "  </thead>\n",
       "  <tbody>\n",
       "    <tr>\n",
       "      <th>0</th>\n",
       "      <td>1</td>\n",
       "      <td>5.1</td>\n",
       "      <td>3.5</td>\n",
       "      <td>1.4</td>\n",
       "      <td>0.2</td>\n",
       "      <td>Iris-setosa</td>\n",
       "    </tr>\n",
       "    <tr>\n",
       "      <th>1</th>\n",
       "      <td>2</td>\n",
       "      <td>4.9</td>\n",
       "      <td>3.0</td>\n",
       "      <td>1.4</td>\n",
       "      <td>0.2</td>\n",
       "      <td>Iris-setosa</td>\n",
       "    </tr>\n",
       "    <tr>\n",
       "      <th>2</th>\n",
       "      <td>3</td>\n",
       "      <td>4.7</td>\n",
       "      <td>3.2</td>\n",
       "      <td>1.3</td>\n",
       "      <td>0.2</td>\n",
       "      <td>Iris-setosa</td>\n",
       "    </tr>\n",
       "    <tr>\n",
       "      <th>4</th>\n",
       "      <td>5</td>\n",
       "      <td>5.0</td>\n",
       "      <td>3.6</td>\n",
       "      <td>1.4</td>\n",
       "      <td>0.2</td>\n",
       "      <td>Iris-setosa</td>\n",
       "    </tr>\n",
       "    <tr>\n",
       "      <th>5</th>\n",
       "      <td>6</td>\n",
       "      <td>5.4</td>\n",
       "      <td>3.9</td>\n",
       "      <td>1.7</td>\n",
       "      <td>0.4</td>\n",
       "      <td>Iris-setosa</td>\n",
       "    </tr>\n",
       "  </tbody>\n",
       "</table>\n",
       "</div>"
      ],
      "text/plain": [
       "   Id  SepalLengthCm  SepalWidthCm  PetalLengthCm  PetalWidthCm      Species\n",
       "0   1            5.1           3.5            1.4           0.2  Iris-setosa\n",
       "1   2            4.9           3.0            1.4           0.2  Iris-setosa\n",
       "2   3            4.7           3.2            1.3           0.2  Iris-setosa\n",
       "4   5            5.0           3.6            1.4           0.2  Iris-setosa\n",
       "5   6            5.4           3.9            1.7           0.4  Iris-setosa"
      ]
     },
     "execution_count": 6,
     "metadata": {},
     "output_type": "execute_result"
    }
   ],
   "source": [
    "# Jupyter labels each row with an index by default starting from 0\n",
    "# This code is to remove a row based on a particular index\n",
    "\n",
    "temp = df.copy() # copy() function is to create a copy of the original dataframe (stored in temp here)\n",
    "temp.drop([3], axis = 0, inplace = True)\n",
    "temp.head() \n",
    "# See how the 3rd index is dropped from the table\n"
   ]
  },
  {
   "cell_type": "code",
   "execution_count": 7,
   "id": "9fadb5ca",
   "metadata": {
    "execution": {
     "iopub.execute_input": "2023-02-21T06:35:48.701237Z",
     "iopub.status.busy": "2023-02-21T06:35:48.700116Z",
     "iopub.status.idle": "2023-02-21T06:35:48.714503Z",
     "shell.execute_reply": "2023-02-21T06:35:48.713279Z"
    },
    "papermill": {
     "duration": 0.024984,
     "end_time": "2023-02-21T06:35:48.717243",
     "exception": false,
     "start_time": "2023-02-21T06:35:48.692259",
     "status": "completed"
    },
    "tags": []
   },
   "outputs": [
    {
     "data": {
      "text/html": [
       "<div>\n",
       "<style scoped>\n",
       "    .dataframe tbody tr th:only-of-type {\n",
       "        vertical-align: middle;\n",
       "    }\n",
       "\n",
       "    .dataframe tbody tr th {\n",
       "        vertical-align: top;\n",
       "    }\n",
       "\n",
       "    .dataframe thead th {\n",
       "        text-align: right;\n",
       "    }\n",
       "</style>\n",
       "<table border=\"1\" class=\"dataframe\">\n",
       "  <thead>\n",
       "    <tr style=\"text-align: right;\">\n",
       "      <th></th>\n",
       "      <th>Id</th>\n",
       "      <th>SepalLengthCm</th>\n",
       "      <th>SepalWidthCm</th>\n",
       "      <th>PetalLengthCm</th>\n",
       "      <th>PetalWidthCm</th>\n",
       "      <th>Species</th>\n",
       "    </tr>\n",
       "  </thead>\n",
       "  <tbody>\n",
       "    <tr>\n",
       "      <th>0</th>\n",
       "      <td>1</td>\n",
       "      <td>5.1</td>\n",
       "      <td>3.5</td>\n",
       "      <td>1.4</td>\n",
       "      <td>0.2</td>\n",
       "      <td>Iris-setosa</td>\n",
       "    </tr>\n",
       "    <tr>\n",
       "      <th>1</th>\n",
       "      <td>2</td>\n",
       "      <td>4.9</td>\n",
       "      <td>3.0</td>\n",
       "      <td>1.4</td>\n",
       "      <td>0.2</td>\n",
       "      <td>Iris-setosa</td>\n",
       "    </tr>\n",
       "    <tr>\n",
       "      <th>2</th>\n",
       "      <td>3</td>\n",
       "      <td>4.7</td>\n",
       "      <td>3.2</td>\n",
       "      <td>1.3</td>\n",
       "      <td>0.2</td>\n",
       "      <td>Iris-setosa</td>\n",
       "    </tr>\n",
       "    <tr>\n",
       "      <th>3</th>\n",
       "      <td>4</td>\n",
       "      <td>4.6</td>\n",
       "      <td>3.1</td>\n",
       "      <td>1.5</td>\n",
       "      <td>0.2</td>\n",
       "      <td>Iris-setosa</td>\n",
       "    </tr>\n",
       "    <tr>\n",
       "      <th>4</th>\n",
       "      <td>5</td>\n",
       "      <td>5.0</td>\n",
       "      <td>3.6</td>\n",
       "      <td>1.4</td>\n",
       "      <td>0.2</td>\n",
       "      <td>Iris-setosa</td>\n",
       "    </tr>\n",
       "  </tbody>\n",
       "</table>\n",
       "</div>"
      ],
      "text/plain": [
       "   Id  SepalLengthCm  SepalWidthCm  PetalLengthCm  PetalWidthCm      Species\n",
       "0   1            5.1           3.5            1.4           0.2  Iris-setosa\n",
       "1   2            4.9           3.0            1.4           0.2  Iris-setosa\n",
       "2   3            4.7           3.2            1.3           0.2  Iris-setosa\n",
       "3   4            4.6           3.1            1.5           0.2  Iris-setosa\n",
       "4   5            5.0           3.6            1.4           0.2  Iris-setosa"
      ]
     },
     "execution_count": 7,
     "metadata": {},
     "output_type": "execute_result"
    }
   ],
   "source": [
    "# See how it does not affect the main table\n",
    "df.head()"
   ]
  },
  {
   "cell_type": "code",
   "execution_count": 8,
   "id": "3e987a97",
   "metadata": {
    "execution": {
     "iopub.execute_input": "2023-02-21T06:35:48.732546Z",
     "iopub.status.busy": "2023-02-21T06:35:48.732097Z",
     "iopub.status.idle": "2023-02-21T06:35:48.749317Z",
     "shell.execute_reply": "2023-02-21T06:35:48.748369Z"
    },
    "papermill": {
     "duration": 0.027357,
     "end_time": "2023-02-21T06:35:48.751401",
     "exception": false,
     "start_time": "2023-02-21T06:35:48.724044",
     "status": "completed"
    },
    "tags": []
   },
   "outputs": [
    {
     "data": {
      "text/html": [
       "<div>\n",
       "<style scoped>\n",
       "    .dataframe tbody tr th:only-of-type {\n",
       "        vertical-align: middle;\n",
       "    }\n",
       "\n",
       "    .dataframe tbody tr th {\n",
       "        vertical-align: top;\n",
       "    }\n",
       "\n",
       "    .dataframe thead th {\n",
       "        text-align: right;\n",
       "    }\n",
       "</style>\n",
       "<table border=\"1\" class=\"dataframe\">\n",
       "  <thead>\n",
       "    <tr style=\"text-align: right;\">\n",
       "      <th></th>\n",
       "      <th>Id</th>\n",
       "      <th>SepalLengthCm</th>\n",
       "      <th>SepalWidthCm</th>\n",
       "      <th>PetalLengthCm</th>\n",
       "      <th>PetalWidthCm</th>\n",
       "      <th>Species</th>\n",
       "    </tr>\n",
       "  </thead>\n",
       "  <tbody>\n",
       "    <tr>\n",
       "      <th>0</th>\n",
       "      <td>1</td>\n",
       "      <td>5.1</td>\n",
       "      <td>3.5</td>\n",
       "      <td>1.4</td>\n",
       "      <td>0.2</td>\n",
       "      <td>Iris-setosa</td>\n",
       "    </tr>\n",
       "    <tr>\n",
       "      <th>1</th>\n",
       "      <td>2</td>\n",
       "      <td>4.9</td>\n",
       "      <td>3.0</td>\n",
       "      <td>1.4</td>\n",
       "      <td>0.2</td>\n",
       "      <td>Iris-setosa</td>\n",
       "    </tr>\n",
       "    <tr>\n",
       "      <th>2</th>\n",
       "      <td>3</td>\n",
       "      <td>4.7</td>\n",
       "      <td>3.2</td>\n",
       "      <td>1.3</td>\n",
       "      <td>0.2</td>\n",
       "      <td>Iris-setosa</td>\n",
       "    </tr>\n",
       "    <tr>\n",
       "      <th>4</th>\n",
       "      <td>5</td>\n",
       "      <td>5.0</td>\n",
       "      <td>3.6</td>\n",
       "      <td>1.4</td>\n",
       "      <td>0.2</td>\n",
       "      <td>Iris-setosa</td>\n",
       "    </tr>\n",
       "    <tr>\n",
       "      <th>5</th>\n",
       "      <td>6</td>\n",
       "      <td>5.4</td>\n",
       "      <td>3.9</td>\n",
       "      <td>1.7</td>\n",
       "      <td>0.4</td>\n",
       "      <td>Iris-setosa</td>\n",
       "    </tr>\n",
       "  </tbody>\n",
       "</table>\n",
       "</div>"
      ],
      "text/plain": [
       "   Id  SepalLengthCm  SepalWidthCm  PetalLengthCm  PetalWidthCm      Species\n",
       "0   1            5.1           3.5            1.4           0.2  Iris-setosa\n",
       "1   2            4.9           3.0            1.4           0.2  Iris-setosa\n",
       "2   3            4.7           3.2            1.3           0.2  Iris-setosa\n",
       "4   5            5.0           3.6            1.4           0.2  Iris-setosa\n",
       "5   6            5.4           3.9            1.7           0.4  Iris-setosa"
      ]
     },
     "execution_count": 8,
     "metadata": {},
     "output_type": "execute_result"
    }
   ],
   "source": [
    "# To remove a row using a value from the table (for example, remove row where 'Id' = 4)\n",
    "temp = df.copy()\n",
    "temp.drop(temp[temp['Id'] == 4].index, inplace = True)\n",
    "temp.head()"
   ]
  },
  {
   "cell_type": "code",
   "execution_count": 9,
   "id": "e8742981",
   "metadata": {
    "execution": {
     "iopub.execute_input": "2023-02-21T06:35:48.767341Z",
     "iopub.status.busy": "2023-02-21T06:35:48.766679Z",
     "iopub.status.idle": "2023-02-21T06:35:48.774747Z",
     "shell.execute_reply": "2023-02-21T06:35:48.773816Z"
    },
    "papermill": {
     "duration": 0.018847,
     "end_time": "2023-02-21T06:35:48.777080",
     "exception": false,
     "start_time": "2023-02-21T06:35:48.758233",
     "status": "completed"
    },
    "tags": []
   },
   "outputs": [
    {
     "data": {
      "text/plain": [
       "0         Iris-setosa\n",
       "1         Iris-setosa\n",
       "2         Iris-setosa\n",
       "3         Iris-setosa\n",
       "4         Iris-setosa\n",
       "            ...      \n",
       "145    Iris-virginica\n",
       "146    Iris-virginica\n",
       "147    Iris-virginica\n",
       "148    Iris-virginica\n",
       "149    Iris-virginica\n",
       "Name: Species, Length: 150, dtype: object"
      ]
     },
     "execution_count": 9,
     "metadata": {},
     "output_type": "execute_result"
    }
   ],
   "source": [
    "# How to access values in a table\n",
    "\n",
    "df['Species'] # Will give the entire column"
   ]
  },
  {
   "cell_type": "code",
   "execution_count": 10,
   "id": "3620a3ea",
   "metadata": {
    "execution": {
     "iopub.execute_input": "2023-02-21T06:35:48.793179Z",
     "iopub.status.busy": "2023-02-21T06:35:48.792493Z",
     "iopub.status.idle": "2023-02-21T06:35:48.808297Z",
     "shell.execute_reply": "2023-02-21T06:35:48.807188Z"
    },
    "papermill": {
     "duration": 0.026867,
     "end_time": "2023-02-21T06:35:48.810859",
     "exception": false,
     "start_time": "2023-02-21T06:35:48.783992",
     "status": "completed"
    },
    "tags": []
   },
   "outputs": [
    {
     "data": {
      "text/plain": [
       "Id                        5\n",
       "SepalWidthCm            3.6\n",
       "Species         Iris-setosa\n",
       "Name: 4, dtype: object"
      ]
     },
     "execution_count": 10,
     "metadata": {},
     "output_type": "execute_result"
    }
   ],
   "source": [
    "# To select required columns of a specific row\n",
    "\n",
    "df[['Id', 'SepalWidthCm', 'Species']].iloc[4]\n",
    "# df.iloc[4, [0, 2, 5]]"
   ]
  },
  {
   "cell_type": "markdown",
   "id": "d3f79df4",
   "metadata": {
    "papermill": {
     "duration": 0.007179,
     "end_time": "2023-02-21T06:35:48.825298",
     "exception": false,
     "start_time": "2023-02-21T06:35:48.818119",
     "status": "completed"
    },
    "tags": []
   },
   "source": [
    "# DATA VISUALIZATION"
   ]
  },
  {
   "cell_type": "code",
   "execution_count": 11,
   "id": "f0d22f22",
   "metadata": {
    "execution": {
     "iopub.execute_input": "2023-02-21T06:35:48.843150Z",
     "iopub.status.busy": "2023-02-21T06:35:48.842404Z",
     "iopub.status.idle": "2023-02-21T06:35:50.024269Z",
     "shell.execute_reply": "2023-02-21T06:35:50.023012Z"
    },
    "papermill": {
     "duration": 1.193543,
     "end_time": "2023-02-21T06:35:50.027252",
     "exception": false,
     "start_time": "2023-02-21T06:35:48.833709",
     "status": "completed"
    },
    "tags": []
   },
   "outputs": [],
   "source": [
    "import seaborn as sns\n",
    "import matplotlib.pyplot as plt\n",
    "%matplotlib inline"
   ]
  },
  {
   "cell_type": "code",
   "execution_count": 12,
   "id": "349638e7",
   "metadata": {
    "execution": {
     "iopub.execute_input": "2023-02-21T06:35:50.043694Z",
     "iopub.status.busy": "2023-02-21T06:35:50.043185Z",
     "iopub.status.idle": "2023-02-21T06:35:50.552106Z",
     "shell.execute_reply": "2023-02-21T06:35:50.551018Z"
    },
    "papermill": {
     "duration": 0.520015,
     "end_time": "2023-02-21T06:35:50.554703",
     "exception": false,
     "start_time": "2023-02-21T06:35:50.034688",
     "status": "completed"
    },
    "tags": []
   },
   "outputs": [
    {
     "data": {
      "text/plain": [
       "<seaborn.axisgrid.FacetGrid at 0x7f98cdeef910>"
      ]
     },
     "execution_count": 12,
     "metadata": {},
     "output_type": "execute_result"
    },
    {
     "data": {
      "image/png": "[encoded data removed]",
      "text/plain": [
       "<Figure size 535.25x432 with 1 Axes>"
      ]
     },
     "metadata": {
      "needs_background": "light"
     },
     "output_type": "display_data"
    }
   ],
   "source": [
    "tmp = df.drop('Id', axis = 1)\n",
    "sns.FacetGrid(tmp, hue =\"Species\", height = 6).map(plt.scatter,'SepalLengthCm','PetalLengthCm').add_legend()"
   ]
  },
  {
   "cell_type": "markdown",
   "id": "ecdb86a3",
   "metadata": {
    "papermill": {
     "duration": 0.007238,
     "end_time": "2023-02-21T06:35:50.569728",
     "exception": false,
     "start_time": "2023-02-21T06:35:50.562490",
     "status": "completed"
    },
    "tags": []
   },
   "source": [
    "# Machine Learning using KNN"
   ]
  },
  {
   "cell_type": "code",
   "execution_count": 13,
   "id": "b787012b",
   "metadata": {
    "execution": {
     "iopub.execute_input": "2023-02-21T06:35:50.587049Z",
     "iopub.status.busy": "2023-02-21T06:35:50.586232Z",
     "iopub.status.idle": "2023-02-21T06:35:50.953041Z",
     "shell.execute_reply": "2023-02-21T06:35:50.951468Z"
    },
    "papermill": {
     "duration": 0.379091,
     "end_time": "2023-02-21T06:35:50.956512",
     "exception": false,
     "start_time": "2023-02-21T06:35:50.577421",
     "status": "completed"
    },
    "tags": []
   },
   "outputs": [],
   "source": [
    "#Importing sklearn packages for ML\n",
    "\n",
    "from sklearn import metrics\n",
    "from sklearn.neighbors import KNeighborsClassifier\n",
    "from sklearn.linear_model import LogisticRegression\n",
    "from sklearn.model_selection import train_test_split"
   ]
  },
  {
   "cell_type": "code",
   "execution_count": 14,
   "id": "ff6564ab",
   "metadata": {
    "execution": {
     "iopub.execute_input": "2023-02-21T06:35:50.973651Z",
     "iopub.status.busy": "2023-02-21T06:35:50.973227Z",
     "iopub.status.idle": "2023-02-21T06:35:50.982370Z",
     "shell.execute_reply": "2023-02-21T06:35:50.980735Z"
    },
    "papermill": {
     "duration": 0.021509,
     "end_time": "2023-02-21T06:35:50.985709",
     "exception": false,
     "start_time": "2023-02-21T06:35:50.964200",
     "status": "completed"
    },
    "tags": []
   },
   "outputs": [
    {
     "name": "stdout",
     "output_type": "stream",
     "text": [
      "(150, 4)\n",
      "(150,)\n"
     ]
    }
   ],
   "source": [
    "# Modelling using scikit-learn\n",
    "# ML using KNN\n",
    "\n",
    "X = df.drop(['Id', 'Species'], axis=1)\n",
    "y = df['Species']\n",
    "# print(X.head())\n",
    "print(X.shape)\n",
    "# print(y.head())\n",
    "print(y.shape)"
   ]
  },
  {
   "cell_type": "code",
   "execution_count": 15,
   "id": "e1350739",
   "metadata": {
    "execution": {
     "iopub.execute_input": "2023-02-21T06:35:51.002755Z",
     "iopub.status.busy": "2023-02-21T06:35:51.002329Z",
     "iopub.status.idle": "2023-02-21T06:35:51.012169Z",
     "shell.execute_reply": "2023-02-21T06:35:51.010974Z"
    },
    "papermill": {
     "duration": 0.021376,
     "end_time": "2023-02-21T06:35:51.014803",
     "exception": false,
     "start_time": "2023-02-21T06:35:50.993427",
     "status": "completed"
    },
    "tags": []
   },
   "outputs": [
    {
     "name": "stdout",
     "output_type": "stream",
     "text": [
      "(120, 4)\n",
      "(120,)\n",
      "(30, 4)\n",
      "(30,)\n"
     ]
    }
   ],
   "source": [
    "#Split the data\n",
    "X_train, X_test, y_train, y_test = train_test_split(X, y, test_size=0.2, random_state=5)\n",
    "print(X_train.shape)\n",
    "print(y_train.shape)\n",
    "print(X_test.shape)\n",
    "print(y_test.shape)"
   ]
  },
  {
   "cell_type": "code",
   "execution_count": 16,
   "id": "245b6ef1",
   "metadata": {
    "execution": {
     "iopub.execute_input": "2023-02-21T06:35:51.033272Z",
     "iopub.status.busy": "2023-02-21T06:35:51.032473Z",
     "iopub.status.idle": "2023-02-21T06:35:51.373340Z",
     "shell.execute_reply": "2023-02-21T06:35:51.372055Z"
    },
    "papermill": {
     "duration": 0.35279,
     "end_time": "2023-02-21T06:35:51.376171",
     "exception": false,
     "start_time": "2023-02-21T06:35:51.023381",
     "status": "completed"
    },
    "tags": []
   },
   "outputs": [
    {
     "data": {
      "image/png": "[encoded data removed]",
      "text/plain": [
       "<Figure size 432x288 with 1 Axes>"
      ]
     },
     "metadata": {
      "needs_background": "light"
     },
     "output_type": "display_data"
    }
   ],
   "source": [
    "# experimenting with different n values\n",
    "k_range = list(range(1,26))\n",
    "scores = []\n",
    "for k in k_range:\n",
    "    knn = KNeighborsClassifier(n_neighbors=k)\n",
    "    knn.fit(X_train, y_train)\n",
    "    y_pred = knn.predict(X_test)\n",
    "    scores.append(metrics.accuracy_score(y_test, y_pred))\n",
    "    \n",
    "plt.plot(k_range, scores)\n",
    "plt.xlabel('Value of k for KNN')\n",
    "plt.ylabel('Accuracy Score')\n",
    "plt.title('Accuracy Scores for Values of k of k-Nearest-Neighbors')\n",
    "plt.show()"
   ]
  },
  {
   "cell_type": "code",
   "execution_count": 17,
   "id": "eb10adb7",
   "metadata": {
    "execution": {
     "iopub.execute_input": "2023-02-21T06:35:51.394794Z",
     "iopub.status.busy": "2023-02-21T06:35:51.394267Z",
     "iopub.status.idle": "2023-02-21T06:35:51.443954Z",
     "shell.execute_reply": "2023-02-21T06:35:51.443004Z"
    },
    "papermill": {
     "duration": 0.06227,
     "end_time": "2023-02-21T06:35:51.447003",
     "exception": false,
     "start_time": "2023-02-21T06:35:51.384733",
     "status": "completed"
    },
    "tags": []
   },
   "outputs": [
    {
     "name": "stdout",
     "output_type": "stream",
     "text": [
      "0.9666666666666667\n"
     ]
    },
    {
     "name": "stderr",
     "output_type": "stream",
     "text": [
      "/opt/conda/lib/python3.7/site-packages/sklearn/linear_model/_logistic.py:818: ConvergenceWarning: lbfgs failed to converge (status=1):\n",
      "STOP: TOTAL NO. of ITERATIONS REACHED LIMIT.\n",
      "\n",
      "Increase the number of iterations (max_iter) or scale the data as shown in:\n",
      "    https://scikit-learn.org/stable/modules/preprocessing.html\n",
      "Please also refer to the documentation for alternative solver options:\n",
      "    https://scikit-learn.org/stable/modules/linear_model.html#logistic-regression\n",
      "  extra_warning_msg=_LOGISTIC_SOLVER_CONVERGENCE_MSG,\n"
     ]
    }
   ],
   "source": [
    "logreg = LogisticRegression()\n",
    "logreg.fit(X_train, y_train)\n",
    "y_pred = logreg.predict(X_test)\n",
    "print(metrics.accuracy_score(y_test, y_pred))"
   ]
  },
  {
   "cell_type": "code",
   "execution_count": 18,
   "id": "459d3049",
   "metadata": {
    "execution": {
     "iopub.execute_input": "2023-02-21T06:35:51.466964Z",
     "iopub.status.busy": "2023-02-21T06:35:51.466478Z",
     "iopub.status.idle": "2023-02-21T06:35:51.482510Z",
     "shell.execute_reply": "2023-02-21T06:35:51.481194Z"
    },
    "papermill": {
     "duration": 0.028845,
     "end_time": "2023-02-21T06:35:51.485097",
     "exception": false,
     "start_time": "2023-02-21T06:35:51.456252",
     "status": "completed"
    },
    "tags": []
   },
   "outputs": [
    {
     "name": "stderr",
     "output_type": "stream",
     "text": [
      "/opt/conda/lib/python3.7/site-packages/sklearn/base.py:451: UserWarning: X does not have valid feature names, but KNeighborsClassifier was fitted with feature names\n",
      "  \"X does not have valid feature names, but\"\n"
     ]
    },
    {
     "data": {
      "text/plain": [
       "array(['Iris-versicolor'], dtype=object)"
      ]
     },
     "execution_count": 18,
     "metadata": {},
     "output_type": "execute_result"
    }
   ],
   "source": [
    "knn = KNeighborsClassifier(n_neighbors=7)\n",
    "knn.fit(X, y)\n",
    "\n",
    "# make a prediction for an example of an out-of-sample observation\n",
    "knn.predict([[6, 3, 4, 2]])"
   ]
  }
 ],
 "metadata": {
  "kernelspec": {
   "display_name": "Python 3",
   "language": "python",
   "name": "python3"
  },
  "language_info": {
   "codemirror_mode": {
    "name": "ipython",
    "version": 3
   },
   "file_extension": ".py",
   "mimetype": "text/x-python",
   "name": "python",
   "nbconvert_exporter": "python",
   "pygments_lexer": "ipython3",
   "version": "3.7.12"
  },
  "papermill": {
   "default_parameters": {},
   "duration": 15.218331,
   "end_time": "2023-02-21T06:35:52.317232",
   "environment_variables": {},
   "exception": null,
   "input_path": "__notebook__.ipynb",
   "output_path": "__notebook__.ipynb",
   "parameters": {},
   "start_time": "2023-02-21T06:35:37.098901",
   "version": "2.3.4"
  }
 },
 "nbformat": 4,
 "nbformat_minor": 5
}
