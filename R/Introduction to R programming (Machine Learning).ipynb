{
 "cells": [
  {
   "cell_type": "markdown",
   "id": "c8c8c218",
   "metadata": {
    "papermill": {
     "duration": 0.004503,
     "end_time": "2023-02-21T06:24:55.789868",
     "exception": false,
     "start_time": "2023-02-21T06:24:55.785365",
     "status": "completed"
    },
    "tags": []
   },
   "source": [
    "# Reading CSV file"
   ]
  },
  {
   "cell_type": "code",
   "execution_count": 1,
   "id": "e06a44f1",
   "metadata": {
    "execution": {
     "iopub.execute_input": "2023-02-21T06:24:55.800979Z",
     "iopub.status.busy": "2023-02-21T06:24:55.798907Z",
     "iopub.status.idle": "2023-02-21T06:24:56.000801Z",
     "shell.execute_reply": "2023-02-21T06:24:55.998537Z"
    },
    "papermill": {
     "duration": 0.211049,
     "end_time": "2023-02-21T06:24:56.004511",
     "exception": false,
     "start_time": "2023-02-21T06:24:55.793462",
     "status": "completed"
    },
    "tags": []
   },
   "outputs": [
    {
     "data": {
      "text/html": [
       "<table class=\"dataframe\">\n",
       "<caption>A data.frame: 5 × 28</caption>\n",
       "<thead>\n",
       "\t<tr><th></th><th scope=col>Passengerid</th><th scope=col>Age</th><th scope=col>Fare</th><th scope=col>Sex</th><th scope=col>sibsp</th><th scope=col>zero</th><th scope=col>zero.1</th><th scope=col>zero.2</th><th scope=col>zero.3</th><th scope=col>zero.4</th><th scope=col>⋯</th><th scope=col>zero.12</th><th scope=col>zero.13</th><th scope=col>zero.14</th><th scope=col>Pclass</th><th scope=col>zero.15</th><th scope=col>zero.16</th><th scope=col>Embarked</th><th scope=col>zero.17</th><th scope=col>zero.18</th><th scope=col>X2urvived</th></tr>\n",
       "\t<tr><th></th><th scope=col>&lt;int&gt;</th><th scope=col>&lt;dbl&gt;</th><th scope=col>&lt;dbl&gt;</th><th scope=col>&lt;int&gt;</th><th scope=col>&lt;int&gt;</th><th scope=col>&lt;int&gt;</th><th scope=col>&lt;int&gt;</th><th scope=col>&lt;int&gt;</th><th scope=col>&lt;int&gt;</th><th scope=col>&lt;int&gt;</th><th scope=col>⋯</th><th scope=col>&lt;int&gt;</th><th scope=col>&lt;int&gt;</th><th scope=col>&lt;int&gt;</th><th scope=col>&lt;int&gt;</th><th scope=col>&lt;int&gt;</th><th scope=col>&lt;int&gt;</th><th scope=col>&lt;int&gt;</th><th scope=col>&lt;int&gt;</th><th scope=col>&lt;int&gt;</th><th scope=col>&lt;int&gt;</th></tr>\n",
       "</thead>\n",
       "<tbody>\n",
       "\t<tr><th scope=row>1</th><td>1</td><td>22</td><td> 7.2500</td><td>0</td><td>1</td><td>0</td><td>0</td><td>0</td><td>0</td><td>0</td><td>⋯</td><td>0</td><td>0</td><td>0</td><td>3</td><td>0</td><td>0</td><td>2</td><td>0</td><td>0</td><td>0</td></tr>\n",
       "\t<tr><th scope=row>2</th><td>2</td><td>38</td><td>71.2833</td><td>1</td><td>1</td><td>0</td><td>0</td><td>0</td><td>0</td><td>0</td><td>⋯</td><td>0</td><td>0</td><td>0</td><td>1</td><td>0</td><td>0</td><td>0</td><td>0</td><td>0</td><td>1</td></tr>\n",
       "\t<tr><th scope=row>3</th><td>3</td><td>26</td><td> 7.9250</td><td>1</td><td>0</td><td>0</td><td>0</td><td>0</td><td>0</td><td>0</td><td>⋯</td><td>0</td><td>0</td><td>0</td><td>3</td><td>0</td><td>0</td><td>2</td><td>0</td><td>0</td><td>1</td></tr>\n",
       "\t<tr><th scope=row>4</th><td>4</td><td>35</td><td>53.1000</td><td>1</td><td>1</td><td>0</td><td>0</td><td>0</td><td>0</td><td>0</td><td>⋯</td><td>0</td><td>0</td><td>0</td><td>1</td><td>0</td><td>0</td><td>2</td><td>0</td><td>0</td><td>1</td></tr>\n",
       "\t<tr><th scope=row>5</th><td>5</td><td>35</td><td> 8.0500</td><td>0</td><td>0</td><td>0</td><td>0</td><td>0</td><td>0</td><td>0</td><td>⋯</td><td>0</td><td>0</td><td>0</td><td>3</td><td>0</td><td>0</td><td>2</td><td>0</td><td>0</td><td>0</td></tr>\n",
       "</tbody>\n",
       "</table>\n"
      ],
      "text/latex": [
       "A data.frame: 5 × 28\n",
       "\\begin{tabular}{r|lllllllllllllllllllll}\n",
       "  & Passengerid & Age & Fare & Sex & sibsp & zero & zero.1 & zero.2 & zero.3 & zero.4 & ⋯ & zero.12 & zero.13 & zero.14 & Pclass & zero.15 & zero.16 & Embarked & zero.17 & zero.18 & X2urvived\\\\\n",
       "  & <int> & <dbl> & <dbl> & <int> & <int> & <int> & <int> & <int> & <int> & <int> & ⋯ & <int> & <int> & <int> & <int> & <int> & <int> & <int> & <int> & <int> & <int>\\\\\n",
       "\\hline\n",
       "\t1 & 1 & 22 &  7.2500 & 0 & 1 & 0 & 0 & 0 & 0 & 0 & ⋯ & 0 & 0 & 0 & 3 & 0 & 0 & 2 & 0 & 0 & 0\\\\\n",
       "\t2 & 2 & 38 & 71.2833 & 1 & 1 & 0 & 0 & 0 & 0 & 0 & ⋯ & 0 & 0 & 0 & 1 & 0 & 0 & 0 & 0 & 0 & 1\\\\\n",
       "\t3 & 3 & 26 &  7.9250 & 1 & 0 & 0 & 0 & 0 & 0 & 0 & ⋯ & 0 & 0 & 0 & 3 & 0 & 0 & 2 & 0 & 0 & 1\\\\\n",
       "\t4 & 4 & 35 & 53.1000 & 1 & 1 & 0 & 0 & 0 & 0 & 0 & ⋯ & 0 & 0 & 0 & 1 & 0 & 0 & 2 & 0 & 0 & 1\\\\\n",
       "\t5 & 5 & 35 &  8.0500 & 0 & 0 & 0 & 0 & 0 & 0 & 0 & ⋯ & 0 & 0 & 0 & 3 & 0 & 0 & 2 & 0 & 0 & 0\\\\\n",
       "\\end{tabular}\n"
      ],
      "text/markdown": [
       "\n",
       "A data.frame: 5 × 28\n",
       "\n",
       "| <!--/--> | Passengerid &lt;int&gt; | Age &lt;dbl&gt; | Fare &lt;dbl&gt; | Sex &lt;int&gt; | sibsp &lt;int&gt; | zero &lt;int&gt; | zero.1 &lt;int&gt; | zero.2 &lt;int&gt; | zero.3 &lt;int&gt; | zero.4 &lt;int&gt; | ⋯ ⋯ | zero.12 &lt;int&gt; | zero.13 &lt;int&gt; | zero.14 &lt;int&gt; | Pclass &lt;int&gt; | zero.15 &lt;int&gt; | zero.16 &lt;int&gt; | Embarked &lt;int&gt; | zero.17 &lt;int&gt; | zero.18 &lt;int&gt; | X2urvived &lt;int&gt; |\n",
       "|---|---|---|---|---|---|---|---|---|---|---|---|---|---|---|---|---|---|---|---|---|---|\n",
       "| 1 | 1 | 22 |  7.2500 | 0 | 1 | 0 | 0 | 0 | 0 | 0 | ⋯ | 0 | 0 | 0 | 3 | 0 | 0 | 2 | 0 | 0 | 0 |\n",
       "| 2 | 2 | 38 | 71.2833 | 1 | 1 | 0 | 0 | 0 | 0 | 0 | ⋯ | 0 | 0 | 0 | 1 | 0 | 0 | 0 | 0 | 0 | 1 |\n",
       "| 3 | 3 | 26 |  7.9250 | 1 | 0 | 0 | 0 | 0 | 0 | 0 | ⋯ | 0 | 0 | 0 | 3 | 0 | 0 | 2 | 0 | 0 | 1 |\n",
       "| 4 | 4 | 35 | 53.1000 | 1 | 1 | 0 | 0 | 0 | 0 | 0 | ⋯ | 0 | 0 | 0 | 1 | 0 | 0 | 2 | 0 | 0 | 1 |\n",
       "| 5 | 5 | 35 |  8.0500 | 0 | 0 | 0 | 0 | 0 | 0 | 0 | ⋯ | 0 | 0 | 0 | 3 | 0 | 0 | 2 | 0 | 0 | 0 |\n",
       "\n"
      ],
      "text/plain": [
       "  Passengerid Age Fare    Sex sibsp zero zero.1 zero.2 zero.3 zero.4 ⋯ zero.12\n",
       "1 1           22   7.2500 0   1     0    0      0      0      0      ⋯ 0      \n",
       "2 2           38  71.2833 1   1     0    0      0      0      0      ⋯ 0      \n",
       "3 3           26   7.9250 1   0     0    0      0      0      0      ⋯ 0      \n",
       "4 4           35  53.1000 1   1     0    0      0      0      0      ⋯ 0      \n",
       "5 5           35   8.0500 0   0     0    0      0      0      0      ⋯ 0      \n",
       "  zero.13 zero.14 Pclass zero.15 zero.16 Embarked zero.17 zero.18 X2urvived\n",
       "1 0       0       3      0       0       2        0       0       0        \n",
       "2 0       0       1      0       0       0        0       0       1        \n",
       "3 0       0       3      0       0       2        0       0       1        \n",
       "4 0       0       1      0       0       2        0       0       1        \n",
       "5 0       0       3      0       0       2        0       0       0        "
      ]
     },
     "metadata": {},
     "output_type": "display_data"
    }
   ],
   "source": [
    "train_df=read.csv(\"/kaggle/input/titanic/train_and_test2.csv\")\n",
    "head(train_df,5)"
   ]
  },
  {
   "cell_type": "markdown",
   "id": "a9b81b3b",
   "metadata": {
    "papermill": {
     "duration": 0.003977,
     "end_time": "2023-02-21T06:24:56.012944",
     "exception": false,
     "start_time": "2023-02-21T06:24:56.008967",
     "status": "completed"
    },
    "tags": []
   },
   "source": [
    "# Remove unnecessary columns"
   ]
  },
  {
   "cell_type": "code",
   "execution_count": 2,
   "id": "440680b5",
   "metadata": {
    "execution": {
     "iopub.execute_input": "2023-02-21T06:24:56.059475Z",
     "iopub.status.busy": "2023-02-21T06:24:56.023069Z",
     "iopub.status.idle": "2023-02-21T06:24:56.098904Z",
     "shell.execute_reply": "2023-02-21T06:24:56.096281Z"
    },
    "papermill": {
     "duration": 0.084259,
     "end_time": "2023-02-21T06:24:56.101639",
     "exception": false,
     "start_time": "2023-02-21T06:24:56.017380",
     "status": "completed"
    },
    "tags": []
   },
   "outputs": [
    {
     "data": {
      "text/html": [
       "<table class=\"dataframe\">\n",
       "<caption>A data.frame: 6 × 9</caption>\n",
       "<thead>\n",
       "\t<tr><th></th><th scope=col>Passengerid</th><th scope=col>Age</th><th scope=col>Fare</th><th scope=col>Sex</th><th scope=col>sibsp</th><th scope=col>Parch</th><th scope=col>Pclass</th><th scope=col>Embarked</th><th scope=col>X2urvived</th></tr>\n",
       "\t<tr><th></th><th scope=col>&lt;int&gt;</th><th scope=col>&lt;dbl&gt;</th><th scope=col>&lt;dbl&gt;</th><th scope=col>&lt;int&gt;</th><th scope=col>&lt;int&gt;</th><th scope=col>&lt;int&gt;</th><th scope=col>&lt;int&gt;</th><th scope=col>&lt;int&gt;</th><th scope=col>&lt;int&gt;</th></tr>\n",
       "</thead>\n",
       "<tbody>\n",
       "\t<tr><th scope=row>1</th><td>1</td><td>22</td><td> 7.2500</td><td>0</td><td>1</td><td>0</td><td>3</td><td>2</td><td>0</td></tr>\n",
       "\t<tr><th scope=row>2</th><td>2</td><td>38</td><td>71.2833</td><td>1</td><td>1</td><td>0</td><td>1</td><td>0</td><td>1</td></tr>\n",
       "\t<tr><th scope=row>3</th><td>3</td><td>26</td><td> 7.9250</td><td>1</td><td>0</td><td>0</td><td>3</td><td>2</td><td>1</td></tr>\n",
       "\t<tr><th scope=row>4</th><td>4</td><td>35</td><td>53.1000</td><td>1</td><td>1</td><td>0</td><td>1</td><td>2</td><td>1</td></tr>\n",
       "\t<tr><th scope=row>5</th><td>5</td><td>35</td><td> 8.0500</td><td>0</td><td>0</td><td>0</td><td>3</td><td>2</td><td>0</td></tr>\n",
       "\t<tr><th scope=row>6</th><td>6</td><td>28</td><td> 8.4583</td><td>0</td><td>0</td><td>0</td><td>3</td><td>1</td><td>0</td></tr>\n",
       "</tbody>\n",
       "</table>\n"
      ],
      "text/latex": [
       "A data.frame: 6 × 9\n",
       "\\begin{tabular}{r|lllllllll}\n",
       "  & Passengerid & Age & Fare & Sex & sibsp & Parch & Pclass & Embarked & X2urvived\\\\\n",
       "  & <int> & <dbl> & <dbl> & <int> & <int> & <int> & <int> & <int> & <int>\\\\\n",
       "\\hline\n",
       "\t1 & 1 & 22 &  7.2500 & 0 & 1 & 0 & 3 & 2 & 0\\\\\n",
       "\t2 & 2 & 38 & 71.2833 & 1 & 1 & 0 & 1 & 0 & 1\\\\\n",
       "\t3 & 3 & 26 &  7.9250 & 1 & 0 & 0 & 3 & 2 & 1\\\\\n",
       "\t4 & 4 & 35 & 53.1000 & 1 & 1 & 0 & 1 & 2 & 1\\\\\n",
       "\t5 & 5 & 35 &  8.0500 & 0 & 0 & 0 & 3 & 2 & 0\\\\\n",
       "\t6 & 6 & 28 &  8.4583 & 0 & 0 & 0 & 3 & 1 & 0\\\\\n",
       "\\end{tabular}\n"
      ],
      "text/markdown": [
       "\n",
       "A data.frame: 6 × 9\n",
       "\n",
       "| <!--/--> | Passengerid &lt;int&gt; | Age &lt;dbl&gt; | Fare &lt;dbl&gt; | Sex &lt;int&gt; | sibsp &lt;int&gt; | Parch &lt;int&gt; | Pclass &lt;int&gt; | Embarked &lt;int&gt; | X2urvived &lt;int&gt; |\n",
       "|---|---|---|---|---|---|---|---|---|---|\n",
       "| 1 | 1 | 22 |  7.2500 | 0 | 1 | 0 | 3 | 2 | 0 |\n",
       "| 2 | 2 | 38 | 71.2833 | 1 | 1 | 0 | 1 | 0 | 1 |\n",
       "| 3 | 3 | 26 |  7.9250 | 1 | 0 | 0 | 3 | 2 | 1 |\n",
       "| 4 | 4 | 35 | 53.1000 | 1 | 1 | 0 | 1 | 2 | 1 |\n",
       "| 5 | 5 | 35 |  8.0500 | 0 | 0 | 0 | 3 | 2 | 0 |\n",
       "| 6 | 6 | 28 |  8.4583 | 0 | 0 | 0 | 3 | 1 | 0 |\n",
       "\n"
      ],
      "text/plain": [
       "  Passengerid Age Fare    Sex sibsp Parch Pclass Embarked X2urvived\n",
       "1 1           22   7.2500 0   1     0     3      2        0        \n",
       "2 2           38  71.2833 1   1     0     1      0        1        \n",
       "3 3           26   7.9250 1   0     0     3      2        1        \n",
       "4 4           35  53.1000 1   1     0     1      2        1        \n",
       "5 5           35   8.0500 0   0     0     3      2        0        \n",
       "6 6           28   8.4583 0   0     0     3      1        0        "
      ]
     },
     "metadata": {},
     "output_type": "display_data"
    }
   ],
   "source": [
    "# Here we have many columns starting with the string \"zero\", so removing all that using string matching\n",
    "cols=colnames(train_df)\n",
    "lst=grep('zero', cols)\n",
    "df <- train_df[ , -lst ]\n",
    "head(df)"
   ]
  },
  {
   "cell_type": "markdown",
   "id": "dfb303a6",
   "metadata": {
    "papermill": {
     "duration": 0.004306,
     "end_time": "2023-02-21T06:24:56.110219",
     "exception": false,
     "start_time": "2023-02-21T06:24:56.105913",
     "status": "completed"
    },
    "tags": []
   },
   "source": [
    "# Data Analysis"
   ]
  },
  {
   "cell_type": "code",
   "execution_count": 3,
   "id": "cc7c4ab5",
   "metadata": {
    "execution": {
     "iopub.execute_input": "2023-02-21T06:24:56.121889Z",
     "iopub.status.busy": "2023-02-21T06:24:56.120292Z",
     "iopub.status.idle": "2023-02-21T06:24:56.148938Z",
     "shell.execute_reply": "2023-02-21T06:24:56.147104Z"
    },
    "papermill": {
     "duration": 0.037249,
     "end_time": "2023-02-21T06:24:56.151688",
     "exception": false,
     "start_time": "2023-02-21T06:24:56.114439",
     "status": "completed"
    },
    "tags": []
   },
   "outputs": [
    {
     "data": {
      "text/plain": [
       "  Passengerid        Age             Fare              Sex       \n",
       " Min.   :   1   Min.   : 0.17   Min.   :  0.000   Min.   :0.000  \n",
       " 1st Qu.: 328   1st Qu.:22.00   1st Qu.:  7.896   1st Qu.:0.000  \n",
       " Median : 655   Median :28.00   Median : 14.454   Median :0.000  \n",
       " Mean   : 655   Mean   :29.50   Mean   : 33.281   Mean   :0.356  \n",
       " 3rd Qu.: 982   3rd Qu.:35.00   3rd Qu.: 31.275   3rd Qu.:1.000  \n",
       " Max.   :1309   Max.   :80.00   Max.   :512.329   Max.   :1.000  \n",
       "                                                                 \n",
       "     sibsp            Parch           Pclass         Embarked    \n",
       " Min.   :0.0000   Min.   :0.000   Min.   :1.000   Min.   :0.000  \n",
       " 1st Qu.:0.0000   1st Qu.:0.000   1st Qu.:2.000   1st Qu.:1.000  \n",
       " Median :0.0000   Median :0.000   Median :3.000   Median :2.000  \n",
       " Mean   :0.4989   Mean   :0.385   Mean   :2.295   Mean   :1.493  \n",
       " 3rd Qu.:1.0000   3rd Qu.:0.000   3rd Qu.:3.000   3rd Qu.:2.000  \n",
       " Max.   :8.0000   Max.   :9.000   Max.   :3.000   Max.   :2.000  \n",
       "                                                  NA's   :2      \n",
       "   X2urvived     \n",
       " Min.   :0.0000  \n",
       " 1st Qu.:0.0000  \n",
       " Median :0.0000  \n",
       " Mean   :0.2613  \n",
       " 3rd Qu.:1.0000  \n",
       " Max.   :1.0000  \n",
       "                 "
      ]
     },
     "metadata": {},
     "output_type": "display_data"
    }
   ],
   "source": [
    "summary(df)"
   ]
  },
  {
   "cell_type": "markdown",
   "id": "b16b369c",
   "metadata": {
    "papermill": {
     "duration": 0.004161,
     "end_time": "2023-02-21T06:24:56.160251",
     "exception": false,
     "start_time": "2023-02-21T06:24:56.156090",
     "status": "completed"
    },
    "tags": []
   },
   "source": [
    "# Data manipulation in R"
   ]
  },
  {
   "cell_type": "code",
   "execution_count": 4,
   "id": "bb692c11",
   "metadata": {
    "execution": {
     "iopub.execute_input": "2023-02-21T06:24:56.171962Z",
     "iopub.status.busy": "2023-02-21T06:24:56.170410Z",
     "iopub.status.idle": "2023-02-21T06:24:56.189165Z",
     "shell.execute_reply": "2023-02-21T06:24:56.187321Z"
    },
    "papermill": {
     "duration": 0.027138,
     "end_time": "2023-02-21T06:24:56.191656",
     "exception": false,
     "start_time": "2023-02-21T06:24:56.164518",
     "status": "completed"
    },
    "tags": []
   },
   "outputs": [
    {
     "data": {
      "text/html": [
       "7.25"
      ],
      "text/latex": [
       "7.25"
      ],
      "text/markdown": [
       "7.25"
      ],
      "text/plain": [
       "[1] 7.25"
      ]
     },
     "metadata": {},
     "output_type": "display_data"
    }
   ],
   "source": [
    "# To access a column value df$col[i]\n",
    "df$Fare[1]"
   ]
  },
  {
   "cell_type": "code",
   "execution_count": 5,
   "id": "568e9221",
   "metadata": {
    "execution": {
     "iopub.execute_input": "2023-02-21T06:24:56.203854Z",
     "iopub.status.busy": "2023-02-21T06:24:56.202219Z",
     "iopub.status.idle": "2023-02-21T06:24:56.221046Z",
     "shell.execute_reply": "2023-02-21T06:24:56.218485Z"
    },
    "papermill": {
     "duration": 0.028241,
     "end_time": "2023-02-21T06:24:56.224198",
     "exception": false,
     "start_time": "2023-02-21T06:24:56.195957",
     "status": "completed"
    },
    "tags": []
   },
   "outputs": [
    {
     "name": "stdout",
     "output_type": "stream",
     "text": [
      "[1] 10\n"
     ]
    }
   ],
   "source": [
    "# to initialize a variable\n",
    "\n",
    "x<-10\n",
    "print(x)"
   ]
  },
  {
   "cell_type": "markdown",
   "id": "1f0788a5",
   "metadata": {
    "papermill": {
     "duration": 0.004261,
     "end_time": "2023-02-21T06:24:56.233058",
     "exception": false,
     "start_time": "2023-02-21T06:24:56.228797",
     "status": "completed"
    },
    "tags": []
   },
   "source": [
    "# Model implementation"
   ]
  },
  {
   "cell_type": "code",
   "execution_count": 6,
   "id": "8b5ded83",
   "metadata": {
    "execution": {
     "iopub.execute_input": "2023-02-21T06:24:56.245310Z",
     "iopub.status.busy": "2023-02-21T06:24:56.243569Z",
     "iopub.status.idle": "2023-02-21T06:24:56.360023Z",
     "shell.execute_reply": "2023-02-21T06:24:56.358198Z"
    },
    "papermill": {
     "duration": 0.125943,
     "end_time": "2023-02-21T06:24:56.363353",
     "exception": false,
     "start_time": "2023-02-21T06:24:56.237410",
     "status": "completed"
    },
    "tags": []
   },
   "outputs": [
    {
     "name": "stderr",
     "output_type": "stream",
     "text": [
      "\n",
      "Attaching package: ‘dplyr’\n",
      "\n",
      "\n",
      "The following objects are masked from ‘package:stats’:\n",
      "\n",
      "    filter, lag\n",
      "\n",
      "\n",
      "The following objects are masked from ‘package:base’:\n",
      "\n",
      "    intersect, setdiff, setequal, union\n",
      "\n",
      "\n"
     ]
    },
    {
     "data": {
      "text/html": [
       "<table class=\"dataframe\">\n",
       "<caption>A data.frame: 6 × 8</caption>\n",
       "<thead>\n",
       "\t<tr><th></th><th scope=col>Age</th><th scope=col>Fare</th><th scope=col>Sex</th><th scope=col>sibsp</th><th scope=col>Parch</th><th scope=col>Pclass</th><th scope=col>Embarked</th><th scope=col>X2urvived</th></tr>\n",
       "\t<tr><th></th><th scope=col>&lt;dbl&gt;</th><th scope=col>&lt;dbl&gt;</th><th scope=col>&lt;int&gt;</th><th scope=col>&lt;int&gt;</th><th scope=col>&lt;int&gt;</th><th scope=col>&lt;int&gt;</th><th scope=col>&lt;int&gt;</th><th scope=col>&lt;int&gt;</th></tr>\n",
       "</thead>\n",
       "<tbody>\n",
       "\t<tr><th scope=row>1</th><td>22</td><td> 7.2500</td><td>0</td><td>1</td><td>0</td><td>3</td><td>2</td><td>0</td></tr>\n",
       "\t<tr><th scope=row>2</th><td>38</td><td>71.2833</td><td>1</td><td>1</td><td>0</td><td>1</td><td>0</td><td>1</td></tr>\n",
       "\t<tr><th scope=row>3</th><td>26</td><td> 7.9250</td><td>1</td><td>0</td><td>0</td><td>3</td><td>2</td><td>1</td></tr>\n",
       "\t<tr><th scope=row>4</th><td>35</td><td>53.1000</td><td>1</td><td>1</td><td>0</td><td>1</td><td>2</td><td>1</td></tr>\n",
       "\t<tr><th scope=row>5</th><td>35</td><td> 8.0500</td><td>0</td><td>0</td><td>0</td><td>3</td><td>2</td><td>0</td></tr>\n",
       "\t<tr><th scope=row>6</th><td>28</td><td> 8.4583</td><td>0</td><td>0</td><td>0</td><td>3</td><td>1</td><td>0</td></tr>\n",
       "</tbody>\n",
       "</table>\n"
      ],
      "text/latex": [
       "A data.frame: 6 × 8\n",
       "\\begin{tabular}{r|llllllll}\n",
       "  & Age & Fare & Sex & sibsp & Parch & Pclass & Embarked & X2urvived\\\\\n",
       "  & <dbl> & <dbl> & <int> & <int> & <int> & <int> & <int> & <int>\\\\\n",
       "\\hline\n",
       "\t1 & 22 &  7.2500 & 0 & 1 & 0 & 3 & 2 & 0\\\\\n",
       "\t2 & 38 & 71.2833 & 1 & 1 & 0 & 1 & 0 & 1\\\\\n",
       "\t3 & 26 &  7.9250 & 1 & 0 & 0 & 3 & 2 & 1\\\\\n",
       "\t4 & 35 & 53.1000 & 1 & 1 & 0 & 1 & 2 & 1\\\\\n",
       "\t5 & 35 &  8.0500 & 0 & 0 & 0 & 3 & 2 & 0\\\\\n",
       "\t6 & 28 &  8.4583 & 0 & 0 & 0 & 3 & 1 & 0\\\\\n",
       "\\end{tabular}\n"
      ],
      "text/markdown": [
       "\n",
       "A data.frame: 6 × 8\n",
       "\n",
       "| <!--/--> | Age &lt;dbl&gt; | Fare &lt;dbl&gt; | Sex &lt;int&gt; | sibsp &lt;int&gt; | Parch &lt;int&gt; | Pclass &lt;int&gt; | Embarked &lt;int&gt; | X2urvived &lt;int&gt; |\n",
       "|---|---|---|---|---|---|---|---|---|\n",
       "| 1 | 22 |  7.2500 | 0 | 1 | 0 | 3 | 2 | 0 |\n",
       "| 2 | 38 | 71.2833 | 1 | 1 | 0 | 1 | 0 | 1 |\n",
       "| 3 | 26 |  7.9250 | 1 | 0 | 0 | 3 | 2 | 1 |\n",
       "| 4 | 35 | 53.1000 | 1 | 1 | 0 | 1 | 2 | 1 |\n",
       "| 5 | 35 |  8.0500 | 0 | 0 | 0 | 3 | 2 | 0 |\n",
       "| 6 | 28 |  8.4583 | 0 | 0 | 0 | 3 | 1 | 0 |\n",
       "\n"
      ],
      "text/plain": [
       "  Age Fare    Sex sibsp Parch Pclass Embarked X2urvived\n",
       "1 22   7.2500 0   1     0     3      2        0        \n",
       "2 38  71.2833 1   1     0     1      0        1        \n",
       "3 26   7.9250 1   0     0     3      2        1        \n",
       "4 35  53.1000 1   1     0     1      2        1        \n",
       "5 35   8.0500 0   0     0     3      2        0        \n",
       "6 28   8.4583 0   0     0     3      1        0        "
      ]
     },
     "metadata": {},
     "output_type": "display_data"
    }
   ],
   "source": [
    "# Let's use a decision tree\n",
    "library(dplyr)\n",
    "df<- select (df,-c(Passengerid)) # removing column Id\n",
    "head(df)"
   ]
  },
  {
   "cell_type": "code",
   "execution_count": 7,
   "id": "d3107b37",
   "metadata": {
    "execution": {
     "iopub.execute_input": "2023-02-21T06:24:56.377120Z",
     "iopub.status.busy": "2023-02-21T06:24:56.375295Z",
     "iopub.status.idle": "2023-02-21T06:24:56.443308Z",
     "shell.execute_reply": "2023-02-21T06:24:56.441251Z"
    },
    "papermill": {
     "duration": 0.120381,
     "end_time": "2023-02-21T06:24:56.488716",
     "exception": false,
     "start_time": "2023-02-21T06:24:56.368335",
     "status": "completed"
    },
    "tags": []
   },
   "outputs": [],
   "source": [
    "library(caTools) #for .split() function\n",
    "\n",
    "sample_data = sample.split(df, SplitRatio = 0.8)\n",
    "train_data <- subset(df, sample_data == TRUE)\n",
    "test_data <- subset(df, sample_data == FALSE)"
   ]
  },
  {
   "cell_type": "code",
   "execution_count": 8,
   "id": "1fcc246f",
   "metadata": {
    "execution": {
     "iopub.execute_input": "2023-02-21T06:24:56.502662Z",
     "iopub.status.busy": "2023-02-21T06:24:56.500922Z",
     "iopub.status.idle": "2023-02-21T06:24:59.118992Z",
     "shell.execute_reply": "2023-02-21T06:24:59.115596Z"
    },
    "papermill": {
     "duration": 2.628931,
     "end_time": "2023-02-21T06:24:59.122837",
     "exception": false,
     "start_time": "2023-02-21T06:24:56.493906",
     "status": "completed"
    },
    "tags": []
   },
   "outputs": [
    {
     "name": "stderr",
     "output_type": "stream",
     "text": [
      "Loading required package: grid\n",
      "\n",
      "Loading required package: mvtnorm\n",
      "\n",
      "Loading required package: modeltools\n",
      "\n",
      "Loading required package: stats4\n",
      "\n",
      "Loading required package: strucchange\n",
      "\n",
      "Loading required package: zoo\n",
      "\n",
      "\n",
      "Attaching package: ‘zoo’\n",
      "\n",
      "\n",
      "The following objects are masked from ‘package:base’:\n",
      "\n",
      "    as.Date, as.Date.numeric\n",
      "\n",
      "\n",
      "Loading required package: sandwich\n",
      "\n"
     ]
    },
    {
     "data": {
      "image/png": "[encoded data removed]"
     },
     "metadata": {
      "image/png": {
       "height": 420,
       "width": 420
      }
     },
     "output_type": "display_data"
    }
   ],
   "source": [
    "library(party) # for ctree\n",
    "\n",
    "model<- ctree(X2urvived ~ ., train_data)\n",
    "plot(model)"
   ]
  },
  {
   "cell_type": "markdown",
   "id": "e6fa0805",
   "metadata": {
    "papermill": {
     "duration": 0.0065,
     "end_time": "2023-02-21T06:24:59.136161",
     "exception": false,
     "start_time": "2023-02-21T06:24:59.129661",
     "status": "completed"
    },
    "tags": []
   },
   "source": [
    "# Prediction"
   ]
  },
  {
   "cell_type": "code",
   "execution_count": 9,
   "id": "f69516eb",
   "metadata": {
    "execution": {
     "iopub.execute_input": "2023-02-21T06:24:59.152672Z",
     "iopub.status.busy": "2023-02-21T06:24:59.150999Z",
     "iopub.status.idle": "2023-02-21T06:24:59.179495Z",
     "shell.execute_reply": "2023-02-21T06:24:59.177290Z"
    },
    "papermill": {
     "duration": 0.040119,
     "end_time": "2023-02-21T06:24:59.182803",
     "exception": false,
     "start_time": "2023-02-21T06:24:59.142684",
     "status": "completed"
    },
    "tags": []
   },
   "outputs": [
    {
     "data": {
      "text/plain": [
       "   \n",
       "      0   1\n",
       "  0 221  25\n",
       "  1  45  36"
      ]
     },
     "metadata": {},
     "output_type": "display_data"
    }
   ],
   "source": [
    "# actual v/s predicted values\n",
    "predict_model<-predict(model , test_data)\n",
    "m_at <- table(test_data$X2urvived, round(predict_model))\n",
    "m_at"
   ]
  },
  {
   "cell_type": "code",
   "execution_count": 10,
   "id": "98a9098f",
   "metadata": {
    "execution": {
     "iopub.execute_input": "2023-02-21T06:24:59.199586Z",
     "iopub.status.busy": "2023-02-21T06:24:59.197986Z",
     "iopub.status.idle": "2023-02-21T06:24:59.217976Z",
     "shell.execute_reply": "2023-02-21T06:24:59.215573Z"
    },
    "papermill": {
     "duration": 0.03168,
     "end_time": "2023-02-21T06:24:59.221156",
     "exception": false,
     "start_time": "2023-02-21T06:24:59.189476",
     "status": "completed"
    },
    "tags": []
   },
   "outputs": [
    {
     "name": "stdout",
     "output_type": "stream",
     "text": [
      "[1] \"Accuracy for test is found to be 78.5932721712538\"\n"
     ]
    }
   ],
   "source": [
    "ac_Test <- (sum(diag(m_at)) / sum(m_at)) * 100\n",
    "print(paste('Accuracy for test is found to be', ac_Test))"
   ]
  }
 ],
 "metadata": {
  "kernelspec": {
   "display_name": "R",
   "language": "R",
   "name": "ir"
  },
  "language_info": {
   "codemirror_mode": "r",
   "file_extension": ".r",
   "mimetype": "text/x-r-source",
   "name": "R",
   "pygments_lexer": "r",
   "version": "4.0.5"
  },
  "papermill": {
   "default_parameters": {},
   "duration": 7.272643,
   "end_time": "2023-02-21T06:24:59.350323",
   "environment_variables": {},
   "exception": null,
   "input_path": "__notebook__.ipynb",
   "output_path": "__notebook__.ipynb",
   "parameters": {},
   "start_time": "2023-02-21T06:24:52.077680",
   "version": "2.4.0"
  }
 },
 "nbformat": 4,
 "nbformat_minor": 5
}
