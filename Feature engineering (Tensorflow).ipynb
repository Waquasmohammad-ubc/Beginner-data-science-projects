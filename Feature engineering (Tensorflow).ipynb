{
 "cells": [
  {
   "cell_type": "markdown",
   "id": "e8c22921",
   "metadata": {
    "papermill": {
     "duration": 0.008981,
     "end_time": "2023-03-06T08:28:22.281034",
     "exception": false,
     "start_time": "2023-03-06T08:28:22.272053",
     "status": "completed"
    },
    "tags": []
   },
   "source": [
    "This is a **beginner's** notebook to understand the tensorflow pipeline and feature engineering on tensorflow"
   ]
  },
  {
   "cell_type": "markdown",
   "id": "822b6baf",
   "metadata": {
    "papermill": {
     "duration": 0.006759,
     "end_time": "2023-03-06T08:28:22.295010",
     "exception": false,
     "start_time": "2023-03-06T08:28:22.288251",
     "status": "completed"
    },
    "tags": []
   },
   "source": [
    "# Import Libraries and dataset"
   ]
  },
  {
   "cell_type": "code",
   "execution_count": 1,
   "id": "cf56a925",
   "metadata": {
    "execution": {
     "iopub.execute_input": "2023-03-06T08:28:22.311146Z",
     "iopub.status.busy": "2023-03-06T08:28:22.310702Z",
     "iopub.status.idle": "2023-03-06T08:28:33.420650Z",
     "shell.execute_reply": "2023-03-06T08:28:33.418775Z"
    },
    "papermill": {
     "duration": 11.121935,
     "end_time": "2023-03-06T08:28:33.424008",
     "exception": false,
     "start_time": "2023-03-06T08:28:22.302073",
     "status": "completed"
    },
    "tags": []
   },
   "outputs": [],
   "source": [
    "import numpy as np\n",
    "import pandas as pd\n",
    "\n",
    "import tensorflow as tf\n",
    "\n",
    "from tensorflow import feature_column\n",
    "from tensorflow.keras import layers\n",
    "from sklearn.model_selection import train_test_split"
   ]
  },
  {
   "cell_type": "code",
   "execution_count": 2,
   "id": "8798cbf1",
   "metadata": {
    "execution": {
     "iopub.execute_input": "2023-03-06T08:28:33.440870Z",
     "iopub.status.busy": "2023-03-06T08:28:33.439971Z",
     "iopub.status.idle": "2023-03-06T08:28:33.680517Z",
     "shell.execute_reply": "2023-03-06T08:28:33.679039Z"
    },
    "papermill": {
     "duration": 0.252021,
     "end_time": "2023-03-06T08:28:33.683227",
     "exception": false,
     "start_time": "2023-03-06T08:28:33.431206",
     "status": "completed"
    },
    "tags": []
   },
   "outputs": [
    {
     "data": {
      "text/html": [
       "<div>\n",
       "<style scoped>\n",
       "    .dataframe tbody tr th:only-of-type {\n",
       "        vertical-align: middle;\n",
       "    }\n",
       "\n",
       "    .dataframe tbody tr th {\n",
       "        vertical-align: top;\n",
       "    }\n",
       "\n",
       "    .dataframe thead th {\n",
       "        text-align: right;\n",
       "    }\n",
       "</style>\n",
       "<table border=\"1\" class=\"dataframe\">\n",
       "  <thead>\n",
       "    <tr style=\"text-align: right;\">\n",
       "      <th></th>\n",
       "      <th>Type</th>\n",
       "      <th>Age</th>\n",
       "      <th>Breed1</th>\n",
       "      <th>Gender</th>\n",
       "      <th>Color1</th>\n",
       "      <th>Color2</th>\n",
       "      <th>MaturitySize</th>\n",
       "      <th>FurLength</th>\n",
       "      <th>Vaccinated</th>\n",
       "      <th>Sterilized</th>\n",
       "      <th>Health</th>\n",
       "      <th>Fee</th>\n",
       "      <th>Description</th>\n",
       "      <th>PhotoAmt</th>\n",
       "      <th>AdoptionSpeed</th>\n",
       "    </tr>\n",
       "  </thead>\n",
       "  <tbody>\n",
       "    <tr>\n",
       "      <th>0</th>\n",
       "      <td>Cat</td>\n",
       "      <td>3</td>\n",
       "      <td>Tabby</td>\n",
       "      <td>Male</td>\n",
       "      <td>Black</td>\n",
       "      <td>White</td>\n",
       "      <td>Small</td>\n",
       "      <td>Short</td>\n",
       "      <td>No</td>\n",
       "      <td>No</td>\n",
       "      <td>Healthy</td>\n",
       "      <td>100</td>\n",
       "      <td>Nibble is a 3+ month old ball of cuteness. He ...</td>\n",
       "      <td>1</td>\n",
       "      <td>2</td>\n",
       "    </tr>\n",
       "    <tr>\n",
       "      <th>1</th>\n",
       "      <td>Cat</td>\n",
       "      <td>1</td>\n",
       "      <td>Domestic Medium Hair</td>\n",
       "      <td>Male</td>\n",
       "      <td>Black</td>\n",
       "      <td>Brown</td>\n",
       "      <td>Medium</td>\n",
       "      <td>Medium</td>\n",
       "      <td>Not Sure</td>\n",
       "      <td>Not Sure</td>\n",
       "      <td>Healthy</td>\n",
       "      <td>0</td>\n",
       "      <td>I just found it alone yesterday near my apartm...</td>\n",
       "      <td>2</td>\n",
       "      <td>0</td>\n",
       "    </tr>\n",
       "    <tr>\n",
       "      <th>2</th>\n",
       "      <td>Dog</td>\n",
       "      <td>1</td>\n",
       "      <td>Mixed Breed</td>\n",
       "      <td>Male</td>\n",
       "      <td>Brown</td>\n",
       "      <td>White</td>\n",
       "      <td>Medium</td>\n",
       "      <td>Medium</td>\n",
       "      <td>Yes</td>\n",
       "      <td>No</td>\n",
       "      <td>Healthy</td>\n",
       "      <td>0</td>\n",
       "      <td>Their pregnant mother was dumped by her irresp...</td>\n",
       "      <td>7</td>\n",
       "      <td>3</td>\n",
       "    </tr>\n",
       "    <tr>\n",
       "      <th>3</th>\n",
       "      <td>Dog</td>\n",
       "      <td>4</td>\n",
       "      <td>Mixed Breed</td>\n",
       "      <td>Female</td>\n",
       "      <td>Black</td>\n",
       "      <td>Brown</td>\n",
       "      <td>Medium</td>\n",
       "      <td>Short</td>\n",
       "      <td>Yes</td>\n",
       "      <td>No</td>\n",
       "      <td>Healthy</td>\n",
       "      <td>150</td>\n",
       "      <td>Good guard dog, very alert, active, obedience ...</td>\n",
       "      <td>8</td>\n",
       "      <td>2</td>\n",
       "    </tr>\n",
       "    <tr>\n",
       "      <th>4</th>\n",
       "      <td>Dog</td>\n",
       "      <td>1</td>\n",
       "      <td>Mixed Breed</td>\n",
       "      <td>Male</td>\n",
       "      <td>Black</td>\n",
       "      <td>No Color</td>\n",
       "      <td>Medium</td>\n",
       "      <td>Short</td>\n",
       "      <td>No</td>\n",
       "      <td>No</td>\n",
       "      <td>Healthy</td>\n",
       "      <td>0</td>\n",
       "      <td>This handsome yet cute boy is up for adoption....</td>\n",
       "      <td>3</td>\n",
       "      <td>2</td>\n",
       "    </tr>\n",
       "  </tbody>\n",
       "</table>\n",
       "</div>"
      ],
      "text/plain": [
       "  Type  Age                Breed1  Gender Color1    Color2 MaturitySize  \\\n",
       "0  Cat    3                 Tabby    Male  Black     White        Small   \n",
       "1  Cat    1  Domestic Medium Hair    Male  Black     Brown       Medium   \n",
       "2  Dog    1           Mixed Breed    Male  Brown     White       Medium   \n",
       "3  Dog    4           Mixed Breed  Female  Black     Brown       Medium   \n",
       "4  Dog    1           Mixed Breed    Male  Black  No Color       Medium   \n",
       "\n",
       "  FurLength Vaccinated Sterilized   Health  Fee  \\\n",
       "0     Short         No         No  Healthy  100   \n",
       "1    Medium   Not Sure   Not Sure  Healthy    0   \n",
       "2    Medium        Yes         No  Healthy    0   \n",
       "3     Short        Yes         No  Healthy  150   \n",
       "4     Short         No         No  Healthy    0   \n",
       "\n",
       "                                         Description  PhotoAmt  AdoptionSpeed  \n",
       "0  Nibble is a 3+ month old ball of cuteness. He ...         1              2  \n",
       "1  I just found it alone yesterday near my apartm...         2              0  \n",
       "2  Their pregnant mother was dumped by her irresp...         7              3  \n",
       "3  Good guard dog, very alert, active, obedience ...         8              2  \n",
       "4  This handsome yet cute boy is up for adoption....         3              2  "
      ]
     },
     "execution_count": 2,
     "metadata": {},
     "output_type": "execute_result"
    }
   ],
   "source": [
    "df=pd.read_csv(\"/kaggle/input/pet-finder/petfinder-mini.csv\")\n",
    "df.head()"
   ]
  },
  {
   "cell_type": "markdown",
   "id": "e4163d38",
   "metadata": {
    "papermill": {
     "duration": 0.006978,
     "end_time": "2023-03-06T08:28:33.697722",
     "exception": false,
     "start_time": "2023-03-06T08:28:33.690744",
     "status": "completed"
    },
    "tags": []
   },
   "source": [
    "# Exploratory Data Analysis"
   ]
  },
  {
   "cell_type": "code",
   "execution_count": 3,
   "id": "5d58c720",
   "metadata": {
    "execution": {
     "iopub.execute_input": "2023-03-06T08:28:33.715326Z",
     "iopub.status.busy": "2023-03-06T08:28:33.714039Z",
     "iopub.status.idle": "2023-03-06T08:28:33.746477Z",
     "shell.execute_reply": "2023-03-06T08:28:33.745100Z"
    },
    "papermill": {
     "duration": 0.044514,
     "end_time": "2023-03-06T08:28:33.749706",
     "exception": false,
     "start_time": "2023-03-06T08:28:33.705192",
     "status": "completed"
    },
    "tags": []
   },
   "outputs": [
    {
     "data": {
      "text/plain": [
       "Type                 2\n",
       "Age                105\n",
       "Breed1             166\n",
       "Gender               2\n",
       "Color1               7\n",
       "Color2               7\n",
       "MaturitySize         3\n",
       "FurLength            3\n",
       "Vaccinated           3\n",
       "Sterilized           3\n",
       "Health               3\n",
       "Fee                 65\n",
       "Description      10691\n",
       "PhotoAmt            31\n",
       "AdoptionSpeed        5\n",
       "dtype: int64"
      ]
     },
     "execution_count": 3,
     "metadata": {},
     "output_type": "execute_result"
    }
   ],
   "source": [
    "df.nunique()"
   ]
  },
  {
   "cell_type": "code",
   "execution_count": 4,
   "id": "80822df1",
   "metadata": {
    "execution": {
     "iopub.execute_input": "2023-03-06T08:28:33.766958Z",
     "iopub.status.busy": "2023-03-06T08:28:33.766558Z",
     "iopub.status.idle": "2023-03-06T08:28:33.778066Z",
     "shell.execute_reply": "2023-03-06T08:28:33.776814Z"
    },
    "papermill": {
     "duration": 0.022998,
     "end_time": "2023-03-06T08:28:33.780622",
     "exception": false,
     "start_time": "2023-03-06T08:28:33.757624",
     "status": "completed"
    },
    "tags": []
   },
   "outputs": [
    {
     "data": {
      "text/plain": [
       "array([2, 0, 3, 1, 4])"
      ]
     },
     "execution_count": 4,
     "metadata": {},
     "output_type": "execute_result"
    }
   ],
   "source": [
    "df[\"AdoptionSpeed\"].unique()"
   ]
  },
  {
   "cell_type": "markdown",
   "id": "de973831",
   "metadata": {
    "papermill": {
     "duration": 0.007572,
     "end_time": "2023-03-06T08:28:33.796076",
     "exception": false,
     "start_time": "2023-03-06T08:28:33.788504",
     "status": "completed"
    },
    "tags": []
   },
   "source": [
    "# Splitting dataset into test, train and validation sets"
   ]
  },
  {
   "cell_type": "code",
   "execution_count": 5,
   "id": "68a1a326",
   "metadata": {
    "execution": {
     "iopub.execute_input": "2023-03-06T08:28:33.814077Z",
     "iopub.status.busy": "2023-03-06T08:28:33.813688Z",
     "iopub.status.idle": "2023-03-06T08:28:33.828535Z",
     "shell.execute_reply": "2023-03-06T08:28:33.827469Z"
    },
    "papermill": {
     "duration": 0.026477,
     "end_time": "2023-03-06T08:28:33.831322",
     "exception": false,
     "start_time": "2023-03-06T08:28:33.804845",
     "status": "completed"
    },
    "tags": []
   },
   "outputs": [],
   "source": [
    "# We're changing target to adopted or not; i.e; 1 and 0\n",
    "df['target'] = np.where(df['AdoptionSpeed']==4, 0, 1)\n",
    "\n",
    "# Drop un-used columns\n",
    "df = df.drop(columns=['AdoptionSpeed', 'Description'])"
   ]
  },
  {
   "cell_type": "code",
   "execution_count": 6,
   "id": "2fb9be61",
   "metadata": {
    "execution": {
     "iopub.execute_input": "2023-03-06T08:28:33.849178Z",
     "iopub.status.busy": "2023-03-06T08:28:33.848481Z",
     "iopub.status.idle": "2023-03-06T08:28:33.866403Z",
     "shell.execute_reply": "2023-03-06T08:28:33.865009Z"
    },
    "papermill": {
     "duration": 0.030838,
     "end_time": "2023-03-06T08:28:33.869670",
     "exception": false,
     "start_time": "2023-03-06T08:28:33.838832",
     "status": "completed"
    },
    "tags": []
   },
   "outputs": [
    {
     "name": "stdout",
     "output_type": "stream",
     "text": [
      "7383 train examples\n",
      "1846 validation examples\n",
      "2308 test examples\n"
     ]
    }
   ],
   "source": [
    "train, test = train_test_split(df, test_size=0.2)\n",
    "train, val = train_test_split(train, test_size=0.2)\n",
    "print(len(train), 'train examples')\n",
    "print(len(val), 'validation examples')\n",
    "print(len(test), 'test examples')"
   ]
  },
  {
   "cell_type": "code",
   "execution_count": 7,
   "id": "17e61430",
   "metadata": {
    "execution": {
     "iopub.execute_input": "2023-03-06T08:28:33.887235Z",
     "iopub.status.busy": "2023-03-06T08:28:33.886790Z",
     "iopub.status.idle": "2023-03-06T08:28:33.894466Z",
     "shell.execute_reply": "2023-03-06T08:28:33.893034Z"
    },
    "papermill": {
     "duration": 0.0197,
     "end_time": "2023-03-06T08:28:33.897298",
     "exception": false,
     "start_time": "2023-03-06T08:28:33.877598",
     "status": "completed"
    },
    "tags": []
   },
   "outputs": [],
   "source": [
    "# Function to convert Pandas dataframe to tf.data dataset\n",
    "\n",
    "def df_to_dataset(dataframe, shuffle=True, batch_size=32):\n",
    "  dataframe = dataframe.copy()\n",
    "  labels = dataframe.pop('target')\n",
    "  ds = tf.data.Dataset.from_tensor_slices((dict(dataframe), labels))\n",
    "  if shuffle:\n",
    "    ds = ds.shuffle(buffer_size=len(dataframe))\n",
    "  ds = ds.batch(batch_size)\n",
    "  return ds"
   ]
  },
  {
   "cell_type": "markdown",
   "id": "9c06b672",
   "metadata": {
    "papermill": {
     "duration": 0.007368,
     "end_time": "2023-03-06T08:28:33.912394",
     "exception": false,
     "start_time": "2023-03-06T08:28:33.905026",
     "status": "completed"
    },
    "tags": []
   },
   "source": [
    "# Examples of types of transforms"
   ]
  },
  {
   "cell_type": "code",
   "execution_count": 8,
   "id": "a45b30cb",
   "metadata": {
    "execution": {
     "iopub.execute_input": "2023-03-06T08:28:33.930365Z",
     "iopub.status.busy": "2023-03-06T08:28:33.929088Z",
     "iopub.status.idle": "2023-03-06T08:28:34.125512Z",
     "shell.execute_reply": "2023-03-06T08:28:34.124207Z"
    },
    "papermill": {
     "duration": 0.208632,
     "end_time": "2023-03-06T08:28:34.128725",
     "exception": false,
     "start_time": "2023-03-06T08:28:33.920093",
     "status": "completed"
    },
    "tags": []
   },
   "outputs": [],
   "source": [
    "batch_size=5 # Just to show examples\n",
    "train_ds = df_to_dataset(train, batch_size=batch_size)\n",
    "test_ds = df_to_dataset(test, shuffle=False, batch_size=batch_size)\n",
    "val_ds = df_to_dataset(val, shuffle=False, batch_size=batch_size)"
   ]
  },
  {
   "cell_type": "code",
   "execution_count": 9,
   "id": "e07155c9",
   "metadata": {
    "execution": {
     "iopub.execute_input": "2023-03-06T08:28:34.146505Z",
     "iopub.status.busy": "2023-03-06T08:28:34.146016Z",
     "iopub.status.idle": "2023-03-06T08:28:34.359436Z",
     "shell.execute_reply": "2023-03-06T08:28:34.357883Z"
    },
    "papermill": {
     "duration": 0.226461,
     "end_time": "2023-03-06T08:28:34.362775",
     "exception": false,
     "start_time": "2023-03-06T08:28:34.136314",
     "status": "completed"
    },
    "tags": []
   },
   "outputs": [],
   "source": [
    "# We will use this batch to demonstrate several types of feature columns\n",
    "example_batch = next(iter(train_ds))[0]\n",
    "\n",
    "# Demo funtion to show outputs\n",
    "def demo(feature_column):\n",
    "  feature_layer = layers.DenseFeatures(feature_column)\n",
    "  print(feature_layer(example_batch).numpy())"
   ]
  },
  {
   "cell_type": "code",
   "execution_count": 10,
   "id": "57dc2bc5",
   "metadata": {
    "execution": {
     "iopub.execute_input": "2023-03-06T08:28:34.381459Z",
     "iopub.status.busy": "2023-03-06T08:28:34.380101Z",
     "iopub.status.idle": "2023-03-06T08:28:34.448776Z",
     "shell.execute_reply": "2023-03-06T08:28:34.446612Z"
    },
    "papermill": {
     "duration": 0.082183,
     "end_time": "2023-03-06T08:28:34.452794",
     "exception": false,
     "start_time": "2023-03-06T08:28:34.370611",
     "status": "completed"
    },
    "tags": []
   },
   "outputs": [
    {
     "name": "stdout",
     "output_type": "stream",
     "text": [
      "[[0.]\n",
      " [1.]\n",
      " [7.]\n",
      " [5.]\n",
      " [1.]]\n"
     ]
    }
   ],
   "source": [
    "# Numeric Column\n",
    "photo_count = feature_column.numeric_column('PhotoAmt')\n",
    "demo(photo_count)"
   ]
  },
  {
   "cell_type": "code",
   "execution_count": 11,
   "id": "dec38ae5",
   "metadata": {
    "execution": {
     "iopub.execute_input": "2023-03-06T08:28:34.471176Z",
     "iopub.status.busy": "2023-03-06T08:28:34.470714Z",
     "iopub.status.idle": "2023-03-06T08:28:34.491144Z",
     "shell.execute_reply": "2023-03-06T08:28:34.489667Z"
    },
    "papermill": {
     "duration": 0.032932,
     "end_time": "2023-03-06T08:28:34.493905",
     "exception": false,
     "start_time": "2023-03-06T08:28:34.460973",
     "status": "completed"
    },
    "tags": []
   },
   "outputs": [
    {
     "name": "stdout",
     "output_type": "stream",
     "text": [
      "[[0. 0. 0. 1.]\n",
      " [0. 0. 0. 1.]\n",
      " [0. 0. 0. 1.]\n",
      " [0. 0. 0. 1.]\n",
      " [0. 1. 0. 0.]]\n"
     ]
    }
   ],
   "source": [
    "#Bucketized column\n",
    "age = feature_column.numeric_column('Age')\n",
    "age_buckets = feature_column.bucketized_column(age, boundaries=[1, 3, 5])\n",
    "demo(age_buckets)"
   ]
  },
  {
   "cell_type": "code",
   "execution_count": 12,
   "id": "87b177ac",
   "metadata": {
    "execution": {
     "iopub.execute_input": "2023-03-06T08:28:34.511930Z",
     "iopub.status.busy": "2023-03-06T08:28:34.511450Z",
     "iopub.status.idle": "2023-03-06T08:28:34.578810Z",
     "shell.execute_reply": "2023-03-06T08:28:34.577472Z"
    },
    "papermill": {
     "duration": 0.080207,
     "end_time": "2023-03-06T08:28:34.582020",
     "exception": false,
     "start_time": "2023-03-06T08:28:34.501813",
     "status": "completed"
    },
    "tags": []
   },
   "outputs": [
    {
     "name": "stdout",
     "output_type": "stream",
     "text": [
      "[[0. 1.]\n",
      " [0. 1.]\n",
      " [1. 0.]\n",
      " [1. 0.]\n",
      " [1. 0.]]\n"
     ]
    }
   ],
   "source": [
    "# Categorical Column\n",
    "animal_type = feature_column.categorical_column_with_vocabulary_list('Type', ['Cat', 'Dog'])\n",
    "\n",
    "animal_type_one_hot = feature_column.indicator_column(animal_type)\n",
    "demo(animal_type_one_hot)"
   ]
  },
  {
   "cell_type": "code",
   "execution_count": 13,
   "id": "b91f75aa",
   "metadata": {
    "execution": {
     "iopub.execute_input": "2023-03-06T08:28:34.600257Z",
     "iopub.status.busy": "2023-03-06T08:28:34.599785Z",
     "iopub.status.idle": "2023-03-06T08:28:34.728768Z",
     "shell.execute_reply": "2023-03-06T08:28:34.727179Z"
    },
    "papermill": {
     "duration": 0.141479,
     "end_time": "2023-03-06T08:28:34.731561",
     "exception": false,
     "start_time": "2023-03-06T08:28:34.590082",
     "status": "completed"
    },
    "tags": []
   },
   "outputs": [
    {
     "name": "stdout",
     "output_type": "stream",
     "text": [
      "[[-0.04949184  0.24948318 -0.03266084  0.42500082  0.70691466  0.0572838\n",
      "   0.17635192  0.19759831]\n",
      " [ 0.09084342 -0.37408945  0.20877913 -0.35410488  0.08557156  0.04221291\n",
      "   0.05211003  0.12776087]\n",
      " [-0.0199446  -0.01025164  0.13671662 -0.14664555 -0.08698592 -0.1046999\n",
      "  -0.05640865  0.24487662]\n",
      " [ 0.68686754 -0.66422445  0.40631634 -0.22062324 -0.37116402 -0.4213966\n",
      "   0.36919942  0.41410142]\n",
      " [ 0.68686754 -0.66422445  0.40631634 -0.22062324 -0.37116402 -0.4213966\n",
      "   0.36919942  0.41410142]]\n"
     ]
    }
   ],
   "source": [
    "# Embedding Column\n",
    "breed1 = feature_column.categorical_column_with_vocabulary_list('Breed1', df.Breed1.unique())\n",
    "breed1_embedding = feature_column.embedding_column(breed1, dimension=8)\n",
    "demo(breed1_embedding)"
   ]
  },
  {
   "cell_type": "code",
   "execution_count": 14,
   "id": "90f92630",
   "metadata": {
    "execution": {
     "iopub.execute_input": "2023-03-06T08:28:34.750826Z",
     "iopub.status.busy": "2023-03-06T08:28:34.749617Z",
     "iopub.status.idle": "2023-03-06T08:28:34.769186Z",
     "shell.execute_reply": "2023-03-06T08:28:34.766800Z"
    },
    "papermill": {
     "duration": 0.032099,
     "end_time": "2023-03-06T08:28:34.772247",
     "exception": false,
     "start_time": "2023-03-06T08:28:34.740148",
     "status": "completed"
    },
    "tags": []
   },
   "outputs": [
    {
     "name": "stdout",
     "output_type": "stream",
     "text": [
      "[[0. 0. 0. 0. 0. 0. 0. 1. 0. 0.]\n",
      " [1. 0. 0. 0. 0. 0. 0. 0. 0. 0.]\n",
      " [0. 0. 0. 0. 0. 0. 0. 0. 0. 1.]\n",
      " [0. 0. 0. 0. 1. 0. 0. 0. 0. 0.]\n",
      " [0. 0. 0. 0. 1. 0. 0. 0. 0. 0.]]\n"
     ]
    }
   ],
   "source": [
    "#Hashing Column\n",
    "breed1_hashed = feature_column.categorical_column_with_hash_bucket('Breed1', hash_bucket_size=10)\n",
    "demo(feature_column.indicator_column(breed1_hashed))"
   ]
  },
  {
   "cell_type": "code",
   "execution_count": 15,
   "id": "7ce2312d",
   "metadata": {
    "execution": {
     "iopub.execute_input": "2023-03-06T08:28:34.790195Z",
     "iopub.status.busy": "2023-03-06T08:28:34.789760Z",
     "iopub.status.idle": "2023-03-06T08:28:34.841894Z",
     "shell.execute_reply": "2023-03-06T08:28:34.840132Z"
    },
    "papermill": {
     "duration": 0.064251,
     "end_time": "2023-03-06T08:28:34.844668",
     "exception": false,
     "start_time": "2023-03-06T08:28:34.780417",
     "status": "completed"
    },
    "tags": []
   },
   "outputs": [
    {
     "name": "stdout",
     "output_type": "stream",
     "text": [
      "[[0. 0. 0. 0. 0. 0. 0. 0. 1. 0.]\n",
      " [0. 0. 0. 0. 0. 0. 0. 0. 1. 0.]\n",
      " [1. 0. 0. 0. 0. 0. 0. 0. 0. 0.]\n",
      " [1. 0. 0. 0. 0. 0. 0. 0. 0. 0.]\n",
      " [0. 0. 0. 1. 0. 0. 0. 0. 0. 0.]]\n"
     ]
    }
   ],
   "source": [
    "#Crossed feature columns\n",
    "crossed_feature = feature_column.crossed_column([age_buckets, animal_type], hash_bucket_size=10)\n",
    "demo(feature_column.indicator_column(crossed_feature))"
   ]
  },
  {
   "cell_type": "markdown",
   "id": "d69635fc",
   "metadata": {
    "papermill": {
     "duration": 0.008369,
     "end_time": "2023-03-06T08:28:34.862432",
     "exception": false,
     "start_time": "2023-03-06T08:28:34.854063",
     "status": "completed"
    },
    "tags": []
   },
   "source": [
    "# Feature engineering with Tensorflow "
   ]
  },
  {
   "cell_type": "code",
   "execution_count": 16,
   "id": "fcbfc2df",
   "metadata": {
    "execution": {
     "iopub.execute_input": "2023-03-06T08:28:34.881566Z",
     "iopub.status.busy": "2023-03-06T08:28:34.880805Z",
     "iopub.status.idle": "2023-03-06T08:28:34.902210Z",
     "shell.execute_reply": "2023-03-06T08:28:34.900891Z"
    },
    "papermill": {
     "duration": 0.034257,
     "end_time": "2023-03-06T08:28:34.905346",
     "exception": false,
     "start_time": "2023-03-06T08:28:34.871089",
     "status": "completed"
    },
    "tags": []
   },
   "outputs": [],
   "source": [
    "feature_columns = []\n",
    "\n",
    "# numeric cols\n",
    "for header in ['PhotoAmt', 'Fee', 'Age']:\n",
    "  feature_columns.append(feature_column.numeric_column(header))\n",
    "\n",
    "# bucketized cols\n",
    "age = feature_column.numeric_column('Age')\n",
    "age_buckets = feature_column.bucketized_column(age, boundaries=[1, 2, 3, 4, 5])\n",
    "feature_columns.append(age_buckets)\n",
    "\n",
    "# indicator_columns\n",
    "indicator_column_names = ['Type', 'Color1', 'Color2', 'Gender', 'MaturitySize',\n",
    "                          'FurLength', 'Vaccinated', 'Sterilized', 'Health']\n",
    "for col_name in indicator_column_names:\n",
    "  categorical_column = feature_column.categorical_column_with_vocabulary_list(col_name, df[col_name].unique())\n",
    "  indicator_column = feature_column.indicator_column(categorical_column)\n",
    "  feature_columns.append(indicator_column)\n",
    "\n",
    "# embedding columns\n",
    "breed1 = feature_column.categorical_column_with_vocabulary_list('Breed1', df.Breed1.unique())\n",
    "breed1_embedding = feature_column.embedding_column(breed1, dimension=8)\n",
    "feature_columns.append(breed1_embedding)\n",
    "\n",
    "# crossed columns\n",
    "age_type_feature = feature_column.crossed_column([age_buckets, animal_type], hash_bucket_size=100)\n",
    "feature_columns.append(feature_column.indicator_column(age_type_feature))"
   ]
  },
  {
   "cell_type": "markdown",
   "id": "26bfc4c5",
   "metadata": {
    "papermill": {
     "duration": 0.00765,
     "end_time": "2023-03-06T08:28:34.921215",
     "exception": false,
     "start_time": "2023-03-06T08:28:34.913565",
     "status": "completed"
    },
    "tags": []
   },
   "source": [
    "# Model training"
   ]
  },
  {
   "cell_type": "code",
   "execution_count": 17,
   "id": "ce3b32de",
   "metadata": {
    "execution": {
     "iopub.execute_input": "2023-03-06T08:28:34.939176Z",
     "iopub.status.busy": "2023-03-06T08:28:34.938731Z",
     "iopub.status.idle": "2023-03-06T08:28:35.008141Z",
     "shell.execute_reply": "2023-03-06T08:28:35.006782Z"
    },
    "papermill": {
     "duration": 0.081962,
     "end_time": "2023-03-06T08:28:35.011241",
     "exception": false,
     "start_time": "2023-03-06T08:28:34.929279",
     "status": "completed"
    },
    "tags": []
   },
   "outputs": [],
   "source": [
    "feature_layer = tf.keras.layers.DenseFeatures(feature_columns)\n",
    "\n",
    "batch_size = 32\n",
    "train_ds = df_to_dataset(train, batch_size=batch_size)\n",
    "test_ds = df_to_dataset(test, shuffle=False, batch_size=batch_size)\n",
    "val_ds = df_to_dataset(val, shuffle=False, batch_size=batch_size)"
   ]
  },
  {
   "cell_type": "code",
   "execution_count": 18,
   "id": "2da51d47",
   "metadata": {
    "execution": {
     "iopub.execute_input": "2023-03-06T08:28:35.029539Z",
     "iopub.status.busy": "2023-03-06T08:28:35.029068Z",
     "iopub.status.idle": "2023-03-06T08:28:55.726312Z",
     "shell.execute_reply": "2023-03-06T08:28:55.724693Z"
    },
    "papermill": {
     "duration": 20.71023,
     "end_time": "2023-03-06T08:28:55.729756",
     "exception": false,
     "start_time": "2023-03-06T08:28:35.019526",
     "status": "completed"
    },
    "tags": []
   },
   "outputs": [
    {
     "name": "stdout",
     "output_type": "stream",
     "text": [
      "Epoch 1/10\n",
      "231/231 [==============================] - 4s 8ms/step - loss: 0.6774 - accuracy: 0.6967 - val_loss: 0.5548 - val_accuracy: 0.6703\n",
      "Epoch 2/10\n",
      "231/231 [==============================] - 1s 5ms/step - loss: 0.5604 - accuracy: 0.7175 - val_loss: 0.5595 - val_accuracy: 0.7318\n",
      "Epoch 3/10\n",
      "231/231 [==============================] - 1s 6ms/step - loss: 0.5272 - accuracy: 0.7249 - val_loss: 0.5242 - val_accuracy: 0.7106\n",
      "Epoch 4/10\n",
      "231/231 [==============================] - 2s 6ms/step - loss: 0.4957 - accuracy: 0.7362 - val_loss: 0.5118 - val_accuracy: 0.7331\n",
      "Epoch 5/10\n",
      "231/231 [==============================] - 2s 6ms/step - loss: 0.4905 - accuracy: 0.7408 - val_loss: 0.5144 - val_accuracy: 0.7266\n",
      "Epoch 6/10\n",
      "231/231 [==============================] - 1s 6ms/step - loss: 0.4818 - accuracy: 0.7482 - val_loss: 0.5210 - val_accuracy: 0.6893\n",
      "Epoch 7/10\n",
      "231/231 [==============================] - 1s 6ms/step - loss: 0.4786 - accuracy: 0.7531 - val_loss: 0.5193 - val_accuracy: 0.7409\n",
      "Epoch 8/10\n",
      "231/231 [==============================] - 1s 5ms/step - loss: 0.4746 - accuracy: 0.7551 - val_loss: 0.5314 - val_accuracy: 0.7344\n",
      "Epoch 9/10\n",
      "231/231 [==============================] - 1s 5ms/step - loss: 0.4681 - accuracy: 0.7552 - val_loss: 0.5249 - val_accuracy: 0.7387\n",
      "Epoch 10/10\n",
      "231/231 [==============================] - 1s 6ms/step - loss: 0.4635 - accuracy: 0.7570 - val_loss: 0.5166 - val_accuracy: 0.7071\n"
     ]
    }
   ],
   "source": [
    "model = tf.keras.Sequential([\n",
    "  feature_layer,\n",
    "  layers.Dense(128, activation='relu'),\n",
    "  layers.Dense(128, activation='relu'),\n",
    "  layers.Dropout(.1),\n",
    "  layers.Dense(1)\n",
    "])\n",
    "\n",
    "model.compile(optimizer='adam',\n",
    "              loss=tf.keras.losses.BinaryCrossentropy(from_logits=True),\n",
    "              metrics=['accuracy'])\n",
    "\n",
    "history=model.fit(train_ds,\n",
    "          validation_data=test_ds,\n",
    "          epochs=10)"
   ]
  },
  {
   "cell_type": "markdown",
   "id": "353b7a16",
   "metadata": {
    "papermill": {
     "duration": 0.022576,
     "end_time": "2023-03-06T08:28:55.774697",
     "exception": false,
     "start_time": "2023-03-06T08:28:55.752121",
     "status": "completed"
    },
    "tags": []
   },
   "source": [
    "# Plotting Accuracy and Loss"
   ]
  },
  {
   "cell_type": "code",
   "execution_count": 19,
   "id": "374aab5c",
   "metadata": {
    "execution": {
     "iopub.execute_input": "2023-03-06T08:28:55.821003Z",
     "iopub.status.busy": "2023-03-06T08:28:55.820562Z",
     "iopub.status.idle": "2023-03-06T08:28:55.829314Z",
     "shell.execute_reply": "2023-03-06T08:28:55.827931Z"
    },
    "papermill": {
     "duration": 0.035651,
     "end_time": "2023-03-06T08:28:55.832261",
     "exception": false,
     "start_time": "2023-03-06T08:28:55.796610",
     "status": "completed"
    },
    "tags": []
   },
   "outputs": [],
   "source": [
    "import matplotlib.pyplot as plt\n",
    "\n",
    "# Plotting accuracy and loss\n",
    "def plot_curves(history, metrics):\n",
    "    nrows = 1\n",
    "    ncols = 2\n",
    "    fig = plt.figure(figsize=(10, 5))\n",
    "\n",
    "    for idx, key in enumerate(metrics):  \n",
    "        ax = fig.add_subplot(nrows, ncols, idx+1)\n",
    "        plt.plot(history.history[key])\n",
    "        plt.plot(history.history['val_{}'.format(key)])\n",
    "        plt.title('model {}'.format(key))\n",
    "        plt.ylabel(key)\n",
    "        plt.xlabel('epoch')\n",
    "        plt.legend(['train', 'validation'], loc='upper left'); "
   ]
  },
  {
   "cell_type": "code",
   "execution_count": 20,
   "id": "892ce700",
   "metadata": {
    "execution": {
     "iopub.execute_input": "2023-03-06T08:28:55.879787Z",
     "iopub.status.busy": "2023-03-06T08:28:55.879380Z",
     "iopub.status.idle": "2023-03-06T08:28:56.311291Z",
     "shell.execute_reply": "2023-03-06T08:28:56.309734Z"
    },
    "papermill": {
     "duration": 0.45964,
     "end_time": "2023-03-06T08:28:56.314221",
     "exception": false,
     "start_time": "2023-03-06T08:28:55.854581",
     "status": "completed"
    },
    "tags": []
   },
   "outputs": [
    {
     "data": {
      "image/png": "[encoded data removed]",
      "text/plain": [
       "<Figure size 1000x500 with 2 Axes>"
      ]
     },
     "metadata": {},
     "output_type": "display_data"
    }
   ],
   "source": [
    "plot_curves(history, ['loss', 'accuracy'])"
   ]
  },
  {
   "cell_type": "markdown",
   "id": "ce4b58dc",
   "metadata": {
    "papermill": {
     "duration": 0.022528,
     "end_time": "2023-03-06T08:28:56.361015",
     "exception": false,
     "start_time": "2023-03-06T08:28:56.338487",
     "status": "completed"
    },
    "tags": []
   },
   "source": [
    "# Prediction accuracy"
   ]
  },
  {
   "cell_type": "code",
   "execution_count": 21,
   "id": "afc02d45",
   "metadata": {
    "execution": {
     "iopub.execute_input": "2023-03-06T08:28:56.408853Z",
     "iopub.status.busy": "2023-03-06T08:28:56.408381Z",
     "iopub.status.idle": "2023-03-06T08:28:56.739029Z",
     "shell.execute_reply": "2023-03-06T08:28:56.737279Z"
    },
    "papermill": {
     "duration": 0.358494,
     "end_time": "2023-03-06T08:28:56.742312",
     "exception": false,
     "start_time": "2023-03-06T08:28:56.383818",
     "status": "completed"
    },
    "tags": []
   },
   "outputs": [
    {
     "name": "stdout",
     "output_type": "stream",
     "text": [
      "73/73 [==============================] - 0s 3ms/step - loss: 0.5166 - accuracy: 0.7071\n",
      "Accuracy 0.7071056962013245\n"
     ]
    }
   ],
   "source": [
    "loss, accuracy = model.evaluate(test_ds)\n",
    "print(\"Accuracy\", accuracy)"
   ]
  }
 ],
 "metadata": {
  "kernelspec": {
   "display_name": "Python 3",
   "language": "python",
   "name": "python3"
  },
  "language_info": {
   "codemirror_mode": {
    "name": "ipython",
    "version": 3
   },
   "file_extension": ".py",
   "mimetype": "text/x-python",
   "name": "python",
   "nbconvert_exporter": "python",
   "pygments_lexer": "ipython3",
   "version": "3.7.12"
  },
  "papermill": {
   "default_parameters": {},
   "duration": 48.87474,
   "end_time": "2023-03-06T08:28:59.879233",
   "environment_variables": {},
   "exception": null,
   "input_path": "__notebook__.ipynb",
   "output_path": "__notebook__.ipynb",
   "parameters": {},
   "start_time": "2023-03-06T08:28:11.004493",
   "version": "2.4.0"
  }
 },
 "nbformat": 4,
 "nbformat_minor": 5
}
